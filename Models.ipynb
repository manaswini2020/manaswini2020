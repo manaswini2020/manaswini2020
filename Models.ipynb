{
 "cells": [
  {
   "cell_type": "markdown",
   "id": "1459b3c2-36b3-4aef-9e8c-c4b7cc4cf33b",
   "metadata": {},
   "source": [
    "## Data Import"
   ]
  },
  {
   "cell_type": "code",
   "execution_count": 81,
   "id": "894a41ec-550f-47ae-a00a-c86058152f7f",
   "metadata": {},
   "outputs": [
    {
     "data": {
      "text/html": [
       "<div>\n",
       "<style scoped>\n",
       "    .dataframe tbody tr th:only-of-type {\n",
       "        vertical-align: middle;\n",
       "    }\n",
       "\n",
       "    .dataframe tbody tr th {\n",
       "        vertical-align: top;\n",
       "    }\n",
       "\n",
       "    .dataframe thead th {\n",
       "        text-align: right;\n",
       "    }\n",
       "</style>\n",
       "<table border=\"1\" class=\"dataframe\">\n",
       "  <thead>\n",
       "    <tr style=\"text-align: right;\">\n",
       "      <th></th>\n",
       "      <th>AVG_MIN_BETWEEN_RECEIVED_TNX</th>\n",
       "      <th>AVG_MIN_BETWEEN_SENT_TNX</th>\n",
       "      <th>AVG_VALUE_RECEIVED</th>\n",
       "      <th>AVG_VALUE_SENT</th>\n",
       "      <th>ERC20_AVG_TIME_BETWEEN_REC_TNX</th>\n",
       "      <th>ERC20_AVG_TIME_BETWEEN_SENT_TNX</th>\n",
       "      <th>ERC20_UNIQ_REC_ADDR</th>\n",
       "      <th>ERC20_UNIQ_SENT_ADDR</th>\n",
       "      <th>FLAG</th>\n",
       "      <th>MAX_VALUE_RECEIVED</th>\n",
       "      <th>...</th>\n",
       "      <th>RECIEVED_TNX</th>\n",
       "      <th>SENT_TNX</th>\n",
       "      <th>TIME_DIFF_BETWEEN_FIRST_AND_LAST_(MINS)</th>\n",
       "      <th>TOTAL_ERC20_TNXS</th>\n",
       "      <th>TOTAL_ETHER_BALANCE</th>\n",
       "      <th>TOTAL_ETHER_RECEIVED</th>\n",
       "      <th>TOTAL_ETHER_SENT</th>\n",
       "      <th>TOTAL_TRANSACTIONS(INCLUDING_TNX_TO_CREATE_CONTRACT)</th>\n",
       "      <th>UNIQUE_RECEIVED_FROM_ADDRESSES</th>\n",
       "      <th>UNIQUE_SENT_TO_ADDRESSES</th>\n",
       "    </tr>\n",
       "  </thead>\n",
       "  <tbody>\n",
       "    <tr>\n",
       "      <th>0</th>\n",
       "      <td>7179.838889</td>\n",
       "      <td>2.246021</td>\n",
       "      <td>30.009950</td>\n",
       "      <td>0.000000</td>\n",
       "      <td>1.800229e+03</td>\n",
       "      <td>0.000000</td>\n",
       "      <td>207</td>\n",
       "      <td>1</td>\n",
       "      <td>0</td>\n",
       "      <td>100.000000</td>\n",
       "      <td>...</td>\n",
       "      <td>4</td>\n",
       "      <td>9996</td>\n",
       "      <td>22517.050000</td>\n",
       "      <td>315</td>\n",
       "      <td>37.708314</td>\n",
       "      <td>120.039800</td>\n",
       "      <td>0.000000</td>\n",
       "      <td>10000</td>\n",
       "      <td>4</td>\n",
       "      <td>1</td>\n",
       "    </tr>\n",
       "    <tr>\n",
       "      <th>1</th>\n",
       "      <td>0.000000</td>\n",
       "      <td>0.000000</td>\n",
       "      <td>0.012094</td>\n",
       "      <td>0.000000</td>\n",
       "      <td>0.000000e+00</td>\n",
       "      <td>0.000000</td>\n",
       "      <td>0</td>\n",
       "      <td>0</td>\n",
       "      <td>0</td>\n",
       "      <td>0.012094</td>\n",
       "      <td>...</td>\n",
       "      <td>1</td>\n",
       "      <td>0</td>\n",
       "      <td>0.000000</td>\n",
       "      <td>0</td>\n",
       "      <td>0.000000</td>\n",
       "      <td>0.012094</td>\n",
       "      <td>0.000000</td>\n",
       "      <td>1</td>\n",
       "      <td>1</td>\n",
       "      <td>0</td>\n",
       "    </tr>\n",
       "    <tr>\n",
       "      <th>2</th>\n",
       "      <td>0.000000</td>\n",
       "      <td>0.000000</td>\n",
       "      <td>0.028257</td>\n",
       "      <td>0.027851</td>\n",
       "      <td>0.000000e+00</td>\n",
       "      <td>0.000000</td>\n",
       "      <td>0</td>\n",
       "      <td>0</td>\n",
       "      <td>0</td>\n",
       "      <td>0.028257</td>\n",
       "      <td>...</td>\n",
       "      <td>1</td>\n",
       "      <td>1</td>\n",
       "      <td>0.200000</td>\n",
       "      <td>0</td>\n",
       "      <td>0.000000</td>\n",
       "      <td>0.028257</td>\n",
       "      <td>0.027851</td>\n",
       "      <td>2</td>\n",
       "      <td>1</td>\n",
       "      <td>1</td>\n",
       "    </tr>\n",
       "    <tr>\n",
       "      <th>3</th>\n",
       "      <td>0.000000</td>\n",
       "      <td>0.000000</td>\n",
       "      <td>0.001499</td>\n",
       "      <td>0.000000</td>\n",
       "      <td>1.200000e+00</td>\n",
       "      <td>0.000000</td>\n",
       "      <td>2</td>\n",
       "      <td>1</td>\n",
       "      <td>0</td>\n",
       "      <td>0.001499</td>\n",
       "      <td>...</td>\n",
       "      <td>1</td>\n",
       "      <td>1</td>\n",
       "      <td>2.000000</td>\n",
       "      <td>3</td>\n",
       "      <td>0.000843</td>\n",
       "      <td>0.001499</td>\n",
       "      <td>0.000000</td>\n",
       "      <td>2</td>\n",
       "      <td>1</td>\n",
       "      <td>1</td>\n",
       "    </tr>\n",
       "    <tr>\n",
       "      <th>4</th>\n",
       "      <td>0.000000</td>\n",
       "      <td>0.000000</td>\n",
       "      <td>0.057089</td>\n",
       "      <td>0.056683</td>\n",
       "      <td>0.000000e+00</td>\n",
       "      <td>0.000000</td>\n",
       "      <td>0</td>\n",
       "      <td>0</td>\n",
       "      <td>0</td>\n",
       "      <td>0.057089</td>\n",
       "      <td>...</td>\n",
       "      <td>1</td>\n",
       "      <td>1</td>\n",
       "      <td>0.200000</td>\n",
       "      <td>0</td>\n",
       "      <td>0.000000</td>\n",
       "      <td>0.057089</td>\n",
       "      <td>0.056683</td>\n",
       "      <td>2</td>\n",
       "      <td>1</td>\n",
       "      <td>1</td>\n",
       "    </tr>\n",
       "    <tr>\n",
       "      <th>...</th>\n",
       "      <td>...</td>\n",
       "      <td>...</td>\n",
       "      <td>...</td>\n",
       "      <td>...</td>\n",
       "      <td>...</td>\n",
       "      <td>...</td>\n",
       "      <td>...</td>\n",
       "      <td>...</td>\n",
       "      <td>...</td>\n",
       "      <td>...</td>\n",
       "      <td>...</td>\n",
       "      <td>...</td>\n",
       "      <td>...</td>\n",
       "      <td>...</td>\n",
       "      <td>...</td>\n",
       "      <td>...</td>\n",
       "      <td>...</td>\n",
       "      <td>...</td>\n",
       "      <td>...</td>\n",
       "      <td>...</td>\n",
       "      <td>...</td>\n",
       "    </tr>\n",
       "    <tr>\n",
       "      <th>22539</th>\n",
       "      <td>318.741667</td>\n",
       "      <td>0.000000</td>\n",
       "      <td>0.412773</td>\n",
       "      <td>1.237457</td>\n",
       "      <td>1.924054e+06</td>\n",
       "      <td>0.000000</td>\n",
       "      <td>2</td>\n",
       "      <td>0</td>\n",
       "      <td>1</td>\n",
       "      <td>0.520000</td>\n",
       "      <td>...</td>\n",
       "      <td>3</td>\n",
       "      <td>1</td>\n",
       "      <td>19371.600000</td>\n",
       "      <td>2</td>\n",
       "      <td>0.000000</td>\n",
       "      <td>1.238318</td>\n",
       "      <td>1.237457</td>\n",
       "      <td>4</td>\n",
       "      <td>3</td>\n",
       "      <td>1</td>\n",
       "    </tr>\n",
       "    <tr>\n",
       "      <th>22540</th>\n",
       "      <td>0.000000</td>\n",
       "      <td>0.000000</td>\n",
       "      <td>0.002904</td>\n",
       "      <td>0.000000</td>\n",
       "      <td>2.400000e+01</td>\n",
       "      <td>0.000000</td>\n",
       "      <td>2</td>\n",
       "      <td>1</td>\n",
       "      <td>1</td>\n",
       "      <td>0.002904</td>\n",
       "      <td>...</td>\n",
       "      <td>1</td>\n",
       "      <td>1</td>\n",
       "      <td>0.200000</td>\n",
       "      <td>3</td>\n",
       "      <td>0.000218</td>\n",
       "      <td>0.002904</td>\n",
       "      <td>0.000000</td>\n",
       "      <td>2</td>\n",
       "      <td>1</td>\n",
       "      <td>1</td>\n",
       "    </tr>\n",
       "    <tr>\n",
       "      <th>22541</th>\n",
       "      <td>0.000000</td>\n",
       "      <td>0.000000</td>\n",
       "      <td>0.003687</td>\n",
       "      <td>0.000000</td>\n",
       "      <td>4.410000e+01</td>\n",
       "      <td>0.000000</td>\n",
       "      <td>2</td>\n",
       "      <td>1</td>\n",
       "      <td>1</td>\n",
       "      <td>0.003687</td>\n",
       "      <td>...</td>\n",
       "      <td>1</td>\n",
       "      <td>1</td>\n",
       "      <td>0.800000</td>\n",
       "      <td>4</td>\n",
       "      <td>0.000398</td>\n",
       "      <td>0.003687</td>\n",
       "      <td>0.000000</td>\n",
       "      <td>2</td>\n",
       "      <td>1</td>\n",
       "      <td>1</td>\n",
       "    </tr>\n",
       "    <tr>\n",
       "      <th>22542</th>\n",
       "      <td>0.000000</td>\n",
       "      <td>4.144444</td>\n",
       "      <td>0.501611</td>\n",
       "      <td>0.380111</td>\n",
       "      <td>3.458446e+05</td>\n",
       "      <td>4.161111</td>\n",
       "      <td>4</td>\n",
       "      <td>2</td>\n",
       "      <td>1</td>\n",
       "      <td>0.501611</td>\n",
       "      <td>...</td>\n",
       "      <td>1</td>\n",
       "      <td>13</td>\n",
       "      <td>93.333333</td>\n",
       "      <td>11</td>\n",
       "      <td>0.000000</td>\n",
       "      <td>0.501611</td>\n",
       "      <td>4.941441</td>\n",
       "      <td>14</td>\n",
       "      <td>1</td>\n",
       "      <td>7</td>\n",
       "    </tr>\n",
       "    <tr>\n",
       "      <th>22543</th>\n",
       "      <td>0.000000</td>\n",
       "      <td>0.000000</td>\n",
       "      <td>0.001663</td>\n",
       "      <td>0.000000</td>\n",
       "      <td>2.400000e+00</td>\n",
       "      <td>0.000000</td>\n",
       "      <td>2</td>\n",
       "      <td>1</td>\n",
       "      <td>1</td>\n",
       "      <td>0.001663</td>\n",
       "      <td>...</td>\n",
       "      <td>1</td>\n",
       "      <td>1</td>\n",
       "      <td>0.400000</td>\n",
       "      <td>3</td>\n",
       "      <td>0.000154</td>\n",
       "      <td>0.001663</td>\n",
       "      <td>0.000000</td>\n",
       "      <td>2</td>\n",
       "      <td>1</td>\n",
       "      <td>1</td>\n",
       "    </tr>\n",
       "  </tbody>\n",
       "</table>\n",
       "<p>22544 rows × 23 columns</p>\n",
       "</div>"
      ],
      "text/plain": [
       "       AVG_MIN_BETWEEN_RECEIVED_TNX  AVG_MIN_BETWEEN_SENT_TNX  \\\n",
       "0                       7179.838889                  2.246021   \n",
       "1                          0.000000                  0.000000   \n",
       "2                          0.000000                  0.000000   \n",
       "3                          0.000000                  0.000000   \n",
       "4                          0.000000                  0.000000   \n",
       "...                             ...                       ...   \n",
       "22539                    318.741667                  0.000000   \n",
       "22540                      0.000000                  0.000000   \n",
       "22541                      0.000000                  0.000000   \n",
       "22542                      0.000000                  4.144444   \n",
       "22543                      0.000000                  0.000000   \n",
       "\n",
       "       AVG_VALUE_RECEIVED  AVG_VALUE_SENT  ERC20_AVG_TIME_BETWEEN_REC_TNX  \\\n",
       "0               30.009950        0.000000                    1.800229e+03   \n",
       "1                0.012094        0.000000                    0.000000e+00   \n",
       "2                0.028257        0.027851                    0.000000e+00   \n",
       "3                0.001499        0.000000                    1.200000e+00   \n",
       "4                0.057089        0.056683                    0.000000e+00   \n",
       "...                   ...             ...                             ...   \n",
       "22539            0.412773        1.237457                    1.924054e+06   \n",
       "22540            0.002904        0.000000                    2.400000e+01   \n",
       "22541            0.003687        0.000000                    4.410000e+01   \n",
       "22542            0.501611        0.380111                    3.458446e+05   \n",
       "22543            0.001663        0.000000                    2.400000e+00   \n",
       "\n",
       "       ERC20_AVG_TIME_BETWEEN_SENT_TNX  ERC20_UNIQ_REC_ADDR  \\\n",
       "0                             0.000000                  207   \n",
       "1                             0.000000                    0   \n",
       "2                             0.000000                    0   \n",
       "3                             0.000000                    2   \n",
       "4                             0.000000                    0   \n",
       "...                                ...                  ...   \n",
       "22539                         0.000000                    2   \n",
       "22540                         0.000000                    2   \n",
       "22541                         0.000000                    2   \n",
       "22542                         4.161111                    4   \n",
       "22543                         0.000000                    2   \n",
       "\n",
       "       ERC20_UNIQ_SENT_ADDR  FLAG  MAX_VALUE_RECEIVED  ...  RECIEVED_TNX  \\\n",
       "0                         1     0          100.000000  ...             4   \n",
       "1                         0     0            0.012094  ...             1   \n",
       "2                         0     0            0.028257  ...             1   \n",
       "3                         1     0            0.001499  ...             1   \n",
       "4                         0     0            0.057089  ...             1   \n",
       "...                     ...   ...                 ...  ...           ...   \n",
       "22539                     0     1            0.520000  ...             3   \n",
       "22540                     1     1            0.002904  ...             1   \n",
       "22541                     1     1            0.003687  ...             1   \n",
       "22542                     2     1            0.501611  ...             1   \n",
       "22543                     1     1            0.001663  ...             1   \n",
       "\n",
       "       SENT_TNX  TIME_DIFF_BETWEEN_FIRST_AND_LAST_(MINS)  TOTAL_ERC20_TNXS  \\\n",
       "0          9996                             22517.050000               315   \n",
       "1             0                                 0.000000                 0   \n",
       "2             1                                 0.200000                 0   \n",
       "3             1                                 2.000000                 3   \n",
       "4             1                                 0.200000                 0   \n",
       "...         ...                                      ...               ...   \n",
       "22539         1                             19371.600000                 2   \n",
       "22540         1                                 0.200000                 3   \n",
       "22541         1                                 0.800000                 4   \n",
       "22542        13                                93.333333                11   \n",
       "22543         1                                 0.400000                 3   \n",
       "\n",
       "       TOTAL_ETHER_BALANCE  TOTAL_ETHER_RECEIVED  TOTAL_ETHER_SENT  \\\n",
       "0                37.708314            120.039800          0.000000   \n",
       "1                 0.000000              0.012094          0.000000   \n",
       "2                 0.000000              0.028257          0.027851   \n",
       "3                 0.000843              0.001499          0.000000   \n",
       "4                 0.000000              0.057089          0.056683   \n",
       "...                    ...                   ...               ...   \n",
       "22539             0.000000              1.238318          1.237457   \n",
       "22540             0.000218              0.002904          0.000000   \n",
       "22541             0.000398              0.003687          0.000000   \n",
       "22542             0.000000              0.501611          4.941441   \n",
       "22543             0.000154              0.001663          0.000000   \n",
       "\n",
       "       TOTAL_TRANSACTIONS(INCLUDING_TNX_TO_CREATE_CONTRACT)  \\\n",
       "0                                                  10000      \n",
       "1                                                      1      \n",
       "2                                                      2      \n",
       "3                                                      2      \n",
       "4                                                      2      \n",
       "...                                                  ...      \n",
       "22539                                                  4      \n",
       "22540                                                  2      \n",
       "22541                                                  2      \n",
       "22542                                                 14      \n",
       "22543                                                  2      \n",
       "\n",
       "       UNIQUE_RECEIVED_FROM_ADDRESSES  UNIQUE_SENT_TO_ADDRESSES  \n",
       "0                                   4                         1  \n",
       "1                                   1                         0  \n",
       "2                                   1                         1  \n",
       "3                                   1                         1  \n",
       "4                                   1                         1  \n",
       "...                               ...                       ...  \n",
       "22539                               3                         1  \n",
       "22540                               1                         1  \n",
       "22541                               1                         1  \n",
       "22542                               1                         7  \n",
       "22543                               1                         1  \n",
       "\n",
       "[22544 rows x 23 columns]"
      ]
     },
     "execution_count": 81,
     "metadata": {},
     "output_type": "execute_result"
    }
   ],
   "source": [
    "import pandas as pd\n",
    "import numpy as np\n",
    "from sklearn.model_selection import train_test_split\n",
    "from sklearn.preprocessing import StandardScaler\n",
    "from tensorflow.keras.layers import Input, Dense\n",
    "from tensorflow.keras.models import Model\n",
    "\n",
    "data_random= pd.read_csv('final_dataset_random_sampled.csv')\n",
    "data_random.drop(data_random.columns[[0,1]], axis=1, inplace=True)\n",
    "data_random.columns = data_random.columns.str.upper()\n",
    "data_random=data_random.sort_index(axis=1)\n",
    "data_random\n",
    "\n",
    "data_coinbase= pd.read_csv('final_dataset_coinbase.csv')\n",
    "data_coinbase.drop(data_coinbase.columns[[0,1]], axis=1, inplace=True)\n",
    "data_coinbase.columns = data_coinbase.columns.str.upper()\n",
    "data_coinbase=data_coinbase.sort_index(axis=1)\n",
    "data_coinbase"
   ]
  },
  {
   "cell_type": "code",
   "execution_count": 82,
   "id": "3f798141-1bf8-4f39-b063-9bd27c8d4848",
   "metadata": {},
   "outputs": [],
   "source": [
    "X = data_random.drop('FLAG', axis=1)\n",
    "Y = data_random['FLAG']\n",
    "X_train, X_test, y_train, y_test = train_test_split(X,Y, random_state=1, test_size=0.30)"
   ]
  },
  {
   "cell_type": "code",
   "execution_count": 83,
   "id": "3b4ec4cb-78b5-4651-aef2-18abc692d42a",
   "metadata": {},
   "outputs": [],
   "source": [
    "Xc = data_coinbase.drop('FLAG', axis=1)\n",
    "Yc = data_coinbase['FLAG']\n",
    "Xc_train, Xc_test, yc_train, yc_test = train_test_split(Xc,Yc, random_state=1, test_size=0.30)"
   ]
  },
  {
   "cell_type": "code",
   "execution_count": null,
   "id": "578a66f5-792f-486f-8be0-e598377d495d",
   "metadata": {},
   "outputs": [],
   "source": []
  },
  {
   "cell_type": "code",
   "execution_count": null,
   "id": "c7cc33c2-783e-4580-bdb5-7cde2195a725",
   "metadata": {},
   "outputs": [],
   "source": []
  },
  {
   "cell_type": "markdown",
   "id": "e8abd1bf-2932-443c-ad0e-323a9062b256",
   "metadata": {},
   "source": [
    "## Random Forest"
   ]
  },
  {
   "cell_type": "markdown",
   "id": "e04cbd95-e4d3-4e7a-abbc-3802b00a7a5a",
   "metadata": {},
   "source": [
    "##### Random Sampling"
   ]
  },
  {
   "cell_type": "code",
   "execution_count": 84,
   "id": "6af2ddf5-6127-4064-ad2a-e23a0f68d064",
   "metadata": {},
   "outputs": [
    {
     "data": {
      "text/html": [
       "<style>#sk-container-id-8 {color: black;}#sk-container-id-8 pre{padding: 0;}#sk-container-id-8 div.sk-toggleable {background-color: white;}#sk-container-id-8 label.sk-toggleable__label {cursor: pointer;display: block;width: 100%;margin-bottom: 0;padding: 0.3em;box-sizing: border-box;text-align: center;}#sk-container-id-8 label.sk-toggleable__label-arrow:before {content: \"▸\";float: left;margin-right: 0.25em;color: #696969;}#sk-container-id-8 label.sk-toggleable__label-arrow:hover:before {color: black;}#sk-container-id-8 div.sk-estimator:hover label.sk-toggleable__label-arrow:before {color: black;}#sk-container-id-8 div.sk-toggleable__content {max-height: 0;max-width: 0;overflow: hidden;text-align: left;background-color: #f0f8ff;}#sk-container-id-8 div.sk-toggleable__content pre {margin: 0.2em;color: black;border-radius: 0.25em;background-color: #f0f8ff;}#sk-container-id-8 input.sk-toggleable__control:checked~div.sk-toggleable__content {max-height: 200px;max-width: 100%;overflow: auto;}#sk-container-id-8 input.sk-toggleable__control:checked~label.sk-toggleable__label-arrow:before {content: \"▾\";}#sk-container-id-8 div.sk-estimator input.sk-toggleable__control:checked~label.sk-toggleable__label {background-color: #d4ebff;}#sk-container-id-8 div.sk-label input.sk-toggleable__control:checked~label.sk-toggleable__label {background-color: #d4ebff;}#sk-container-id-8 input.sk-hidden--visually {border: 0;clip: rect(1px 1px 1px 1px);clip: rect(1px, 1px, 1px, 1px);height: 1px;margin: -1px;overflow: hidden;padding: 0;position: absolute;width: 1px;}#sk-container-id-8 div.sk-estimator {font-family: monospace;background-color: #f0f8ff;border: 1px dotted black;border-radius: 0.25em;box-sizing: border-box;margin-bottom: 0.5em;}#sk-container-id-8 div.sk-estimator:hover {background-color: #d4ebff;}#sk-container-id-8 div.sk-parallel-item::after {content: \"\";width: 100%;border-bottom: 1px solid gray;flex-grow: 1;}#sk-container-id-8 div.sk-label:hover label.sk-toggleable__label {background-color: #d4ebff;}#sk-container-id-8 div.sk-serial::before {content: \"\";position: absolute;border-left: 1px solid gray;box-sizing: border-box;top: 0;bottom: 0;left: 50%;z-index: 0;}#sk-container-id-8 div.sk-serial {display: flex;flex-direction: column;align-items: center;background-color: white;padding-right: 0.2em;padding-left: 0.2em;position: relative;}#sk-container-id-8 div.sk-item {position: relative;z-index: 1;}#sk-container-id-8 div.sk-parallel {display: flex;align-items: stretch;justify-content: center;background-color: white;position: relative;}#sk-container-id-8 div.sk-item::before, #sk-container-id-8 div.sk-parallel-item::before {content: \"\";position: absolute;border-left: 1px solid gray;box-sizing: border-box;top: 0;bottom: 0;left: 50%;z-index: -1;}#sk-container-id-8 div.sk-parallel-item {display: flex;flex-direction: column;z-index: 1;position: relative;background-color: white;}#sk-container-id-8 div.sk-parallel-item:first-child::after {align-self: flex-end;width: 50%;}#sk-container-id-8 div.sk-parallel-item:last-child::after {align-self: flex-start;width: 50%;}#sk-container-id-8 div.sk-parallel-item:only-child::after {width: 0;}#sk-container-id-8 div.sk-dashed-wrapped {border: 1px dashed gray;margin: 0 0.4em 0.5em 0.4em;box-sizing: border-box;padding-bottom: 0.4em;background-color: white;}#sk-container-id-8 div.sk-label label {font-family: monospace;font-weight: bold;display: inline-block;line-height: 1.2em;}#sk-container-id-8 div.sk-label-container {text-align: center;}#sk-container-id-8 div.sk-container {/* jupyter's `normalize.less` sets `[hidden] { display: none; }` but bootstrap.min.css set `[hidden] { display: none !important; }` so we also need the `!important` here to be able to override the default hidden behavior on the sphinx rendered scikit-learn.org. See: https://github.com/scikit-learn/scikit-learn/issues/21755 */display: inline-block !important;position: relative;}#sk-container-id-8 div.sk-text-repr-fallback {display: none;}</style><div id=\"sk-container-id-8\" class=\"sk-top-container\"><div class=\"sk-text-repr-fallback\"><pre>RandomForestClassifier()</pre><b>In a Jupyter environment, please rerun this cell to show the HTML representation or trust the notebook. <br />On GitHub, the HTML representation is unable to render, please try loading this page with nbviewer.org.</b></div><div class=\"sk-container\" hidden><div class=\"sk-item\"><div class=\"sk-estimator sk-toggleable\"><input class=\"sk-toggleable__control sk-hidden--visually\" id=\"sk-estimator-id-12\" type=\"checkbox\" checked><label for=\"sk-estimator-id-12\" class=\"sk-toggleable__label sk-toggleable__label-arrow\">RandomForestClassifier</label><div class=\"sk-toggleable__content\"><pre>RandomForestClassifier()</pre></div></div></div></div></div>"
      ],
      "text/plain": [
       "RandomForestClassifier()"
      ]
     },
     "execution_count": 84,
     "metadata": {},
     "output_type": "execute_result"
    }
   ],
   "source": [
    "import time\n",
    "start_time = time.time()\n",
    "from sklearn.ensemble import RandomForestClassifier\n",
    "rfc = RandomForestClassifier(n_estimators=100)\n",
    "rfc.fit(X_train, y_train)"
   ]
  },
  {
   "cell_type": "code",
   "execution_count": 85,
   "id": "369c3d2b-9ea0-427c-93d0-9c20ec16d32c",
   "metadata": {},
   "outputs": [
    {
     "name": "stdout",
     "output_type": "stream",
     "text": [
      "Computation time: 5.96 seconds\n"
     ]
    },
    {
     "data": {
      "text/plain": [
       "array([0, 0, 1, ..., 1, 1, 0])"
      ]
     },
     "execution_count": 85,
     "metadata": {},
     "output_type": "execute_result"
    }
   ],
   "source": [
    "rfc_pred = rfc.predict(X_test)\n",
    "\n",
    "end_time = time.time()\n",
    "elapsed_time = end_time - start_time\n",
    "print(f\"Computation time: {elapsed_time:.2f} seconds\")\n",
    "\n",
    "rfc_pred"
   ]
  },
  {
   "cell_type": "code",
   "execution_count": 86,
   "id": "2aad17f6-e123-47b1-8382-e69e4b7b4afa",
   "metadata": {},
   "outputs": [
    {
     "data": {
      "image/png": "[encoded data removed]",
      "text/plain": [
       "<Figure size 1000x600 with 1 Axes>"
      ]
     },
     "metadata": {},
     "output_type": "display_data"
    }
   ],
   "source": [
    "import matplotlib.pyplot as plt\n",
    "plt.figure(figsize=(10, 6)) \n",
    "rfc.feature_importances_\n",
    "plt.barh(X.columns, rfc.feature_importances_)\n",
    "plt.tight_layout()"
   ]
  },
  {
   "cell_type": "code",
   "execution_count": null,
   "id": "3c3c07c9-4bce-4312-8872-b3a0668102f0",
   "metadata": {},
   "outputs": [
    {
     "name": "stderr",
     "output_type": "stream",
     "text": [
      "Using `tqdm.autonotebook.tqdm` in notebook mode. Use `tqdm.tqdm` instead to force console mode (e.g. in jupyter console)\n"
     ]
    }
   ],
   "source": [
    "#Shaply Values\n",
    "from shap import TreeExplainer\n",
    "from shap import summary_plot\n",
    "\n",
    "explainer = TreeExplainer(rfc)\n",
    "shap_values = np.array(explainer.shap_values(X_train))\n",
    "\n",
    "\n",
    "shap_values_ = shap_values.transpose((1,0,2))\n",
    "\n",
    "np.allclose(\n",
    "    rfc.predict_proba(X_train),\n",
    "    shap_values_.sum(2) + explainer.expected_value\n",
    ")\n",
    "\n",
    "plt.figure(figsize=(3, 3))\n",
    "#summary_plot(shap_values[0],X_train,plot_type=\"bar\")\n",
    "\n",
    "summary_plot(shap_values[0],X_train)"
   ]
  },
  {
   "cell_type": "code",
   "execution_count": 87,
   "id": "b1e68324-b8e2-4077-b58e-be68f649a39c",
   "metadata": {
    "scrolled": true
   },
   "outputs": [
    {
     "name": "stdout",
     "output_type": "stream",
     "text": [
      "              precision    recall  f1-score   support\n",
      "\n",
      "           0       0.93      0.97      0.95      4399\n",
      "           1       0.96      0.91      0.93      3437\n",
      "\n",
      "    accuracy                           0.94      7836\n",
      "   macro avg       0.94      0.94      0.94      7836\n",
      "weighted avg       0.94      0.94      0.94      7836\n",
      "\n"
     ]
    }
   ],
   "source": [
    "from sklearn.metrics import precision_recall_fscore_support,classification_report,confusion_matrix\n",
    "print(classification_report(y_test,rfc_pred))"
   ]
  },
  {
   "cell_type": "code",
   "execution_count": 88,
   "id": "681fbc4e-248a-4d20-ad14-104437884328",
   "metadata": {},
   "outputs": [],
   "source": [
    "from sklearn.metrics import accuracy_score, precision_score, recall_score\n",
    "\n",
    "predicted_labels = rfc.predict(X_test)\n",
    "true_labels = y_test\n",
    "accuracy_rfc = accuracy_score(true_labels, predicted_labels)\n",
    "precision_rfc = precision_score(true_labels, predicted_labels)\n",
    "recall_rfc = recall_score(true_labels, predicted_labels)"
   ]
  },
  {
   "cell_type": "code",
   "execution_count": 89,
   "id": "7022c448-bb27-4912-9131-1211c6d92ccb",
   "metadata": {},
   "outputs": [
    {
     "data": {
      "text/html": [
       "<div>\n",
       "<style scoped>\n",
       "    .dataframe tbody tr th:only-of-type {\n",
       "        vertical-align: middle;\n",
       "    }\n",
       "\n",
       "    .dataframe tbody tr th {\n",
       "        vertical-align: top;\n",
       "    }\n",
       "\n",
       "    .dataframe thead th {\n",
       "        text-align: right;\n",
       "    }\n",
       "</style>\n",
       "<table border=\"1\" class=\"dataframe\">\n",
       "  <thead>\n",
       "    <tr style=\"text-align: right;\">\n",
       "      <th></th>\n",
       "      <th>Model</th>\n",
       "      <th>Accuracy</th>\n",
       "      <th>Precision</th>\n",
       "      <th>Recall</th>\n",
       "    </tr>\n",
       "  </thead>\n",
       "  <tbody>\n",
       "    <tr>\n",
       "      <th>0</th>\n",
       "      <td>Decision Trees</td>\n",
       "      <td>0.911578</td>\n",
       "      <td>0.908294</td>\n",
       "      <td>0.915289</td>\n",
       "    </tr>\n",
       "    <tr>\n",
       "      <th>1</th>\n",
       "      <td>Random Forest</td>\n",
       "      <td>0.941679</td>\n",
       "      <td>0.958462</td>\n",
       "      <td>0.906314</td>\n",
       "    </tr>\n",
       "  </tbody>\n",
       "</table>\n",
       "</div>"
      ],
      "text/plain": [
       "            Model  Accuracy  Precision    Recall\n",
       "0  Decision Trees  0.911578   0.908294  0.915289\n",
       "1   Random Forest  0.941679   0.958462  0.906314"
      ]
     },
     "execution_count": 89,
     "metadata": {},
     "output_type": "execute_result"
    }
   ],
   "source": [
    "import pandas as pd\n",
    "\n",
    "results_list=[]\n",
    "model_name = \"Random Forest\"\n",
    "results_dict = {\n",
    "    'Model': model_name,\n",
    "    'Accuracy': accuracy_rfc,\n",
    "    'Precision': precision_rfc,\n",
    "    'Recall': recall_rfc\n",
    "}\n",
    "\n",
    "new_entry_df = pd.DataFrame([results_dict])\n",
    "\n",
    "existing_rows = results_random_df[results_random_df['Model'] == model_name]\n",
    "\n",
    "if not existing_rows.empty:\n",
    "    results_random_df = results_random_df[results_random_df['Model'] != model_name]\n",
    "\n",
    "results_random_df = pd.concat([results_random_df, new_entry_df], ignore_index=True)\n",
    "results_random_df\n"
   ]
  },
  {
   "cell_type": "markdown",
   "id": "a5579607-40a1-403c-b41d-3978fac8fbeb",
   "metadata": {},
   "source": [
    "##### Coinbase"
   ]
  },
  {
   "cell_type": "code",
   "execution_count": 90,
   "id": "bf4790f8-d7d5-4293-bc08-89e5ec0e4af4",
   "metadata": {},
   "outputs": [
    {
     "data": {
      "text/html": [
       "<style>#sk-container-id-9 {color: black;}#sk-container-id-9 pre{padding: 0;}#sk-container-id-9 div.sk-toggleable {background-color: white;}#sk-container-id-9 label.sk-toggleable__label {cursor: pointer;display: block;width: 100%;margin-bottom: 0;padding: 0.3em;box-sizing: border-box;text-align: center;}#sk-container-id-9 label.sk-toggleable__label-arrow:before {content: \"▸\";float: left;margin-right: 0.25em;color: #696969;}#sk-container-id-9 label.sk-toggleable__label-arrow:hover:before {color: black;}#sk-container-id-9 div.sk-estimator:hover label.sk-toggleable__label-arrow:before {color: black;}#sk-container-id-9 div.sk-toggleable__content {max-height: 0;max-width: 0;overflow: hidden;text-align: left;background-color: #f0f8ff;}#sk-container-id-9 div.sk-toggleable__content pre {margin: 0.2em;color: black;border-radius: 0.25em;background-color: #f0f8ff;}#sk-container-id-9 input.sk-toggleable__control:checked~div.sk-toggleable__content {max-height: 200px;max-width: 100%;overflow: auto;}#sk-container-id-9 input.sk-toggleable__control:checked~label.sk-toggleable__label-arrow:before {content: \"▾\";}#sk-container-id-9 div.sk-estimator input.sk-toggleable__control:checked~label.sk-toggleable__label {background-color: #d4ebff;}#sk-container-id-9 div.sk-label input.sk-toggleable__control:checked~label.sk-toggleable__label {background-color: #d4ebff;}#sk-container-id-9 input.sk-hidden--visually {border: 0;clip: rect(1px 1px 1px 1px);clip: rect(1px, 1px, 1px, 1px);height: 1px;margin: -1px;overflow: hidden;padding: 0;position: absolute;width: 1px;}#sk-container-id-9 div.sk-estimator {font-family: monospace;background-color: #f0f8ff;border: 1px dotted black;border-radius: 0.25em;box-sizing: border-box;margin-bottom: 0.5em;}#sk-container-id-9 div.sk-estimator:hover {background-color: #d4ebff;}#sk-container-id-9 div.sk-parallel-item::after {content: \"\";width: 100%;border-bottom: 1px solid gray;flex-grow: 1;}#sk-container-id-9 div.sk-label:hover label.sk-toggleable__label {background-color: #d4ebff;}#sk-container-id-9 div.sk-serial::before {content: \"\";position: absolute;border-left: 1px solid gray;box-sizing: border-box;top: 0;bottom: 0;left: 50%;z-index: 0;}#sk-container-id-9 div.sk-serial {display: flex;flex-direction: column;align-items: center;background-color: white;padding-right: 0.2em;padding-left: 0.2em;position: relative;}#sk-container-id-9 div.sk-item {position: relative;z-index: 1;}#sk-container-id-9 div.sk-parallel {display: flex;align-items: stretch;justify-content: center;background-color: white;position: relative;}#sk-container-id-9 div.sk-item::before, #sk-container-id-9 div.sk-parallel-item::before {content: \"\";position: absolute;border-left: 1px solid gray;box-sizing: border-box;top: 0;bottom: 0;left: 50%;z-index: -1;}#sk-container-id-9 div.sk-parallel-item {display: flex;flex-direction: column;z-index: 1;position: relative;background-color: white;}#sk-container-id-9 div.sk-parallel-item:first-child::after {align-self: flex-end;width: 50%;}#sk-container-id-9 div.sk-parallel-item:last-child::after {align-self: flex-start;width: 50%;}#sk-container-id-9 div.sk-parallel-item:only-child::after {width: 0;}#sk-container-id-9 div.sk-dashed-wrapped {border: 1px dashed gray;margin: 0 0.4em 0.5em 0.4em;box-sizing: border-box;padding-bottom: 0.4em;background-color: white;}#sk-container-id-9 div.sk-label label {font-family: monospace;font-weight: bold;display: inline-block;line-height: 1.2em;}#sk-container-id-9 div.sk-label-container {text-align: center;}#sk-container-id-9 div.sk-container {/* jupyter's `normalize.less` sets `[hidden] { display: none; }` but bootstrap.min.css set `[hidden] { display: none !important; }` so we also need the `!important` here to be able to override the default hidden behavior on the sphinx rendered scikit-learn.org. See: https://github.com/scikit-learn/scikit-learn/issues/21755 */display: inline-block !important;position: relative;}#sk-container-id-9 div.sk-text-repr-fallback {display: none;}</style><div id=\"sk-container-id-9\" class=\"sk-top-container\"><div class=\"sk-text-repr-fallback\"><pre>RandomForestClassifier()</pre><b>In a Jupyter environment, please rerun this cell to show the HTML representation or trust the notebook. <br />On GitHub, the HTML representation is unable to render, please try loading this page with nbviewer.org.</b></div><div class=\"sk-container\" hidden><div class=\"sk-item\"><div class=\"sk-estimator sk-toggleable\"><input class=\"sk-toggleable__control sk-hidden--visually\" id=\"sk-estimator-id-13\" type=\"checkbox\" checked><label for=\"sk-estimator-id-13\" class=\"sk-toggleable__label sk-toggleable__label-arrow\">RandomForestClassifier</label><div class=\"sk-toggleable__content\"><pre>RandomForestClassifier()</pre></div></div></div></div></div>"
      ],
      "text/plain": [
       "RandomForestClassifier()"
      ]
     },
     "execution_count": 90,
     "metadata": {},
     "output_type": "execute_result"
    }
   ],
   "source": [
    "import time\n",
    "start_time = time.time()\n",
    "from sklearn.ensemble import RandomForestClassifier\n",
    "rfcc = RandomForestClassifier(n_estimators=100)\n",
    "rfcc.fit(Xc_train, yc_train)"
   ]
  },
  {
   "cell_type": "code",
   "execution_count": 91,
   "id": "6b6ec0ce-ec3d-42fa-a477-e5507e21eeb1",
   "metadata": {},
   "outputs": [
    {
     "name": "stdout",
     "output_type": "stream",
     "text": [
      "Computation time: 4.07 seconds\n"
     ]
    },
    {
     "data": {
      "text/plain": [
       "array([1, 0, 1, ..., 1, 0, 0])"
      ]
     },
     "execution_count": 91,
     "metadata": {},
     "output_type": "execute_result"
    }
   ],
   "source": [
    "rfcc_pred = rfcc.predict(Xc_test)\n",
    "\n",
    "end_time = time.time()\n",
    "elapsed_time = end_time - start_time\n",
    "print(f\"Computation time: {elapsed_time:.2f} seconds\")\n",
    "\n",
    "rfcc_pred"
   ]
  },
  {
   "cell_type": "code",
   "execution_count": 92,
   "id": "934fcb75-8e54-47a1-a1a1-1fdfdbc87dab",
   "metadata": {},
   "outputs": [
    {
     "data": {
      "image/png": "[encoded data removed]",
      "text/plain": [
       "<Figure size 1000x600 with 1 Axes>"
      ]
     },
     "metadata": {},
     "output_type": "display_data"
    }
   ],
   "source": [
    "import matplotlib.pyplot as plt\n",
    "plt.figure(figsize=(10, 6)) \n",
    "rfcc.feature_importances_\n",
    "plt.barh(Xc.columns, rfcc.feature_importances_)\n",
    "plt.tight_layout()"
   ]
  },
  {
   "cell_type": "code",
   "execution_count": null,
   "id": "a0d6bf22-ade9-48c7-a266-4bd4a46aa5e1",
   "metadata": {},
   "outputs": [],
   "source": [
    "#Shaply Values\n",
    "from shap import TreeExplainer\n",
    "from shap import summary_plot\n",
    "\n",
    "explainer = TreeExplainer(rfcc)\n",
    "shap_values = np.array(explainer.shap_values(Xc_train))\n",
    "\n",
    "\n",
    "shap_values_ = shap_values.transpose((1,0,2))\n",
    "\n",
    "np.allclose(\n",
    "    rfcc.predict_proba(Xc_train),\n",
    "    shap_values_.sum(2) + explainer.expected_value\n",
    ")\n",
    "\n",
    "plt.figure(figsize=(3, 3))\n",
    "#summary_plot(shap_values[0],X_train,plot_type=\"bar\")\n",
    "\n",
    "summary_plot(shap_values[0],Xc_train)"
   ]
  },
  {
   "cell_type": "code",
   "execution_count": 93,
   "id": "c0cff559-444c-4260-ac7b-b60601b16919",
   "metadata": {},
   "outputs": [
    {
     "name": "stdout",
     "output_type": "stream",
     "text": [
      "              precision    recall  f1-score   support\n",
      "\n",
      "           0       0.97      0.98      0.97      3352\n",
      "           1       0.98      0.97      0.97      3412\n",
      "\n",
      "    accuracy                           0.97      6764\n",
      "   macro avg       0.97      0.97      0.97      6764\n",
      "weighted avg       0.97      0.97      0.97      6764\n",
      "\n"
     ]
    }
   ],
   "source": [
    "from sklearn.metrics import precision_recall_fscore_support,classification_report,confusion_matrix\n",
    "print(classification_report(yc_test,rfcc_pred))"
   ]
  },
  {
   "cell_type": "code",
   "execution_count": 94,
   "id": "69b9fb3e-18b8-4bf0-910d-eea86db62ffb",
   "metadata": {},
   "outputs": [],
   "source": [
    "from sklearn.metrics import accuracy_score, precision_score, recall_score\n",
    "\n",
    "predicted_labels_c = rfcc.predict(Xc_test)\n",
    "true_labels_c = yc_test\n",
    "accuracy_rfcc = accuracy_score(true_labels_c, predicted_labels_c)\n",
    "precision_rfcc = precision_score(true_labels_c, predicted_labels_c)\n",
    "recall_rfcc = recall_score(true_labels_c, predicted_labels_c)"
   ]
  },
  {
   "cell_type": "code",
   "execution_count": 95,
   "id": "7a9a344b-7393-4f6f-9025-255887174809",
   "metadata": {},
   "outputs": [
    {
     "data": {
      "text/html": [
       "<div>\n",
       "<style scoped>\n",
       "    .dataframe tbody tr th:only-of-type {\n",
       "        vertical-align: middle;\n",
       "    }\n",
       "\n",
       "    .dataframe tbody tr th {\n",
       "        vertical-align: top;\n",
       "    }\n",
       "\n",
       "    .dataframe thead th {\n",
       "        text-align: right;\n",
       "    }\n",
       "</style>\n",
       "<table border=\"1\" class=\"dataframe\">\n",
       "  <thead>\n",
       "    <tr style=\"text-align: right;\">\n",
       "      <th></th>\n",
       "      <th>Model</th>\n",
       "      <th>Accuracy</th>\n",
       "      <th>Precision</th>\n",
       "      <th>Recall</th>\n",
       "    </tr>\n",
       "  </thead>\n",
       "  <tbody>\n",
       "    <tr>\n",
       "      <th>0</th>\n",
       "      <td>Random Forest</td>\n",
       "      <td>0.971023</td>\n",
       "      <td>0.976021</td>\n",
       "      <td>0.966295</td>\n",
       "    </tr>\n",
       "  </tbody>\n",
       "</table>\n",
       "</div>"
      ],
      "text/plain": [
       "           Model  Accuracy  Precision    Recall\n",
       "0  Random Forest  0.971023   0.976021  0.966295"
      ]
     },
     "execution_count": 95,
     "metadata": {},
     "output_type": "execute_result"
    }
   ],
   "source": [
    "import pandas as pd\n",
    "\n",
    "results_list_c=[]\n",
    "model_name = \"Random Forest\"\n",
    "results_dict = {\n",
    "    'Model': model_name,\n",
    "    'Accuracy': accuracy_rfcc,\n",
    "    'Precision': precision_rfcc,\n",
    "    'Recall': recall_rfcc\n",
    "}\n",
    "\n",
    "new_entry_df = pd.DataFrame([results_dict])\n",
    "\n",
    "existing_rows = results_coinbase_df[results_coinbase_df['Model'] == model_name]\n",
    "\n",
    "if not existing_rows.empty:\n",
    "    results_coinbase_df = results_coinbase_df[results_coinbase_df['Model'] != model_name]\n",
    "\n",
    "results_coinbase_df = pd.concat([results_coinbase_df, new_entry_df], ignore_index=True)\n",
    "results_coinbase_df"
   ]
  },
  {
   "cell_type": "markdown",
   "id": "755e034b-473b-48c8-852e-83add5fe9dcf",
   "metadata": {},
   "source": [
    "## DNN Model"
   ]
  },
  {
   "cell_type": "code",
   "execution_count": null,
   "id": "52394823-0a51-4f20-b769-4e414a24b2e1",
   "metadata": {},
   "outputs": [],
   "source": [
    "from tensorflow.keras import models\n",
    "from tensorflow.keras import layers\n",
    "\n",
    "dnn_model = models.Sequential()\n",
    "dnn_model.add(layers.Dense(50, activation='relu', input_shape=(X_train.shape[1],)))\n",
    "dnn_model.add(layers.Dense(50, activation='relu'))\n",
    "dnn_model.add(layers.Dense(50, activation='relu'))\n",
    "dnn_model.add(layers.Dense(1, activation='linear'))\n",
    "dnn_model.compile(loss='mean_squared_error', optimizer='adam',metrics=['accuracy', 'mean_squared_error'])"
   ]
  },
  {
   "cell_type": "code",
   "execution_count": null,
   "id": "94481100-fbb5-4df6-b0ca-7800bf4d4089",
   "metadata": {},
   "outputs": [],
   "source": [
    "history = dnn_model.fit(X_train, y_train, epochs=200, batch_size=20, validation_data= (X_test, y_test))"
   ]
  },
  {
   "cell_type": "code",
   "execution_count": null,
   "id": "438b8e4c-f322-4852-b036-604067be4041",
   "metadata": {},
   "outputs": [],
   "source": [
    "import matplotlib.pyplot as plt\n",
    "plt.plot(history.history['mean_squared_error'])\n",
    "plt.plot(history.history['val_mean_squared_error'])\n",
    "plt.title('Model loss')\n",
    "plt.ylabel('Loss')\n",
    "plt.xlabel('Epoch')\n",
    "plt.legend(['Train', 'Test'], loc='upper left')"
   ]
  },
  {
   "cell_type": "code",
   "execution_count": null,
   "id": "e1d73ae6-9e4b-4e58-9030-65e94643a3de",
   "metadata": {},
   "outputs": [],
   "source": [
    "test_predictions = dnn_model.predict(X_test)\n",
    "dnn_model.evaluate(X_test,y_test)"
   ]
  },
  {
   "cell_type": "code",
   "execution_count": null,
   "id": "96c23dd5-f883-499f-ba99-7d78c0a0cbff",
   "metadata": {},
   "outputs": [],
   "source": [
    "import numpy as np\n",
    "pred_classes = np.argmax(dnn_model.predict(X_train),axis=1)\n",
    "pred_classes\n",
    "\n",
    "from sklearn.metrics import classification_report,confusion_matrix\n",
    "cr = classification_report(y_train,pred_classes)\n",
    "print(cr)"
   ]
  },
  {
   "cell_type": "code",
   "execution_count": null,
   "id": "b184e96f-e99c-4937-9c59-53b3ed9d4381",
   "metadata": {},
   "outputs": [],
   "source": [
    "import matplotlib.pyplot as plt\n",
    "plt.plot(history.history['mean_squared_error'])\n",
    "plt.plot(history.history['val_mean_squared_error'])\n",
    "plt.title('Model loss')\n",
    "plt.ylabel('Loss')\n",
    "plt.xlabel('Epoch')\n",
    "plt.legend(['Train', 'Test'], loc='upper left')"
   ]
  },
  {
   "cell_type": "code",
   "execution_count": null,
   "id": "e3631abe-c1b8-457e-a404-5a6aafe28877",
   "metadata": {},
   "outputs": [],
   "source": []
  },
  {
   "cell_type": "markdown",
   "id": "70afae2f-4200-4115-bc81-431bf67ffd27",
   "metadata": {},
   "source": [
    "## Decision Trees"
   ]
  },
  {
   "cell_type": "markdown",
   "id": "fa91770d-a8c6-4d29-a6c6-7cd6dc528a75",
   "metadata": {},
   "source": [
    "##### Random Sampling"
   ]
  },
  {
   "cell_type": "code",
   "execution_count": 96,
   "id": "8df31055-9eec-478a-806c-52bc578034bd",
   "metadata": {},
   "outputs": [
    {
     "data": {
      "text/html": [
       "<style>#sk-container-id-10 {color: black;}#sk-container-id-10 pre{padding: 0;}#sk-container-id-10 div.sk-toggleable {background-color: white;}#sk-container-id-10 label.sk-toggleable__label {cursor: pointer;display: block;width: 100%;margin-bottom: 0;padding: 0.3em;box-sizing: border-box;text-align: center;}#sk-container-id-10 label.sk-toggleable__label-arrow:before {content: \"▸\";float: left;margin-right: 0.25em;color: #696969;}#sk-container-id-10 label.sk-toggleable__label-arrow:hover:before {color: black;}#sk-container-id-10 div.sk-estimator:hover label.sk-toggleable__label-arrow:before {color: black;}#sk-container-id-10 div.sk-toggleable__content {max-height: 0;max-width: 0;overflow: hidden;text-align: left;background-color: #f0f8ff;}#sk-container-id-10 div.sk-toggleable__content pre {margin: 0.2em;color: black;border-radius: 0.25em;background-color: #f0f8ff;}#sk-container-id-10 input.sk-toggleable__control:checked~div.sk-toggleable__content {max-height: 200px;max-width: 100%;overflow: auto;}#sk-container-id-10 input.sk-toggleable__control:checked~label.sk-toggleable__label-arrow:before {content: \"▾\";}#sk-container-id-10 div.sk-estimator input.sk-toggleable__control:checked~label.sk-toggleable__label {background-color: #d4ebff;}#sk-container-id-10 div.sk-label input.sk-toggleable__control:checked~label.sk-toggleable__label {background-color: #d4ebff;}#sk-container-id-10 input.sk-hidden--visually {border: 0;clip: rect(1px 1px 1px 1px);clip: rect(1px, 1px, 1px, 1px);height: 1px;margin: -1px;overflow: hidden;padding: 0;position: absolute;width: 1px;}#sk-container-id-10 div.sk-estimator {font-family: monospace;background-color: #f0f8ff;border: 1px dotted black;border-radius: 0.25em;box-sizing: border-box;margin-bottom: 0.5em;}#sk-container-id-10 div.sk-estimator:hover {background-color: #d4ebff;}#sk-container-id-10 div.sk-parallel-item::after {content: \"\";width: 100%;border-bottom: 1px solid gray;flex-grow: 1;}#sk-container-id-10 div.sk-label:hover label.sk-toggleable__label {background-color: #d4ebff;}#sk-container-id-10 div.sk-serial::before {content: \"\";position: absolute;border-left: 1px solid gray;box-sizing: border-box;top: 0;bottom: 0;left: 50%;z-index: 0;}#sk-container-id-10 div.sk-serial {display: flex;flex-direction: column;align-items: center;background-color: white;padding-right: 0.2em;padding-left: 0.2em;position: relative;}#sk-container-id-10 div.sk-item {position: relative;z-index: 1;}#sk-container-id-10 div.sk-parallel {display: flex;align-items: stretch;justify-content: center;background-color: white;position: relative;}#sk-container-id-10 div.sk-item::before, #sk-container-id-10 div.sk-parallel-item::before {content: \"\";position: absolute;border-left: 1px solid gray;box-sizing: border-box;top: 0;bottom: 0;left: 50%;z-index: -1;}#sk-container-id-10 div.sk-parallel-item {display: flex;flex-direction: column;z-index: 1;position: relative;background-color: white;}#sk-container-id-10 div.sk-parallel-item:first-child::after {align-self: flex-end;width: 50%;}#sk-container-id-10 div.sk-parallel-item:last-child::after {align-self: flex-start;width: 50%;}#sk-container-id-10 div.sk-parallel-item:only-child::after {width: 0;}#sk-container-id-10 div.sk-dashed-wrapped {border: 1px dashed gray;margin: 0 0.4em 0.5em 0.4em;box-sizing: border-box;padding-bottom: 0.4em;background-color: white;}#sk-container-id-10 div.sk-label label {font-family: monospace;font-weight: bold;display: inline-block;line-height: 1.2em;}#sk-container-id-10 div.sk-label-container {text-align: center;}#sk-container-id-10 div.sk-container {/* jupyter's `normalize.less` sets `[hidden] { display: none; }` but bootstrap.min.css set `[hidden] { display: none !important; }` so we also need the `!important` here to be able to override the default hidden behavior on the sphinx rendered scikit-learn.org. See: https://github.com/scikit-learn/scikit-learn/issues/21755 */display: inline-block !important;position: relative;}#sk-container-id-10 div.sk-text-repr-fallback {display: none;}</style><div id=\"sk-container-id-10\" class=\"sk-top-container\"><div class=\"sk-text-repr-fallback\"><pre>DecisionTreeClassifier()</pre><b>In a Jupyter environment, please rerun this cell to show the HTML representation or trust the notebook. <br />On GitHub, the HTML representation is unable to render, please try loading this page with nbviewer.org.</b></div><div class=\"sk-container\" hidden><div class=\"sk-item\"><div class=\"sk-estimator sk-toggleable\"><input class=\"sk-toggleable__control sk-hidden--visually\" id=\"sk-estimator-id-14\" type=\"checkbox\" checked><label for=\"sk-estimator-id-14\" class=\"sk-toggleable__label sk-toggleable__label-arrow\">DecisionTreeClassifier</label><div class=\"sk-toggleable__content\"><pre>DecisionTreeClassifier()</pre></div></div></div></div></div>"
      ],
      "text/plain": [
       "DecisionTreeClassifier()"
      ]
     },
     "execution_count": 96,
     "metadata": {},
     "output_type": "execute_result"
    }
   ],
   "source": [
    "#Model creation\n",
    "import time\n",
    "start_time = time.time()\n",
    "\n",
    "from sklearn.tree import DecisionTreeClassifier\n",
    "dtree = DecisionTreeClassifier()\n",
    "dtree.fit(X_train,y_train)"
   ]
  },
  {
   "cell_type": "code",
   "execution_count": 97,
   "id": "3c0cda71-04db-4194-ab5c-5d1bd6a15d61",
   "metadata": {},
   "outputs": [
    {
     "data": {
      "text/plain": [
       "array([0, 0, 1, ..., 1, 1, 0])"
      ]
     },
     "execution_count": 97,
     "metadata": {},
     "output_type": "execute_result"
    }
   ],
   "source": [
    "#Prediction & Evaluation\n",
    "dtree_pred = dtree.predict(X_test)\n",
    "dtree_pred"
   ]
  },
  {
   "cell_type": "code",
   "execution_count": 98,
   "id": "98bdabd0-5b95-4e28-8f43-392e3722888a",
   "metadata": {},
   "outputs": [
    {
     "name": "stdout",
     "output_type": "stream",
     "text": [
      "Computation time: 3.52 seconds\n"
     ]
    }
   ],
   "source": [
    "end_time = time.time()\n",
    "elapsed_time = end_time - start_time\n",
    "print(f\"Computation time: {elapsed_time:.2f} seconds\")"
   ]
  },
  {
   "cell_type": "code",
   "execution_count": 99,
   "id": "8c574098-98a5-4c3b-a8a0-eecc5cb74b92",
   "metadata": {},
   "outputs": [
    {
     "data": {
      "image/png": "[encoded data removed]",
      "text/plain": [
       "<Figure size 1000x600 with 1 Axes>"
      ]
     },
     "metadata": {},
     "output_type": "display_data"
    }
   ],
   "source": [
    "#Feature Importance\n",
    "import matplotlib.pyplot as plt\n",
    "\n",
    "plt.figure(figsize=(10, 6)) \n",
    "dtree.feature_importances_\n",
    "plt.barh(X.columns, dtree.feature_importances_)\n",
    "plt.xlabel('Feature Significance Score')\n",
    "plt.ylabel('Features')\n",
    "plt.title('Features Significance')\n",
    "plt.tight_layout()\n",
    "plt.show()"
   ]
  },
  {
   "cell_type": "code",
   "execution_count": null,
   "id": "8fca85bc-8052-43dd-9971-2ec3d28d7ae5",
   "metadata": {},
   "outputs": [],
   "source": [
    "import shap\n",
    "\n",
    "explainer = shap.TreeExplainer(dtree)\n",
    "shap_values = explainer.shap_values(X_train)\n",
    "plt.figure(figsize=(3, 3))\n",
    "shap.summary_plot(shap_values, X_train, plot_type=\"bar\")"
   ]
  },
  {
   "cell_type": "code",
   "execution_count": 100,
   "id": "fa6c812b-7b85-4136-ad42-cca4f3c76257",
   "metadata": {},
   "outputs": [
    {
     "name": "stdout",
     "output_type": "stream",
     "text": [
      "              precision    recall  f1-score   support\n",
      "\n",
      "           0       0.92      0.93      0.92      4399\n",
      "           1       0.90      0.89      0.90      3437\n",
      "\n",
      "    accuracy                           0.91      7836\n",
      "   macro avg       0.91      0.91      0.91      7836\n",
      "weighted avg       0.91      0.91      0.91      7836\n",
      "\n",
      "[[4071  328]\n",
      " [ 371 3066]]\n"
     ]
    }
   ],
   "source": [
    "from sklearn.metrics import precision_recall_fscore_support,classification_report,confusion_matrix\n",
    "print(classification_report(y_test,dtree_pred))\n",
    "print(confusion_matrix(y_test,dtree_pred))"
   ]
  },
  {
   "cell_type": "code",
   "execution_count": 68,
   "id": "61f20f01-7552-4359-9ed7-d888c39aa822",
   "metadata": {},
   "outputs": [
    {
     "data": {
      "image/png": "[encoded data removed]",
      "text/plain": [
       "<Figure size 800x600 with 1 Axes>"
      ]
     },
     "metadata": {},
     "output_type": "display_data"
    }
   ],
   "source": [
    "#Precision-Recall Curve\n",
    "from sklearn.metrics import precision_recall_curve\n",
    "precision, recall, _ = precision_recall_curve(y_test, dtree_pred)\n",
    "\n",
    "plt.figure(figsize=(8, 6))\n",
    "plt.plot(recall, precision, marker='.')\n",
    "plt.xlabel('Recall')\n",
    "plt.ylabel('Precision')\n",
    "plt.title('Precision-Recall Curve')\n",
    "plt.show()\n"
   ]
  },
  {
   "cell_type": "code",
   "execution_count": 101,
   "id": "ea6bc061-3b71-4794-9cac-4df6738cc08a",
   "metadata": {},
   "outputs": [],
   "source": [
    "from sklearn.metrics import accuracy_score, precision_score, recall_score\n",
    "\n",
    "predicted_labels = dtree.predict(X_test)\n",
    "true_labels = y_test\n",
    "accuracy_dtree = accuracy_score(true_labels, predicted_labels)\n",
    "precision_dtree = precision_score(true_labels, predicted_labels)\n",
    "recall_dtree = recall_score(true_labels, predicted_labels)"
   ]
  },
  {
   "cell_type": "code",
   "execution_count": 102,
   "id": "2a0dbe96-dea9-4df7-8278-fd80f41ccf43",
   "metadata": {},
   "outputs": [
    {
     "data": {
      "text/html": [
       "<div>\n",
       "<style scoped>\n",
       "    .dataframe tbody tr th:only-of-type {\n",
       "        vertical-align: middle;\n",
       "    }\n",
       "\n",
       "    .dataframe tbody tr th {\n",
       "        vertical-align: top;\n",
       "    }\n",
       "\n",
       "    .dataframe thead th {\n",
       "        text-align: right;\n",
       "    }\n",
       "</style>\n",
       "<table border=\"1\" class=\"dataframe\">\n",
       "  <thead>\n",
       "    <tr style=\"text-align: right;\">\n",
       "      <th></th>\n",
       "      <th>Model</th>\n",
       "      <th>Accuracy</th>\n",
       "      <th>Precision</th>\n",
       "      <th>Recall</th>\n",
       "    </tr>\n",
       "  </thead>\n",
       "  <tbody>\n",
       "    <tr>\n",
       "      <th>0</th>\n",
       "      <td>Random Forest</td>\n",
       "      <td>0.941679</td>\n",
       "      <td>0.958462</td>\n",
       "      <td>0.906314</td>\n",
       "    </tr>\n",
       "    <tr>\n",
       "      <th>1</th>\n",
       "      <td>Decision Trees</td>\n",
       "      <td>0.910796</td>\n",
       "      <td>0.903359</td>\n",
       "      <td>0.892057</td>\n",
       "    </tr>\n",
       "  </tbody>\n",
       "</table>\n",
       "</div>"
      ],
      "text/plain": [
       "            Model  Accuracy  Precision    Recall\n",
       "0   Random Forest  0.941679   0.958462  0.906314\n",
       "1  Decision Trees  0.910796   0.903359  0.892057"
      ]
     },
     "execution_count": 102,
     "metadata": {},
     "output_type": "execute_result"
    }
   ],
   "source": [
    "import pandas as pd\n",
    "\n",
    "model_name = \"Decision Trees\"\n",
    "results_dict = {\n",
    "    'Model': model_name,\n",
    "    'Accuracy': accuracy_dtree,\n",
    "    'Precision': precision_dtree,\n",
    "    'Recall': recall_dtree\n",
    "}\n",
    "\n",
    "new_entry_df = pd.DataFrame([results_dict])\n",
    "\n",
    "existing_rows = results_random_df[results_random_df['Model'] == model_name]\n",
    "\n",
    "if not existing_rows.empty:\n",
    "    results_random_df = results_random_df[results_random_df['Model'] != model_name]\n",
    "\n",
    "results_random_df = pd.concat([results_random_df, new_entry_df], ignore_index=True)\n",
    "results_random_df"
   ]
  },
  {
   "cell_type": "code",
   "execution_count": null,
   "id": "cde821dd-c1af-43fd-b5be-2dea2f68d1f7",
   "metadata": {},
   "outputs": [],
   "source": []
  },
  {
   "cell_type": "markdown",
   "id": "96c26360-008c-4421-9047-d53975f57327",
   "metadata": {},
   "source": [
    "##### Coinbase"
   ]
  },
  {
   "cell_type": "code",
   "execution_count": 103,
   "id": "4fbab371-df8b-4795-bb4a-2892a183af3c",
   "metadata": {},
   "outputs": [
    {
     "data": {
      "text/html": [
       "<style>#sk-container-id-11 {color: black;}#sk-container-id-11 pre{padding: 0;}#sk-container-id-11 div.sk-toggleable {background-color: white;}#sk-container-id-11 label.sk-toggleable__label {cursor: pointer;display: block;width: 100%;margin-bottom: 0;padding: 0.3em;box-sizing: border-box;text-align: center;}#sk-container-id-11 label.sk-toggleable__label-arrow:before {content: \"▸\";float: left;margin-right: 0.25em;color: #696969;}#sk-container-id-11 label.sk-toggleable__label-arrow:hover:before {color: black;}#sk-container-id-11 div.sk-estimator:hover label.sk-toggleable__label-arrow:before {color: black;}#sk-container-id-11 div.sk-toggleable__content {max-height: 0;max-width: 0;overflow: hidden;text-align: left;background-color: #f0f8ff;}#sk-container-id-11 div.sk-toggleable__content pre {margin: 0.2em;color: black;border-radius: 0.25em;background-color: #f0f8ff;}#sk-container-id-11 input.sk-toggleable__control:checked~div.sk-toggleable__content {max-height: 200px;max-width: 100%;overflow: auto;}#sk-container-id-11 input.sk-toggleable__control:checked~label.sk-toggleable__label-arrow:before {content: \"▾\";}#sk-container-id-11 div.sk-estimator input.sk-toggleable__control:checked~label.sk-toggleable__label {background-color: #d4ebff;}#sk-container-id-11 div.sk-label input.sk-toggleable__control:checked~label.sk-toggleable__label {background-color: #d4ebff;}#sk-container-id-11 input.sk-hidden--visually {border: 0;clip: rect(1px 1px 1px 1px);clip: rect(1px, 1px, 1px, 1px);height: 1px;margin: -1px;overflow: hidden;padding: 0;position: absolute;width: 1px;}#sk-container-id-11 div.sk-estimator {font-family: monospace;background-color: #f0f8ff;border: 1px dotted black;border-radius: 0.25em;box-sizing: border-box;margin-bottom: 0.5em;}#sk-container-id-11 div.sk-estimator:hover {background-color: #d4ebff;}#sk-container-id-11 div.sk-parallel-item::after {content: \"\";width: 100%;border-bottom: 1px solid gray;flex-grow: 1;}#sk-container-id-11 div.sk-label:hover label.sk-toggleable__label {background-color: #d4ebff;}#sk-container-id-11 div.sk-serial::before {content: \"\";position: absolute;border-left: 1px solid gray;box-sizing: border-box;top: 0;bottom: 0;left: 50%;z-index: 0;}#sk-container-id-11 div.sk-serial {display: flex;flex-direction: column;align-items: center;background-color: white;padding-right: 0.2em;padding-left: 0.2em;position: relative;}#sk-container-id-11 div.sk-item {position: relative;z-index: 1;}#sk-container-id-11 div.sk-parallel {display: flex;align-items: stretch;justify-content: center;background-color: white;position: relative;}#sk-container-id-11 div.sk-item::before, #sk-container-id-11 div.sk-parallel-item::before {content: \"\";position: absolute;border-left: 1px solid gray;box-sizing: border-box;top: 0;bottom: 0;left: 50%;z-index: -1;}#sk-container-id-11 div.sk-parallel-item {display: flex;flex-direction: column;z-index: 1;position: relative;background-color: white;}#sk-container-id-11 div.sk-parallel-item:first-child::after {align-self: flex-end;width: 50%;}#sk-container-id-11 div.sk-parallel-item:last-child::after {align-self: flex-start;width: 50%;}#sk-container-id-11 div.sk-parallel-item:only-child::after {width: 0;}#sk-container-id-11 div.sk-dashed-wrapped {border: 1px dashed gray;margin: 0 0.4em 0.5em 0.4em;box-sizing: border-box;padding-bottom: 0.4em;background-color: white;}#sk-container-id-11 div.sk-label label {font-family: monospace;font-weight: bold;display: inline-block;line-height: 1.2em;}#sk-container-id-11 div.sk-label-container {text-align: center;}#sk-container-id-11 div.sk-container {/* jupyter's `normalize.less` sets `[hidden] { display: none; }` but bootstrap.min.css set `[hidden] { display: none !important; }` so we also need the `!important` here to be able to override the default hidden behavior on the sphinx rendered scikit-learn.org. See: https://github.com/scikit-learn/scikit-learn/issues/21755 */display: inline-block !important;position: relative;}#sk-container-id-11 div.sk-text-repr-fallback {display: none;}</style><div id=\"sk-container-id-11\" class=\"sk-top-container\"><div class=\"sk-text-repr-fallback\"><pre>DecisionTreeClassifier()</pre><b>In a Jupyter environment, please rerun this cell to show the HTML representation or trust the notebook. <br />On GitHub, the HTML representation is unable to render, please try loading this page with nbviewer.org.</b></div><div class=\"sk-container\" hidden><div class=\"sk-item\"><div class=\"sk-estimator sk-toggleable\"><input class=\"sk-toggleable__control sk-hidden--visually\" id=\"sk-estimator-id-15\" type=\"checkbox\" checked><label for=\"sk-estimator-id-15\" class=\"sk-toggleable__label sk-toggleable__label-arrow\">DecisionTreeClassifier</label><div class=\"sk-toggleable__content\"><pre>DecisionTreeClassifier()</pre></div></div></div></div></div>"
      ],
      "text/plain": [
       "DecisionTreeClassifier()"
      ]
     },
     "execution_count": 103,
     "metadata": {},
     "output_type": "execute_result"
    }
   ],
   "source": [
    "#Model creation\n",
    "import time\n",
    "start_time = time.time()\n",
    "\n",
    "from sklearn.tree import DecisionTreeClassifier\n",
    "dtreec = DecisionTreeClassifier()\n",
    "dtreec.fit(Xc_train,yc_train)"
   ]
  },
  {
   "cell_type": "code",
   "execution_count": 104,
   "id": "b0f155bf-1e35-4426-9487-11130363e968",
   "metadata": {},
   "outputs": [
    {
     "data": {
      "text/plain": [
       "array([1, 1, 1, ..., 1, 0, 0])"
      ]
     },
     "execution_count": 104,
     "metadata": {},
     "output_type": "execute_result"
    }
   ],
   "source": [
    "#Prediction & Evaluation\n",
    "dtree_predc = dtreec.predict(Xc_test)\n",
    "dtree_predc"
   ]
  },
  {
   "cell_type": "code",
   "execution_count": 105,
   "id": "38efa084-3438-4bc5-9567-8c7cfaf8c3ee",
   "metadata": {},
   "outputs": [
    {
     "name": "stdout",
     "output_type": "stream",
     "text": [
      "Computation time: 2.20 seconds\n"
     ]
    }
   ],
   "source": [
    "end_time = time.time()\n",
    "elapsed_time = end_time - start_time\n",
    "print(f\"Computation time: {elapsed_time:.2f} seconds\")"
   ]
  },
  {
   "cell_type": "code",
   "execution_count": 106,
   "id": "1d1562f3-e0fe-4fe6-a1dc-89702fafceec",
   "metadata": {},
   "outputs": [
    {
     "data": {
      "image/png": "[encoded data removed]",
      "text/plain": [
       "<Figure size 1000x600 with 1 Axes>"
      ]
     },
     "metadata": {},
     "output_type": "display_data"
    }
   ],
   "source": [
    "#Feature Importance\n",
    "import matplotlib.pyplot as plt\n",
    "\n",
    "plt.figure(figsize=(10, 6)) \n",
    "dtreec.feature_importances_\n",
    "plt.barh(Xc.columns, dtreec.feature_importances_)\n",
    "plt.xlabel('Feature Significance Score')\n",
    "plt.ylabel('Features')\n",
    "plt.title('Features Significance')\n",
    "plt.tight_layout()\n",
    "plt.show()"
   ]
  },
  {
   "cell_type": "code",
   "execution_count": null,
   "id": "e2ecb540-e72f-43f0-b057-8c37fba23e3d",
   "metadata": {},
   "outputs": [],
   "source": [
    "import shap\n",
    "\n",
    "explainer = shap.TreeExplainer(dtree)\n",
    "shap_values = explainer.shap_values(Xc_train)\n",
    "plt.figure(figsize=(3, 3))\n",
    "shap.summary_plot(shap_values, Xc_train, plot_type=\"bar\")"
   ]
  },
  {
   "cell_type": "code",
   "execution_count": 107,
   "id": "b7cee297-13f3-4475-a4d3-16b90dd8d98e",
   "metadata": {},
   "outputs": [
    {
     "name": "stdout",
     "output_type": "stream",
     "text": [
      "              precision    recall  f1-score   support\n",
      "\n",
      "           0       0.95      0.94      0.95      3352\n",
      "           1       0.94      0.96      0.95      3412\n",
      "\n",
      "    accuracy                           0.95      6764\n",
      "   macro avg       0.95      0.95      0.95      6764\n",
      "weighted avg       0.95      0.95      0.95      6764\n",
      "\n",
      "[[3159  193]\n",
      " [ 149 3263]]\n"
     ]
    }
   ],
   "source": [
    "from sklearn.metrics import precision_recall_fscore_support,classification_report,confusion_matrix\n",
    "print(classification_report(yc_test,dtree_predc))\n",
    "print(confusion_matrix(yc_test,dtree_predc))"
   ]
  },
  {
   "cell_type": "code",
   "execution_count": 108,
   "id": "2eadb792-d585-4f57-a346-213c715276f5",
   "metadata": {},
   "outputs": [
    {
     "data": {
      "image/png": "[encoded data removed]",
      "text/plain": [
       "<Figure size 800x600 with 1 Axes>"
      ]
     },
     "metadata": {},
     "output_type": "display_data"
    }
   ],
   "source": [
    "#Precision-Recall Curve\n",
    "from sklearn.metrics import precision_recall_curve\n",
    "precision, recall, _ = precision_recall_curve(yc_test, dtree_predc)\n",
    "\n",
    "plt.figure(figsize=(8, 6))\n",
    "plt.plot(recall, precision, marker='.')\n",
    "plt.xlabel('Recall')\n",
    "plt.ylabel('Precision')\n",
    "plt.title('Precision-Recall Curve')\n",
    "plt.show()\n"
   ]
  },
  {
   "cell_type": "code",
   "execution_count": 109,
   "id": "6ac4b699-7476-4a93-9e6e-ceebc149e3ff",
   "metadata": {},
   "outputs": [],
   "source": [
    "from sklearn.metrics import accuracy_score, precision_score, recall_score\n",
    "\n",
    "predictedc_labels = dtreec.predict(Xc_test)\n",
    "truec_labels = yc_test\n",
    "accuracyc_dtree = accuracy_score(truec_labels, predictedc_labels)\n",
    "precisionc_dtree = precision_score(truec_labels, predictedc_labels)\n",
    "recallc_dtree = recall_score(truec_labels, predictedc_labels)"
   ]
  },
  {
   "cell_type": "code",
   "execution_count": 110,
   "id": "dc7d68e0-0680-4e6a-9f03-b6be4d3e9d27",
   "metadata": {},
   "outputs": [
    {
     "data": {
      "text/html": [
       "<div>\n",
       "<style scoped>\n",
       "    .dataframe tbody tr th:only-of-type {\n",
       "        vertical-align: middle;\n",
       "    }\n",
       "\n",
       "    .dataframe tbody tr th {\n",
       "        vertical-align: top;\n",
       "    }\n",
       "\n",
       "    .dataframe thead th {\n",
       "        text-align: right;\n",
       "    }\n",
       "</style>\n",
       "<table border=\"1\" class=\"dataframe\">\n",
       "  <thead>\n",
       "    <tr style=\"text-align: right;\">\n",
       "      <th></th>\n",
       "      <th>Model</th>\n",
       "      <th>Accuracy</th>\n",
       "      <th>Precision</th>\n",
       "      <th>Recall</th>\n",
       "    </tr>\n",
       "  </thead>\n",
       "  <tbody>\n",
       "    <tr>\n",
       "      <th>0</th>\n",
       "      <td>Random Forest</td>\n",
       "      <td>0.971023</td>\n",
       "      <td>0.976021</td>\n",
       "      <td>0.966295</td>\n",
       "    </tr>\n",
       "    <tr>\n",
       "      <th>1</th>\n",
       "      <td>Decision Trees</td>\n",
       "      <td>0.949438</td>\n",
       "      <td>0.944155</td>\n",
       "      <td>0.956331</td>\n",
       "    </tr>\n",
       "  </tbody>\n",
       "</table>\n",
       "</div>"
      ],
      "text/plain": [
       "            Model  Accuracy  Precision    Recall\n",
       "0   Random Forest  0.971023   0.976021  0.966295\n",
       "1  Decision Trees  0.949438   0.944155  0.956331"
      ]
     },
     "execution_count": 110,
     "metadata": {},
     "output_type": "execute_result"
    }
   ],
   "source": [
    "import pandas as pd\n",
    "\n",
    "model_name = \"Decision Trees\"\n",
    "results_dict = {\n",
    "    'Model': model_name,\n",
    "    'Accuracy': accuracyc_dtree,\n",
    "    'Precision': precisionc_dtree,\n",
    "    'Recall': recallc_dtree\n",
    "}\n",
    "\n",
    "new_entry_df = pd.DataFrame([results_dict])\n",
    "\n",
    "existing_rows = results_coinbase_df[results_coinbase_df['Model'] == model_name]\n",
    "\n",
    "if not existing_rows.empty:\n",
    "    results_coinbase_df = results_coinbase_df[results_coinbase_df['Model'] != model_name]\n",
    "\n",
    "results_coinbase_df = pd.concat([results_coinbase_df, new_entry_df], ignore_index=True)\n",
    "results_coinbase_df"
   ]
  },
  {
   "cell_type": "code",
   "execution_count": null,
   "id": "52891acf-965d-4d15-99dc-17f14ee89c90",
   "metadata": {},
   "outputs": [],
   "source": []
  },
  {
   "cell_type": "markdown",
   "id": "643eb9cb-1757-43bf-96bc-29098d168a1a",
   "metadata": {},
   "source": [
    "## Gradient Boost"
   ]
  },
  {
   "cell_type": "code",
   "execution_count": null,
   "id": "af8afd7c-ca21-4c7d-8349-80a3038977d7",
   "metadata": {},
   "outputs": [],
   "source": []
  },
  {
   "cell_type": "code",
   "execution_count": null,
   "id": "192fc7b9-fca7-4a03-8776-d29f4db702f1",
   "metadata": {},
   "outputs": [],
   "source": []
  },
  {
   "cell_type": "markdown",
   "id": "c9ed652a-0a7b-427a-be6f-625a07cd15b0",
   "metadata": {},
   "source": [
    "## XG Boost"
   ]
  },
  {
   "cell_type": "code",
   "execution_count": null,
   "id": "0dfd123b-5977-4691-9af6-0ac45f2f4faa",
   "metadata": {},
   "outputs": [],
   "source": []
  },
  {
   "cell_type": "code",
   "execution_count": null,
   "id": "2f1484f8-0ca8-4495-818d-d990369c126c",
   "metadata": {},
   "outputs": [],
   "source": []
  },
  {
   "cell_type": "markdown",
   "id": "e4d3c1e4-860f-4182-a632-5d46dd9d54fa",
   "metadata": {},
   "source": [
    "## Isolation Forest Model"
   ]
  },
  {
   "cell_type": "code",
   "execution_count": null,
   "id": "f35511bb-cd70-476e-8c65-d5f88d58e255",
   "metadata": {},
   "outputs": [],
   "source": []
  },
  {
   "cell_type": "code",
   "execution_count": null,
   "id": "4f10a5e9-ad10-4f04-a2c2-982706bc700b",
   "metadata": {},
   "outputs": [],
   "source": []
  },
  {
   "cell_type": "markdown",
   "id": "da332214-361e-436c-bb1c-55534113ea1c",
   "metadata": {},
   "source": [
    "## Balanced Bagging Classifier"
   ]
  },
  {
   "cell_type": "markdown",
   "id": "44464022-5373-40f8-9ee5-faad53e750bc",
   "metadata": {},
   "source": [
    "#### Random Sampling"
   ]
  },
  {
   "cell_type": "code",
   "execution_count": 111,
   "id": "f95f189f-0164-4882-9881-29118fb4ccc6",
   "metadata": {},
   "outputs": [
    {
     "name": "stdout",
     "output_type": "stream",
     "text": [
      "FLAG\n",
      "0    14740\n",
      "1    11378\n",
      "dtype: int64\n"
     ]
    }
   ],
   "source": [
    "print(data_random.groupby('FLAG').size())"
   ]
  },
  {
   "cell_type": "code",
   "execution_count": 112,
   "id": "de3a28fb-a6dc-4dff-a06c-1696b211d49e",
   "metadata": {},
   "outputs": [
    {
     "name": "stdout",
     "output_type": "stream",
     "text": [
      "FLAG\n",
      "0    11166\n",
      "1    11378\n",
      "dtype: int64\n"
     ]
    }
   ],
   "source": [
    "print(data_coinbase.groupby('FLAG').size())"
   ]
  },
  {
   "cell_type": "code",
   "execution_count": 113,
   "id": "790d2ea7-33c7-44e8-88d7-ee263ccd4da0",
   "metadata": {},
   "outputs": [],
   "source": [
    "#SMOTE for oversampling the data\n",
    "from imblearn.over_sampling import SMOTE\n",
    "\n",
    "sm = SMOTE(sampling_strategy='minority', random_state=42)\n",
    "oversampled_X, oversampled_Y = sm.fit_resample(X, Y)\n",
    "#Oversampled DataFrame\n",
    "oversampled = pd.concat([pd.DataFrame(oversampled_Y, columns=['FLAG']), pd.DataFrame(oversampled_X, columns=X.columns)], axis=1)"
   ]
  },
  {
   "cell_type": "code",
   "execution_count": 114,
   "id": "6178e881-43c4-4773-8f70-1687bc341fce",
   "metadata": {},
   "outputs": [],
   "source": [
    "import time\n",
    "start_time = time.time()\n",
    "\n",
    "#Balanced Bagging Classifier\n",
    "from imblearn.ensemble import BalancedBaggingClassifier\n",
    "from sklearn.tree import DecisionTreeClassifier\n",
    "from sklearn.model_selection import train_test_split\n",
    "from sklearn.metrics import accuracy_score, precision_score, recall_score, f1_score\n",
    "\n",
    "X_resampled, Y_resampled = sm.fit_resample(oversampled_X, oversampled_Y)\n",
    "X_train, X_test, y_train, y_test = train_test_split(X_resampled, Y_resampled, test_size=0.3, random_state=42)"
   ]
  },
  {
   "cell_type": "code",
   "execution_count": null,
   "id": "8c330e1d-06fe-4fe5-8963-a41ff5224f30",
   "metadata": {
    "scrolled": true
   },
   "outputs": [
    {
     "name": "stdout",
     "output_type": "stream",
     "text": [
      "Fitting 3 folds for each of 108 candidates, totalling 324 fits\n",
      "[CV] END base_estimator__max_depth=None, max_features=0.5, max_samples=0.5, n_estimators=0; total time=   0.0s\n",
      "[CV] END base_estimator__max_depth=None, max_features=0.5, max_samples=0.5, n_estimators=0; total time=   0.0s\n",
      "[CV] END base_estimator__max_depth=None, max_features=0.5, max_samples=0.5, n_estimators=0; total time=   0.0s\n"
     ]
    },
    {
     "name": "stderr",
     "output_type": "stream",
     "text": [
      "/opt/conda/lib/python3.11/site-packages/imblearn/ensemble/_bagging.py:362: FutureWarning: `base_estimator` was renamed to `estimator` in version 0.10 and will be removed in 0.12.\n",
      "  warnings.warn(\n"
     ]
    },
    {
     "name": "stdout",
     "output_type": "stream",
     "text": [
      "[CV] END base_estimator__max_depth=None, max_features=0.5, max_samples=0.5, n_estimators=150; total time=  10.2s\n"
     ]
    },
    {
     "name": "stderr",
     "output_type": "stream",
     "text": [
      "/opt/conda/lib/python3.11/site-packages/imblearn/ensemble/_bagging.py:362: FutureWarning: `base_estimator` was renamed to `estimator` in version 0.10 and will be removed in 0.12.\n",
      "  warnings.warn(\n"
     ]
    },
    {
     "name": "stdout",
     "output_type": "stream",
     "text": [
      "[CV] END base_estimator__max_depth=None, max_features=0.5, max_samples=0.5, n_estimators=150; total time=  10.1s\n"
     ]
    },
    {
     "name": "stderr",
     "output_type": "stream",
     "text": [
      "/opt/conda/lib/python3.11/site-packages/imblearn/ensemble/_bagging.py:362: FutureWarning: `base_estimator` was renamed to `estimator` in version 0.10 and will be removed in 0.12.\n",
      "  warnings.warn(\n"
     ]
    },
    {
     "name": "stdout",
     "output_type": "stream",
     "text": [
      "[CV] END base_estimator__max_depth=None, max_features=0.5, max_samples=0.5, n_estimators=150; total time=  10.2s\n"
     ]
    },
    {
     "name": "stderr",
     "output_type": "stream",
     "text": [
      "/opt/conda/lib/python3.11/site-packages/imblearn/ensemble/_bagging.py:362: FutureWarning: `base_estimator` was renamed to `estimator` in version 0.10 and will be removed in 0.12.\n",
      "  warnings.warn(\n"
     ]
    },
    {
     "name": "stdout",
     "output_type": "stream",
     "text": [
      "[CV] END base_estimator__max_depth=None, max_features=0.5, max_samples=0.5, n_estimators=200; total time=  13.7s\n"
     ]
    },
    {
     "name": "stderr",
     "output_type": "stream",
     "text": [
      "/opt/conda/lib/python3.11/site-packages/imblearn/ensemble/_bagging.py:362: FutureWarning: `base_estimator` was renamed to `estimator` in version 0.10 and will be removed in 0.12.\n",
      "  warnings.warn(\n"
     ]
    },
    {
     "name": "stdout",
     "output_type": "stream",
     "text": [
      "[CV] END base_estimator__max_depth=None, max_features=0.5, max_samples=0.5, n_estimators=200; total time=  13.1s\n"
     ]
    },
    {
     "name": "stderr",
     "output_type": "stream",
     "text": [
      "/opt/conda/lib/python3.11/site-packages/imblearn/ensemble/_bagging.py:362: FutureWarning: `base_estimator` was renamed to `estimator` in version 0.10 and will be removed in 0.12.\n",
      "  warnings.warn(\n"
     ]
    },
    {
     "name": "stdout",
     "output_type": "stream",
     "text": [
      "[CV] END base_estimator__max_depth=None, max_features=0.5, max_samples=0.5, n_estimators=200; total time=  13.2s\n",
      "[CV] END base_estimator__max_depth=None, max_features=0.5, max_samples=0.7, n_estimators=0; total time=   0.0s\n",
      "[CV] END base_estimator__max_depth=None, max_features=0.5, max_samples=0.7, n_estimators=0; total time=   0.0s\n",
      "[CV] END base_estimator__max_depth=None, max_features=0.5, max_samples=0.7, n_estimators=0; total time=   0.0s\n"
     ]
    },
    {
     "name": "stderr",
     "output_type": "stream",
     "text": [
      "/opt/conda/lib/python3.11/site-packages/imblearn/ensemble/_bagging.py:362: FutureWarning: `base_estimator` was renamed to `estimator` in version 0.10 and will be removed in 0.12.\n",
      "  warnings.warn(\n"
     ]
    },
    {
     "name": "stdout",
     "output_type": "stream",
     "text": [
      "[CV] END base_estimator__max_depth=None, max_features=0.5, max_samples=0.7, n_estimators=150; total time=  14.3s\n"
     ]
    },
    {
     "name": "stderr",
     "output_type": "stream",
     "text": [
      "/opt/conda/lib/python3.11/site-packages/imblearn/ensemble/_bagging.py:362: FutureWarning: `base_estimator` was renamed to `estimator` in version 0.10 and will be removed in 0.12.\n",
      "  warnings.warn(\n"
     ]
    },
    {
     "name": "stdout",
     "output_type": "stream",
     "text": [
      "[CV] END base_estimator__max_depth=None, max_features=0.5, max_samples=0.7, n_estimators=150; total time=  13.9s\n"
     ]
    },
    {
     "name": "stderr",
     "output_type": "stream",
     "text": [
      "/opt/conda/lib/python3.11/site-packages/imblearn/ensemble/_bagging.py:362: FutureWarning: `base_estimator` was renamed to `estimator` in version 0.10 and will be removed in 0.12.\n",
      "  warnings.warn(\n"
     ]
    },
    {
     "name": "stdout",
     "output_type": "stream",
     "text": [
      "[CV] END base_estimator__max_depth=None, max_features=0.5, max_samples=0.7, n_estimators=150; total time=  14.1s\n"
     ]
    },
    {
     "name": "stderr",
     "output_type": "stream",
     "text": [
      "/opt/conda/lib/python3.11/site-packages/imblearn/ensemble/_bagging.py:362: FutureWarning: `base_estimator` was renamed to `estimator` in version 0.10 and will be removed in 0.12.\n",
      "  warnings.warn(\n"
     ]
    },
    {
     "name": "stdout",
     "output_type": "stream",
     "text": [
      "[CV] END base_estimator__max_depth=None, max_features=0.5, max_samples=0.7, n_estimators=200; total time=  19.4s\n"
     ]
    },
    {
     "name": "stderr",
     "output_type": "stream",
     "text": [
      "/opt/conda/lib/python3.11/site-packages/imblearn/ensemble/_bagging.py:362: FutureWarning: `base_estimator` was renamed to `estimator` in version 0.10 and will be removed in 0.12.\n",
      "  warnings.warn(\n"
     ]
    },
    {
     "name": "stdout",
     "output_type": "stream",
     "text": [
      "[CV] END base_estimator__max_depth=None, max_features=0.5, max_samples=0.7, n_estimators=200; total time=  19.0s\n"
     ]
    },
    {
     "name": "stderr",
     "output_type": "stream",
     "text": [
      "/opt/conda/lib/python3.11/site-packages/imblearn/ensemble/_bagging.py:362: FutureWarning: `base_estimator` was renamed to `estimator` in version 0.10 and will be removed in 0.12.\n",
      "  warnings.warn(\n"
     ]
    },
    {
     "name": "stdout",
     "output_type": "stream",
     "text": [
      "[CV] END base_estimator__max_depth=None, max_features=0.5, max_samples=0.7, n_estimators=200; total time=  18.8s\n",
      "[CV] END base_estimator__max_depth=None, max_features=0.5, max_samples=0.9, n_estimators=0; total time=   0.0s\n",
      "[CV] END base_estimator__max_depth=None, max_features=0.5, max_samples=0.9, n_estimators=0; total time=   0.0s\n",
      "[CV] END base_estimator__max_depth=None, max_features=0.5, max_samples=0.9, n_estimators=0; total time=   0.0s\n"
     ]
    },
    {
     "name": "stderr",
     "output_type": "stream",
     "text": [
      "/opt/conda/lib/python3.11/site-packages/imblearn/ensemble/_bagging.py:362: FutureWarning: `base_estimator` was renamed to `estimator` in version 0.10 and will be removed in 0.12.\n",
      "  warnings.warn(\n"
     ]
    },
    {
     "name": "stdout",
     "output_type": "stream",
     "text": [
      "[CV] END base_estimator__max_depth=None, max_features=0.5, max_samples=0.9, n_estimators=150; total time=  18.2s\n"
     ]
    },
    {
     "name": "stderr",
     "output_type": "stream",
     "text": [
      "/opt/conda/lib/python3.11/site-packages/imblearn/ensemble/_bagging.py:362: FutureWarning: `base_estimator` was renamed to `estimator` in version 0.10 and will be removed in 0.12.\n",
      "  warnings.warn(\n"
     ]
    },
    {
     "name": "stdout",
     "output_type": "stream",
     "text": [
      "[CV] END base_estimator__max_depth=None, max_features=0.5, max_samples=0.9, n_estimators=150; total time=  17.5s\n"
     ]
    },
    {
     "name": "stderr",
     "output_type": "stream",
     "text": [
      "/opt/conda/lib/python3.11/site-packages/imblearn/ensemble/_bagging.py:362: FutureWarning: `base_estimator` was renamed to `estimator` in version 0.10 and will be removed in 0.12.\n",
      "  warnings.warn(\n"
     ]
    },
    {
     "name": "stdout",
     "output_type": "stream",
     "text": [
      "[CV] END base_estimator__max_depth=None, max_features=0.5, max_samples=0.9, n_estimators=150; total time=  18.3s\n"
     ]
    },
    {
     "name": "stderr",
     "output_type": "stream",
     "text": [
      "/opt/conda/lib/python3.11/site-packages/imblearn/ensemble/_bagging.py:362: FutureWarning: `base_estimator` was renamed to `estimator` in version 0.10 and will be removed in 0.12.\n",
      "  warnings.warn(\n"
     ]
    },
    {
     "name": "stdout",
     "output_type": "stream",
     "text": [
      "[CV] END base_estimator__max_depth=None, max_features=0.5, max_samples=0.9, n_estimators=200; total time=  23.7s\n"
     ]
    },
    {
     "name": "stderr",
     "output_type": "stream",
     "text": [
      "/opt/conda/lib/python3.11/site-packages/imblearn/ensemble/_bagging.py:362: FutureWarning: `base_estimator` was renamed to `estimator` in version 0.10 and will be removed in 0.12.\n",
      "  warnings.warn(\n"
     ]
    },
    {
     "name": "stdout",
     "output_type": "stream",
     "text": [
      "[CV] END base_estimator__max_depth=None, max_features=0.5, max_samples=0.9, n_estimators=200; total time=  23.5s\n"
     ]
    },
    {
     "name": "stderr",
     "output_type": "stream",
     "text": [
      "/opt/conda/lib/python3.11/site-packages/imblearn/ensemble/_bagging.py:362: FutureWarning: `base_estimator` was renamed to `estimator` in version 0.10 and will be removed in 0.12.\n",
      "  warnings.warn(\n"
     ]
    },
    {
     "name": "stdout",
     "output_type": "stream",
     "text": [
      "[CV] END base_estimator__max_depth=None, max_features=0.5, max_samples=0.9, n_estimators=200; total time=  24.6s\n",
      "[CV] END base_estimator__max_depth=None, max_features=0.7, max_samples=0.5, n_estimators=0; total time=   0.0s\n",
      "[CV] END base_estimator__max_depth=None, max_features=0.7, max_samples=0.5, n_estimators=0; total time=   0.0s\n",
      "[CV] END base_estimator__max_depth=None, max_features=0.7, max_samples=0.5, n_estimators=0; total time=   0.0s\n"
     ]
    },
    {
     "name": "stderr",
     "output_type": "stream",
     "text": [
      "/opt/conda/lib/python3.11/site-packages/imblearn/ensemble/_bagging.py:362: FutureWarning: `base_estimator` was renamed to `estimator` in version 0.10 and will be removed in 0.12.\n",
      "  warnings.warn(\n"
     ]
    },
    {
     "name": "stdout",
     "output_type": "stream",
     "text": [
      "[CV] END base_estimator__max_depth=None, max_features=0.7, max_samples=0.5, n_estimators=150; total time=  15.0s\n"
     ]
    },
    {
     "name": "stderr",
     "output_type": "stream",
     "text": [
      "/opt/conda/lib/python3.11/site-packages/imblearn/ensemble/_bagging.py:362: FutureWarning: `base_estimator` was renamed to `estimator` in version 0.10 and will be removed in 0.12.\n",
      "  warnings.warn(\n"
     ]
    },
    {
     "name": "stdout",
     "output_type": "stream",
     "text": [
      "[CV] END base_estimator__max_depth=None, max_features=0.7, max_samples=0.5, n_estimators=150; total time=  15.0s\n"
     ]
    },
    {
     "name": "stderr",
     "output_type": "stream",
     "text": [
      "/opt/conda/lib/python3.11/site-packages/imblearn/ensemble/_bagging.py:362: FutureWarning: `base_estimator` was renamed to `estimator` in version 0.10 and will be removed in 0.12.\n",
      "  warnings.warn(\n"
     ]
    },
    {
     "name": "stdout",
     "output_type": "stream",
     "text": [
      "[CV] END base_estimator__max_depth=None, max_features=0.7, max_samples=0.5, n_estimators=150; total time=  14.9s\n"
     ]
    },
    {
     "name": "stderr",
     "output_type": "stream",
     "text": [
      "/opt/conda/lib/python3.11/site-packages/imblearn/ensemble/_bagging.py:362: FutureWarning: `base_estimator` was renamed to `estimator` in version 0.10 and will be removed in 0.12.\n",
      "  warnings.warn(\n"
     ]
    },
    {
     "name": "stdout",
     "output_type": "stream",
     "text": [
      "[CV] END base_estimator__max_depth=None, max_features=0.7, max_samples=0.5, n_estimators=200; total time=  19.7s\n"
     ]
    },
    {
     "name": "stderr",
     "output_type": "stream",
     "text": [
      "/opt/conda/lib/python3.11/site-packages/imblearn/ensemble/_bagging.py:362: FutureWarning: `base_estimator` was renamed to `estimator` in version 0.10 and will be removed in 0.12.\n",
      "  warnings.warn(\n"
     ]
    },
    {
     "name": "stdout",
     "output_type": "stream",
     "text": [
      "[CV] END base_estimator__max_depth=None, max_features=0.7, max_samples=0.5, n_estimators=200; total time=  19.4s\n"
     ]
    },
    {
     "name": "stderr",
     "output_type": "stream",
     "text": [
      "/opt/conda/lib/python3.11/site-packages/imblearn/ensemble/_bagging.py:362: FutureWarning: `base_estimator` was renamed to `estimator` in version 0.10 and will be removed in 0.12.\n",
      "  warnings.warn(\n"
     ]
    },
    {
     "name": "stdout",
     "output_type": "stream",
     "text": [
      "[CV] END base_estimator__max_depth=None, max_features=0.7, max_samples=0.5, n_estimators=200; total time=  20.4s\n",
      "[CV] END base_estimator__max_depth=None, max_features=0.7, max_samples=0.7, n_estimators=0; total time=   0.0s\n",
      "[CV] END base_estimator__max_depth=None, max_features=0.7, max_samples=0.7, n_estimators=0; total time=   0.0s\n",
      "[CV] END base_estimator__max_depth=None, max_features=0.7, max_samples=0.7, n_estimators=0; total time=   0.0s\n"
     ]
    },
    {
     "name": "stderr",
     "output_type": "stream",
     "text": [
      "/opt/conda/lib/python3.11/site-packages/imblearn/ensemble/_bagging.py:362: FutureWarning: `base_estimator` was renamed to `estimator` in version 0.10 and will be removed in 0.12.\n",
      "  warnings.warn(\n"
     ]
    },
    {
     "name": "stdout",
     "output_type": "stream",
     "text": [
      "[CV] END base_estimator__max_depth=None, max_features=0.7, max_samples=0.7, n_estimators=150; total time=  21.4s\n"
     ]
    },
    {
     "name": "stderr",
     "output_type": "stream",
     "text": [
      "/opt/conda/lib/python3.11/site-packages/imblearn/ensemble/_bagging.py:362: FutureWarning: `base_estimator` was renamed to `estimator` in version 0.10 and will be removed in 0.12.\n",
      "  warnings.warn(\n"
     ]
    },
    {
     "name": "stdout",
     "output_type": "stream",
     "text": [
      "[CV] END base_estimator__max_depth=None, max_features=0.7, max_samples=0.7, n_estimators=150; total time=  21.0s\n"
     ]
    },
    {
     "name": "stderr",
     "output_type": "stream",
     "text": [
      "/opt/conda/lib/python3.11/site-packages/imblearn/ensemble/_bagging.py:362: FutureWarning: `base_estimator` was renamed to `estimator` in version 0.10 and will be removed in 0.12.\n",
      "  warnings.warn(\n"
     ]
    },
    {
     "name": "stdout",
     "output_type": "stream",
     "text": [
      "[CV] END base_estimator__max_depth=None, max_features=0.7, max_samples=0.7, n_estimators=150; total time=  20.5s\n"
     ]
    },
    {
     "name": "stderr",
     "output_type": "stream",
     "text": [
      "/opt/conda/lib/python3.11/site-packages/imblearn/ensemble/_bagging.py:362: FutureWarning: `base_estimator` was renamed to `estimator` in version 0.10 and will be removed in 0.12.\n",
      "  warnings.warn(\n"
     ]
    },
    {
     "name": "stdout",
     "output_type": "stream",
     "text": [
      "[CV] END base_estimator__max_depth=None, max_features=0.7, max_samples=0.7, n_estimators=200; total time=  26.3s\n"
     ]
    },
    {
     "name": "stderr",
     "output_type": "stream",
     "text": [
      "/opt/conda/lib/python3.11/site-packages/imblearn/ensemble/_bagging.py:362: FutureWarning: `base_estimator` was renamed to `estimator` in version 0.10 and will be removed in 0.12.\n",
      "  warnings.warn(\n"
     ]
    },
    {
     "name": "stdout",
     "output_type": "stream",
     "text": [
      "[CV] END base_estimator__max_depth=None, max_features=0.7, max_samples=0.7, n_estimators=200; total time=  27.6s\n"
     ]
    },
    {
     "name": "stderr",
     "output_type": "stream",
     "text": [
      "/opt/conda/lib/python3.11/site-packages/imblearn/ensemble/_bagging.py:362: FutureWarning: `base_estimator` was renamed to `estimator` in version 0.10 and will be removed in 0.12.\n",
      "  warnings.warn(\n"
     ]
    },
    {
     "name": "stdout",
     "output_type": "stream",
     "text": [
      "[CV] END base_estimator__max_depth=None, max_features=0.7, max_samples=0.7, n_estimators=200; total time=  28.8s\n",
      "[CV] END base_estimator__max_depth=None, max_features=0.7, max_samples=0.9, n_estimators=0; total time=   0.0s\n",
      "[CV] END base_estimator__max_depth=None, max_features=0.7, max_samples=0.9, n_estimators=0; total time=   0.0s\n",
      "[CV] END base_estimator__max_depth=None, max_features=0.7, max_samples=0.9, n_estimators=0; total time=   0.0s\n"
     ]
    },
    {
     "name": "stderr",
     "output_type": "stream",
     "text": [
      "/opt/conda/lib/python3.11/site-packages/imblearn/ensemble/_bagging.py:362: FutureWarning: `base_estimator` was renamed to `estimator` in version 0.10 and will be removed in 0.12.\n",
      "  warnings.warn(\n"
     ]
    },
    {
     "name": "stdout",
     "output_type": "stream",
     "text": [
      "[CV] END base_estimator__max_depth=None, max_features=0.7, max_samples=0.9, n_estimators=150; total time=  26.1s\n"
     ]
    },
    {
     "name": "stderr",
     "output_type": "stream",
     "text": [
      "/opt/conda/lib/python3.11/site-packages/imblearn/ensemble/_bagging.py:362: FutureWarning: `base_estimator` was renamed to `estimator` in version 0.10 and will be removed in 0.12.\n",
      "  warnings.warn(\n"
     ]
    },
    {
     "name": "stdout",
     "output_type": "stream",
     "text": [
      "[CV] END base_estimator__max_depth=None, max_features=0.7, max_samples=0.9, n_estimators=150; total time=  26.7s\n"
     ]
    },
    {
     "name": "stderr",
     "output_type": "stream",
     "text": [
      "/opt/conda/lib/python3.11/site-packages/imblearn/ensemble/_bagging.py:362: FutureWarning: `base_estimator` was renamed to `estimator` in version 0.10 and will be removed in 0.12.\n",
      "  warnings.warn(\n"
     ]
    },
    {
     "name": "stdout",
     "output_type": "stream",
     "text": [
      "[CV] END base_estimator__max_depth=None, max_features=0.7, max_samples=0.9, n_estimators=150; total time=  26.8s\n"
     ]
    },
    {
     "name": "stderr",
     "output_type": "stream",
     "text": [
      "/opt/conda/lib/python3.11/site-packages/imblearn/ensemble/_bagging.py:362: FutureWarning: `base_estimator` was renamed to `estimator` in version 0.10 and will be removed in 0.12.\n",
      "  warnings.warn(\n"
     ]
    },
    {
     "name": "stdout",
     "output_type": "stream",
     "text": [
      "[CV] END base_estimator__max_depth=None, max_features=0.7, max_samples=0.9, n_estimators=200; total time=  35.9s\n"
     ]
    },
    {
     "name": "stderr",
     "output_type": "stream",
     "text": [
      "/opt/conda/lib/python3.11/site-packages/imblearn/ensemble/_bagging.py:362: FutureWarning: `base_estimator` was renamed to `estimator` in version 0.10 and will be removed in 0.12.\n",
      "  warnings.warn(\n"
     ]
    },
    {
     "name": "stdout",
     "output_type": "stream",
     "text": [
      "[CV] END base_estimator__max_depth=None, max_features=0.7, max_samples=0.9, n_estimators=200; total time=  32.3s\n"
     ]
    },
    {
     "name": "stderr",
     "output_type": "stream",
     "text": [
      "/opt/conda/lib/python3.11/site-packages/imblearn/ensemble/_bagging.py:362: FutureWarning: `base_estimator` was renamed to `estimator` in version 0.10 and will be removed in 0.12.\n",
      "  warnings.warn(\n"
     ]
    },
    {
     "name": "stdout",
     "output_type": "stream",
     "text": [
      "[CV] END base_estimator__max_depth=None, max_features=0.7, max_samples=0.9, n_estimators=200; total time=  32.2s\n",
      "[CV] END base_estimator__max_depth=None, max_features=0.9, max_samples=0.5, n_estimators=0; total time=   0.0s\n",
      "[CV] END base_estimator__max_depth=None, max_features=0.9, max_samples=0.5, n_estimators=0; total time=   0.0s\n",
      "[CV] END base_estimator__max_depth=None, max_features=0.9, max_samples=0.5, n_estimators=0; total time=   0.0s\n"
     ]
    },
    {
     "name": "stderr",
     "output_type": "stream",
     "text": [
      "/opt/conda/lib/python3.11/site-packages/imblearn/ensemble/_bagging.py:362: FutureWarning: `base_estimator` was renamed to `estimator` in version 0.10 and will be removed in 0.12.\n",
      "  warnings.warn(\n"
     ]
    },
    {
     "name": "stdout",
     "output_type": "stream",
     "text": [
      "[CV] END base_estimator__max_depth=None, max_features=0.9, max_samples=0.5, n_estimators=150; total time=  17.2s\n"
     ]
    },
    {
     "name": "stderr",
     "output_type": "stream",
     "text": [
      "/opt/conda/lib/python3.11/site-packages/imblearn/ensemble/_bagging.py:362: FutureWarning: `base_estimator` was renamed to `estimator` in version 0.10 and will be removed in 0.12.\n",
      "  warnings.warn(\n"
     ]
    },
    {
     "name": "stdout",
     "output_type": "stream",
     "text": [
      "[CV] END base_estimator__max_depth=None, max_features=0.9, max_samples=0.5, n_estimators=150; total time=  18.1s\n"
     ]
    },
    {
     "name": "stderr",
     "output_type": "stream",
     "text": [
      "/opt/conda/lib/python3.11/site-packages/imblearn/ensemble/_bagging.py:362: FutureWarning: `base_estimator` was renamed to `estimator` in version 0.10 and will be removed in 0.12.\n",
      "  warnings.warn(\n"
     ]
    },
    {
     "name": "stdout",
     "output_type": "stream",
     "text": [
      "[CV] END base_estimator__max_depth=None, max_features=0.9, max_samples=0.5, n_estimators=150; total time=  16.9s\n"
     ]
    },
    {
     "name": "stderr",
     "output_type": "stream",
     "text": [
      "/opt/conda/lib/python3.11/site-packages/imblearn/ensemble/_bagging.py:362: FutureWarning: `base_estimator` was renamed to `estimator` in version 0.10 and will be removed in 0.12.\n",
      "  warnings.warn(\n"
     ]
    },
    {
     "name": "stdout",
     "output_type": "stream",
     "text": [
      "[CV] END base_estimator__max_depth=None, max_features=0.9, max_samples=0.5, n_estimators=200; total time=  23.2s\n"
     ]
    },
    {
     "name": "stderr",
     "output_type": "stream",
     "text": [
      "/opt/conda/lib/python3.11/site-packages/imblearn/ensemble/_bagging.py:362: FutureWarning: `base_estimator` was renamed to `estimator` in version 0.10 and will be removed in 0.12.\n",
      "  warnings.warn(\n"
     ]
    },
    {
     "name": "stdout",
     "output_type": "stream",
     "text": [
      "[CV] END base_estimator__max_depth=None, max_features=0.9, max_samples=0.5, n_estimators=200; total time=  22.4s\n"
     ]
    },
    {
     "name": "stderr",
     "output_type": "stream",
     "text": [
      "/opt/conda/lib/python3.11/site-packages/imblearn/ensemble/_bagging.py:362: FutureWarning: `base_estimator` was renamed to `estimator` in version 0.10 and will be removed in 0.12.\n",
      "  warnings.warn(\n"
     ]
    },
    {
     "name": "stdout",
     "output_type": "stream",
     "text": [
      "[CV] END base_estimator__max_depth=None, max_features=0.9, max_samples=0.5, n_estimators=200; total time=  22.6s\n",
      "[CV] END base_estimator__max_depth=None, max_features=0.9, max_samples=0.7, n_estimators=0; total time=   0.0s\n",
      "[CV] END base_estimator__max_depth=None, max_features=0.9, max_samples=0.7, n_estimators=0; total time=   0.0s\n",
      "[CV] END base_estimator__max_depth=None, max_features=0.9, max_samples=0.7, n_estimators=0; total time=   0.0s\n"
     ]
    },
    {
     "name": "stderr",
     "output_type": "stream",
     "text": [
      "/opt/conda/lib/python3.11/site-packages/imblearn/ensemble/_bagging.py:362: FutureWarning: `base_estimator` was renamed to `estimator` in version 0.10 and will be removed in 0.12.\n",
      "  warnings.warn(\n"
     ]
    },
    {
     "name": "stdout",
     "output_type": "stream",
     "text": [
      "[CV] END base_estimator__max_depth=None, max_features=0.9, max_samples=0.7, n_estimators=150; total time=  25.1s\n"
     ]
    },
    {
     "name": "stderr",
     "output_type": "stream",
     "text": [
      "/opt/conda/lib/python3.11/site-packages/imblearn/ensemble/_bagging.py:362: FutureWarning: `base_estimator` was renamed to `estimator` in version 0.10 and will be removed in 0.12.\n",
      "  warnings.warn(\n"
     ]
    },
    {
     "name": "stdout",
     "output_type": "stream",
     "text": [
      "[CV] END base_estimator__max_depth=None, max_features=0.9, max_samples=0.7, n_estimators=150; total time=  23.5s\n"
     ]
    },
    {
     "name": "stderr",
     "output_type": "stream",
     "text": [
      "/opt/conda/lib/python3.11/site-packages/imblearn/ensemble/_bagging.py:362: FutureWarning: `base_estimator` was renamed to `estimator` in version 0.10 and will be removed in 0.12.\n",
      "  warnings.warn(\n"
     ]
    },
    {
     "name": "stdout",
     "output_type": "stream",
     "text": [
      "[CV] END base_estimator__max_depth=None, max_features=0.9, max_samples=0.7, n_estimators=150; total time=  23.8s\n"
     ]
    },
    {
     "name": "stderr",
     "output_type": "stream",
     "text": [
      "/opt/conda/lib/python3.11/site-packages/imblearn/ensemble/_bagging.py:362: FutureWarning: `base_estimator` was renamed to `estimator` in version 0.10 and will be removed in 0.12.\n",
      "  warnings.warn(\n"
     ]
    },
    {
     "name": "stdout",
     "output_type": "stream",
     "text": [
      "[CV] END base_estimator__max_depth=None, max_features=0.9, max_samples=0.7, n_estimators=200; total time=  32.1s\n"
     ]
    },
    {
     "name": "stderr",
     "output_type": "stream",
     "text": [
      "/opt/conda/lib/python3.11/site-packages/imblearn/ensemble/_bagging.py:362: FutureWarning: `base_estimator` was renamed to `estimator` in version 0.10 and will be removed in 0.12.\n",
      "  warnings.warn(\n"
     ]
    },
    {
     "name": "stdout",
     "output_type": "stream",
     "text": [
      "[CV] END base_estimator__max_depth=None, max_features=0.9, max_samples=0.7, n_estimators=200; total time=  31.1s\n"
     ]
    },
    {
     "name": "stderr",
     "output_type": "stream",
     "text": [
      "/opt/conda/lib/python3.11/site-packages/imblearn/ensemble/_bagging.py:362: FutureWarning: `base_estimator` was renamed to `estimator` in version 0.10 and will be removed in 0.12.\n",
      "  warnings.warn(\n"
     ]
    },
    {
     "name": "stdout",
     "output_type": "stream",
     "text": [
      "[CV] END base_estimator__max_depth=None, max_features=0.9, max_samples=0.7, n_estimators=200; total time=  31.6s\n",
      "[CV] END base_estimator__max_depth=None, max_features=0.9, max_samples=0.9, n_estimators=0; total time=   0.0s\n",
      "[CV] END base_estimator__max_depth=None, max_features=0.9, max_samples=0.9, n_estimators=0; total time=   0.0s\n",
      "[CV] END base_estimator__max_depth=None, max_features=0.9, max_samples=0.9, n_estimators=0; total time=   0.0s\n"
     ]
    },
    {
     "name": "stderr",
     "output_type": "stream",
     "text": [
      "/opt/conda/lib/python3.11/site-packages/imblearn/ensemble/_bagging.py:362: FutureWarning: `base_estimator` was renamed to `estimator` in version 0.10 and will be removed in 0.12.\n",
      "  warnings.warn(\n"
     ]
    },
    {
     "name": "stdout",
     "output_type": "stream",
     "text": [
      "[CV] END base_estimator__max_depth=None, max_features=0.9, max_samples=0.9, n_estimators=150; total time=  31.0s\n"
     ]
    },
    {
     "name": "stderr",
     "output_type": "stream",
     "text": [
      "/opt/conda/lib/python3.11/site-packages/imblearn/ensemble/_bagging.py:362: FutureWarning: `base_estimator` was renamed to `estimator` in version 0.10 and will be removed in 0.12.\n",
      "  warnings.warn(\n"
     ]
    },
    {
     "name": "stdout",
     "output_type": "stream",
     "text": [
      "[CV] END base_estimator__max_depth=None, max_features=0.9, max_samples=0.9, n_estimators=150; total time=  30.0s\n"
     ]
    },
    {
     "name": "stderr",
     "output_type": "stream",
     "text": [
      "/opt/conda/lib/python3.11/site-packages/imblearn/ensemble/_bagging.py:362: FutureWarning: `base_estimator` was renamed to `estimator` in version 0.10 and will be removed in 0.12.\n",
      "  warnings.warn(\n"
     ]
    },
    {
     "name": "stdout",
     "output_type": "stream",
     "text": [
      "[CV] END base_estimator__max_depth=None, max_features=0.9, max_samples=0.9, n_estimators=150; total time=  30.4s\n"
     ]
    },
    {
     "name": "stderr",
     "output_type": "stream",
     "text": [
      "/opt/conda/lib/python3.11/site-packages/imblearn/ensemble/_bagging.py:362: FutureWarning: `base_estimator` was renamed to `estimator` in version 0.10 and will be removed in 0.12.\n",
      "  warnings.warn(\n"
     ]
    },
    {
     "name": "stdout",
     "output_type": "stream",
     "text": [
      "[CV] END base_estimator__max_depth=None, max_features=0.9, max_samples=0.9, n_estimators=200; total time=  40.8s\n"
     ]
    },
    {
     "name": "stderr",
     "output_type": "stream",
     "text": [
      "/opt/conda/lib/python3.11/site-packages/imblearn/ensemble/_bagging.py:362: FutureWarning: `base_estimator` was renamed to `estimator` in version 0.10 and will be removed in 0.12.\n",
      "  warnings.warn(\n"
     ]
    },
    {
     "name": "stdout",
     "output_type": "stream",
     "text": [
      "[CV] END base_estimator__max_depth=None, max_features=0.9, max_samples=0.9, n_estimators=200; total time=  40.3s\n"
     ]
    },
    {
     "name": "stderr",
     "output_type": "stream",
     "text": [
      "/opt/conda/lib/python3.11/site-packages/imblearn/ensemble/_bagging.py:362: FutureWarning: `base_estimator` was renamed to `estimator` in version 0.10 and will be removed in 0.12.\n",
      "  warnings.warn(\n"
     ]
    },
    {
     "name": "stdout",
     "output_type": "stream",
     "text": [
      "[CV] END base_estimator__max_depth=None, max_features=0.9, max_samples=0.9, n_estimators=200; total time=  40.7s\n",
      "[CV] END base_estimator__max_depth=10, max_features=0.5, max_samples=0.5, n_estimators=0; total time=   0.0s\n",
      "[CV] END base_estimator__max_depth=10, max_features=0.5, max_samples=0.5, n_estimators=0; total time=   0.0s\n",
      "[CV] END base_estimator__max_depth=10, max_features=0.5, max_samples=0.5, n_estimators=0; total time=   0.0s\n"
     ]
    },
    {
     "name": "stderr",
     "output_type": "stream",
     "text": [
      "/opt/conda/lib/python3.11/site-packages/imblearn/ensemble/_bagging.py:362: FutureWarning: `base_estimator` was renamed to `estimator` in version 0.10 and will be removed in 0.12.\n",
      "  warnings.warn(\n"
     ]
    },
    {
     "name": "stdout",
     "output_type": "stream",
     "text": [
      "[CV] END base_estimator__max_depth=10, max_features=0.5, max_samples=0.5, n_estimators=150; total time=   8.7s\n"
     ]
    },
    {
     "name": "stderr",
     "output_type": "stream",
     "text": [
      "/opt/conda/lib/python3.11/site-packages/imblearn/ensemble/_bagging.py:362: FutureWarning: `base_estimator` was renamed to `estimator` in version 0.10 and will be removed in 0.12.\n",
      "  warnings.warn(\n"
     ]
    },
    {
     "name": "stdout",
     "output_type": "stream",
     "text": [
      "[CV] END base_estimator__max_depth=10, max_features=0.5, max_samples=0.5, n_estimators=150; total time=   8.8s\n"
     ]
    },
    {
     "name": "stderr",
     "output_type": "stream",
     "text": [
      "/opt/conda/lib/python3.11/site-packages/imblearn/ensemble/_bagging.py:362: FutureWarning: `base_estimator` was renamed to `estimator` in version 0.10 and will be removed in 0.12.\n",
      "  warnings.warn(\n"
     ]
    },
    {
     "name": "stdout",
     "output_type": "stream",
     "text": [
      "[CV] END base_estimator__max_depth=10, max_features=0.5, max_samples=0.5, n_estimators=150; total time=   8.6s\n"
     ]
    },
    {
     "name": "stderr",
     "output_type": "stream",
     "text": [
      "/opt/conda/lib/python3.11/site-packages/imblearn/ensemble/_bagging.py:362: FutureWarning: `base_estimator` was renamed to `estimator` in version 0.10 and will be removed in 0.12.\n",
      "  warnings.warn(\n"
     ]
    },
    {
     "name": "stdout",
     "output_type": "stream",
     "text": [
      "[CV] END base_estimator__max_depth=10, max_features=0.5, max_samples=0.5, n_estimators=200; total time=  11.8s\n"
     ]
    },
    {
     "name": "stderr",
     "output_type": "stream",
     "text": [
      "/opt/conda/lib/python3.11/site-packages/imblearn/ensemble/_bagging.py:362: FutureWarning: `base_estimator` was renamed to `estimator` in version 0.10 and will be removed in 0.12.\n",
      "  warnings.warn(\n"
     ]
    },
    {
     "name": "stdout",
     "output_type": "stream",
     "text": [
      "[CV] END base_estimator__max_depth=10, max_features=0.5, max_samples=0.5, n_estimators=200; total time=  11.7s\n"
     ]
    },
    {
     "name": "stderr",
     "output_type": "stream",
     "text": [
      "/opt/conda/lib/python3.11/site-packages/imblearn/ensemble/_bagging.py:362: FutureWarning: `base_estimator` was renamed to `estimator` in version 0.10 and will be removed in 0.12.\n",
      "  warnings.warn(\n"
     ]
    },
    {
     "name": "stdout",
     "output_type": "stream",
     "text": [
      "[CV] END base_estimator__max_depth=10, max_features=0.5, max_samples=0.5, n_estimators=200; total time=  11.9s\n",
      "[CV] END base_estimator__max_depth=10, max_features=0.5, max_samples=0.7, n_estimators=0; total time=   0.0s\n",
      "[CV] END base_estimator__max_depth=10, max_features=0.5, max_samples=0.7, n_estimators=0; total time=   0.0s\n",
      "[CV] END base_estimator__max_depth=10, max_features=0.5, max_samples=0.7, n_estimators=0; total time=   0.0s\n"
     ]
    },
    {
     "name": "stderr",
     "output_type": "stream",
     "text": [
      "/opt/conda/lib/python3.11/site-packages/imblearn/ensemble/_bagging.py:362: FutureWarning: `base_estimator` was renamed to `estimator` in version 0.10 and will be removed in 0.12.\n",
      "  warnings.warn(\n"
     ]
    },
    {
     "name": "stdout",
     "output_type": "stream",
     "text": [
      "[CV] END base_estimator__max_depth=10, max_features=0.5, max_samples=0.7, n_estimators=150; total time=  12.3s\n"
     ]
    },
    {
     "name": "stderr",
     "output_type": "stream",
     "text": [
      "/opt/conda/lib/python3.11/site-packages/imblearn/ensemble/_bagging.py:362: FutureWarning: `base_estimator` was renamed to `estimator` in version 0.10 and will be removed in 0.12.\n",
      "  warnings.warn(\n"
     ]
    },
    {
     "name": "stdout",
     "output_type": "stream",
     "text": [
      "[CV] END base_estimator__max_depth=10, max_features=0.5, max_samples=0.7, n_estimators=150; total time=  11.5s\n"
     ]
    },
    {
     "name": "stderr",
     "output_type": "stream",
     "text": [
      "/opt/conda/lib/python3.11/site-packages/imblearn/ensemble/_bagging.py:362: FutureWarning: `base_estimator` was renamed to `estimator` in version 0.10 and will be removed in 0.12.\n",
      "  warnings.warn(\n"
     ]
    },
    {
     "name": "stdout",
     "output_type": "stream",
     "text": [
      "[CV] END base_estimator__max_depth=10, max_features=0.5, max_samples=0.7, n_estimators=150; total time=  11.7s\n"
     ]
    },
    {
     "name": "stderr",
     "output_type": "stream",
     "text": [
      "/opt/conda/lib/python3.11/site-packages/imblearn/ensemble/_bagging.py:362: FutureWarning: `base_estimator` was renamed to `estimator` in version 0.10 and will be removed in 0.12.\n",
      "  warnings.warn(\n"
     ]
    },
    {
     "name": "stdout",
     "output_type": "stream",
     "text": [
      "[CV] END base_estimator__max_depth=10, max_features=0.5, max_samples=0.7, n_estimators=200; total time=  16.3s\n"
     ]
    },
    {
     "name": "stderr",
     "output_type": "stream",
     "text": [
      "/opt/conda/lib/python3.11/site-packages/imblearn/ensemble/_bagging.py:362: FutureWarning: `base_estimator` was renamed to `estimator` in version 0.10 and will be removed in 0.12.\n",
      "  warnings.warn(\n"
     ]
    },
    {
     "name": "stdout",
     "output_type": "stream",
     "text": [
      "[CV] END base_estimator__max_depth=10, max_features=0.5, max_samples=0.7, n_estimators=200; total time=  15.7s\n"
     ]
    },
    {
     "name": "stderr",
     "output_type": "stream",
     "text": [
      "/opt/conda/lib/python3.11/site-packages/imblearn/ensemble/_bagging.py:362: FutureWarning: `base_estimator` was renamed to `estimator` in version 0.10 and will be removed in 0.12.\n",
      "  warnings.warn(\n"
     ]
    },
    {
     "name": "stdout",
     "output_type": "stream",
     "text": [
      "[CV] END base_estimator__max_depth=10, max_features=0.5, max_samples=0.7, n_estimators=200; total time=  15.8s\n",
      "[CV] END base_estimator__max_depth=10, max_features=0.5, max_samples=0.9, n_estimators=0; total time=   0.0s\n",
      "[CV] END base_estimator__max_depth=10, max_features=0.5, max_samples=0.9, n_estimators=0; total time=   0.0s\n",
      "[CV] END base_estimator__max_depth=10, max_features=0.5, max_samples=0.9, n_estimators=0; total time=   0.0s\n"
     ]
    },
    {
     "name": "stderr",
     "output_type": "stream",
     "text": [
      "/opt/conda/lib/python3.11/site-packages/imblearn/ensemble/_bagging.py:362: FutureWarning: `base_estimator` was renamed to `estimator` in version 0.10 and will be removed in 0.12.\n",
      "  warnings.warn(\n"
     ]
    },
    {
     "name": "stdout",
     "output_type": "stream",
     "text": [
      "[CV] END base_estimator__max_depth=10, max_features=0.5, max_samples=0.9, n_estimators=150; total time=  15.1s\n"
     ]
    },
    {
     "name": "stderr",
     "output_type": "stream",
     "text": [
      "/opt/conda/lib/python3.11/site-packages/imblearn/ensemble/_bagging.py:362: FutureWarning: `base_estimator` was renamed to `estimator` in version 0.10 and will be removed in 0.12.\n",
      "  warnings.warn(\n"
     ]
    },
    {
     "name": "stdout",
     "output_type": "stream",
     "text": [
      "[CV] END base_estimator__max_depth=10, max_features=0.5, max_samples=0.9, n_estimators=150; total time=  14.6s\n"
     ]
    },
    {
     "name": "stderr",
     "output_type": "stream",
     "text": [
      "/opt/conda/lib/python3.11/site-packages/imblearn/ensemble/_bagging.py:362: FutureWarning: `base_estimator` was renamed to `estimator` in version 0.10 and will be removed in 0.12.\n",
      "  warnings.warn(\n"
     ]
    },
    {
     "name": "stdout",
     "output_type": "stream",
     "text": [
      "[CV] END base_estimator__max_depth=10, max_features=0.5, max_samples=0.9, n_estimators=150; total time=  14.8s\n"
     ]
    },
    {
     "name": "stderr",
     "output_type": "stream",
     "text": [
      "/opt/conda/lib/python3.11/site-packages/imblearn/ensemble/_bagging.py:362: FutureWarning: `base_estimator` was renamed to `estimator` in version 0.10 and will be removed in 0.12.\n",
      "  warnings.warn(\n"
     ]
    },
    {
     "name": "stdout",
     "output_type": "stream",
     "text": [
      "[CV] END base_estimator__max_depth=10, max_features=0.5, max_samples=0.9, n_estimators=200; total time=  20.4s\n"
     ]
    },
    {
     "name": "stderr",
     "output_type": "stream",
     "text": [
      "/opt/conda/lib/python3.11/site-packages/imblearn/ensemble/_bagging.py:362: FutureWarning: `base_estimator` was renamed to `estimator` in version 0.10 and will be removed in 0.12.\n",
      "  warnings.warn(\n"
     ]
    },
    {
     "name": "stdout",
     "output_type": "stream",
     "text": [
      "[CV] END base_estimator__max_depth=10, max_features=0.5, max_samples=0.9, n_estimators=200; total time=  19.5s\n"
     ]
    },
    {
     "name": "stderr",
     "output_type": "stream",
     "text": [
      "/opt/conda/lib/python3.11/site-packages/imblearn/ensemble/_bagging.py:362: FutureWarning: `base_estimator` was renamed to `estimator` in version 0.10 and will be removed in 0.12.\n",
      "  warnings.warn(\n"
     ]
    },
    {
     "name": "stdout",
     "output_type": "stream",
     "text": [
      "[CV] END base_estimator__max_depth=10, max_features=0.5, max_samples=0.9, n_estimators=200; total time=  19.8s\n",
      "[CV] END base_estimator__max_depth=10, max_features=0.7, max_samples=0.5, n_estimators=0; total time=   0.0s\n",
      "[CV] END base_estimator__max_depth=10, max_features=0.7, max_samples=0.5, n_estimators=0; total time=   0.0s\n",
      "[CV] END base_estimator__max_depth=10, max_features=0.7, max_samples=0.5, n_estimators=0; total time=   0.0s\n"
     ]
    },
    {
     "name": "stderr",
     "output_type": "stream",
     "text": [
      "/opt/conda/lib/python3.11/site-packages/imblearn/ensemble/_bagging.py:362: FutureWarning: `base_estimator` was renamed to `estimator` in version 0.10 and will be removed in 0.12.\n",
      "  warnings.warn(\n"
     ]
    },
    {
     "name": "stdout",
     "output_type": "stream",
     "text": [
      "[CV] END base_estimator__max_depth=10, max_features=0.7, max_samples=0.5, n_estimators=150; total time=  11.4s\n"
     ]
    },
    {
     "name": "stderr",
     "output_type": "stream",
     "text": [
      "/opt/conda/lib/python3.11/site-packages/imblearn/ensemble/_bagging.py:362: FutureWarning: `base_estimator` was renamed to `estimator` in version 0.10 and will be removed in 0.12.\n",
      "  warnings.warn(\n"
     ]
    },
    {
     "name": "stdout",
     "output_type": "stream",
     "text": [
      "[CV] END base_estimator__max_depth=10, max_features=0.7, max_samples=0.5, n_estimators=150; total time=  11.4s\n"
     ]
    },
    {
     "name": "stderr",
     "output_type": "stream",
     "text": [
      "/opt/conda/lib/python3.11/site-packages/imblearn/ensemble/_bagging.py:362: FutureWarning: `base_estimator` was renamed to `estimator` in version 0.10 and will be removed in 0.12.\n",
      "  warnings.warn(\n"
     ]
    },
    {
     "name": "stdout",
     "output_type": "stream",
     "text": [
      "[CV] END base_estimator__max_depth=10, max_features=0.7, max_samples=0.5, n_estimators=150; total time=  11.5s\n"
     ]
    },
    {
     "name": "stderr",
     "output_type": "stream",
     "text": [
      "/opt/conda/lib/python3.11/site-packages/imblearn/ensemble/_bagging.py:362: FutureWarning: `base_estimator` was renamed to `estimator` in version 0.10 and will be removed in 0.12.\n",
      "  warnings.warn(\n"
     ]
    },
    {
     "name": "stdout",
     "output_type": "stream",
     "text": [
      "[CV] END base_estimator__max_depth=10, max_features=0.7, max_samples=0.5, n_estimators=200; total time=  15.3s\n"
     ]
    },
    {
     "name": "stderr",
     "output_type": "stream",
     "text": [
      "/opt/conda/lib/python3.11/site-packages/imblearn/ensemble/_bagging.py:362: FutureWarning: `base_estimator` was renamed to `estimator` in version 0.10 and will be removed in 0.12.\n",
      "  warnings.warn(\n"
     ]
    },
    {
     "name": "stdout",
     "output_type": "stream",
     "text": [
      "[CV] END base_estimator__max_depth=10, max_features=0.7, max_samples=0.5, n_estimators=200; total time=  15.3s\n"
     ]
    },
    {
     "name": "stderr",
     "output_type": "stream",
     "text": [
      "/opt/conda/lib/python3.11/site-packages/imblearn/ensemble/_bagging.py:362: FutureWarning: `base_estimator` was renamed to `estimator` in version 0.10 and will be removed in 0.12.\n",
      "  warnings.warn(\n"
     ]
    },
    {
     "name": "stdout",
     "output_type": "stream",
     "text": [
      "[CV] END base_estimator__max_depth=10, max_features=0.7, max_samples=0.5, n_estimators=200; total time=  15.6s\n",
      "[CV] END base_estimator__max_depth=10, max_features=0.7, max_samples=0.7, n_estimators=0; total time=   0.0s\n",
      "[CV] END base_estimator__max_depth=10, max_features=0.7, max_samples=0.7, n_estimators=0; total time=   0.0s\n",
      "[CV] END base_estimator__max_depth=10, max_features=0.7, max_samples=0.7, n_estimators=0; total time=   0.0s\n"
     ]
    },
    {
     "name": "stderr",
     "output_type": "stream",
     "text": [
      "/opt/conda/lib/python3.11/site-packages/imblearn/ensemble/_bagging.py:362: FutureWarning: `base_estimator` was renamed to `estimator` in version 0.10 and will be removed in 0.12.\n",
      "  warnings.warn(\n"
     ]
    },
    {
     "name": "stdout",
     "output_type": "stream",
     "text": [
      "[CV] END base_estimator__max_depth=10, max_features=0.7, max_samples=0.7, n_estimators=150; total time=  15.7s\n"
     ]
    },
    {
     "name": "stderr",
     "output_type": "stream",
     "text": [
      "/opt/conda/lib/python3.11/site-packages/imblearn/ensemble/_bagging.py:362: FutureWarning: `base_estimator` was renamed to `estimator` in version 0.10 and will be removed in 0.12.\n",
      "  warnings.warn(\n"
     ]
    },
    {
     "name": "stdout",
     "output_type": "stream",
     "text": [
      "[CV] END base_estimator__max_depth=10, max_features=0.7, max_samples=0.7, n_estimators=150; total time=  15.8s\n"
     ]
    },
    {
     "name": "stderr",
     "output_type": "stream",
     "text": [
      "/opt/conda/lib/python3.11/site-packages/imblearn/ensemble/_bagging.py:362: FutureWarning: `base_estimator` was renamed to `estimator` in version 0.10 and will be removed in 0.12.\n",
      "  warnings.warn(\n"
     ]
    },
    {
     "name": "stdout",
     "output_type": "stream",
     "text": [
      "[CV] END base_estimator__max_depth=10, max_features=0.7, max_samples=0.7, n_estimators=150; total time=  15.6s\n"
     ]
    },
    {
     "name": "stderr",
     "output_type": "stream",
     "text": [
      "/opt/conda/lib/python3.11/site-packages/imblearn/ensemble/_bagging.py:362: FutureWarning: `base_estimator` was renamed to `estimator` in version 0.10 and will be removed in 0.12.\n",
      "  warnings.warn(\n"
     ]
    },
    {
     "name": "stdout",
     "output_type": "stream",
     "text": [
      "[CV] END base_estimator__max_depth=10, max_features=0.7, max_samples=0.7, n_estimators=200; total time=  20.5s\n"
     ]
    },
    {
     "name": "stderr",
     "output_type": "stream",
     "text": [
      "/opt/conda/lib/python3.11/site-packages/imblearn/ensemble/_bagging.py:362: FutureWarning: `base_estimator` was renamed to `estimator` in version 0.10 and will be removed in 0.12.\n",
      "  warnings.warn(\n"
     ]
    },
    {
     "name": "stdout",
     "output_type": "stream",
     "text": [
      "[CV] END base_estimator__max_depth=10, max_features=0.7, max_samples=0.7, n_estimators=200; total time=  20.6s\n"
     ]
    },
    {
     "name": "stderr",
     "output_type": "stream",
     "text": [
      "/opt/conda/lib/python3.11/site-packages/imblearn/ensemble/_bagging.py:362: FutureWarning: `base_estimator` was renamed to `estimator` in version 0.10 and will be removed in 0.12.\n",
      "  warnings.warn(\n"
     ]
    },
    {
     "name": "stdout",
     "output_type": "stream",
     "text": [
      "[CV] END base_estimator__max_depth=10, max_features=0.7, max_samples=0.7, n_estimators=200; total time=  20.7s\n",
      "[CV] END base_estimator__max_depth=10, max_features=0.7, max_samples=0.9, n_estimators=0; total time=   0.0s\n",
      "[CV] END base_estimator__max_depth=10, max_features=0.7, max_samples=0.9, n_estimators=0; total time=   0.0s\n",
      "[CV] END base_estimator__max_depth=10, max_features=0.7, max_samples=0.9, n_estimators=0; total time=   0.0s\n"
     ]
    },
    {
     "name": "stderr",
     "output_type": "stream",
     "text": [
      "/opt/conda/lib/python3.11/site-packages/imblearn/ensemble/_bagging.py:362: FutureWarning: `base_estimator` was renamed to `estimator` in version 0.10 and will be removed in 0.12.\n",
      "  warnings.warn(\n"
     ]
    },
    {
     "name": "stdout",
     "output_type": "stream",
     "text": [
      "[CV] END base_estimator__max_depth=10, max_features=0.7, max_samples=0.9, n_estimators=150; total time=  20.4s\n"
     ]
    },
    {
     "name": "stderr",
     "output_type": "stream",
     "text": [
      "/opt/conda/lib/python3.11/site-packages/imblearn/ensemble/_bagging.py:362: FutureWarning: `base_estimator` was renamed to `estimator` in version 0.10 and will be removed in 0.12.\n",
      "  warnings.warn(\n"
     ]
    },
    {
     "name": "stdout",
     "output_type": "stream",
     "text": [
      "[CV] END base_estimator__max_depth=10, max_features=0.7, max_samples=0.9, n_estimators=150; total time=  19.7s\n"
     ]
    },
    {
     "name": "stderr",
     "output_type": "stream",
     "text": [
      "/opt/conda/lib/python3.11/site-packages/imblearn/ensemble/_bagging.py:362: FutureWarning: `base_estimator` was renamed to `estimator` in version 0.10 and will be removed in 0.12.\n",
      "  warnings.warn(\n"
     ]
    },
    {
     "name": "stdout",
     "output_type": "stream",
     "text": [
      "[CV] END base_estimator__max_depth=10, max_features=0.7, max_samples=0.9, n_estimators=150; total time=  19.5s\n"
     ]
    },
    {
     "name": "stderr",
     "output_type": "stream",
     "text": [
      "/opt/conda/lib/python3.11/site-packages/imblearn/ensemble/_bagging.py:362: FutureWarning: `base_estimator` was renamed to `estimator` in version 0.10 and will be removed in 0.12.\n",
      "  warnings.warn(\n"
     ]
    },
    {
     "name": "stdout",
     "output_type": "stream",
     "text": [
      "[CV] END base_estimator__max_depth=10, max_features=0.7, max_samples=0.9, n_estimators=200; total time=  25.6s\n"
     ]
    },
    {
     "name": "stderr",
     "output_type": "stream",
     "text": [
      "/opt/conda/lib/python3.11/site-packages/imblearn/ensemble/_bagging.py:362: FutureWarning: `base_estimator` was renamed to `estimator` in version 0.10 and will be removed in 0.12.\n",
      "  warnings.warn(\n"
     ]
    },
    {
     "name": "stdout",
     "output_type": "stream",
     "text": [
      "[CV] END base_estimator__max_depth=10, max_features=0.7, max_samples=0.9, n_estimators=200; total time=  25.7s\n"
     ]
    },
    {
     "name": "stderr",
     "output_type": "stream",
     "text": [
      "/opt/conda/lib/python3.11/site-packages/imblearn/ensemble/_bagging.py:362: FutureWarning: `base_estimator` was renamed to `estimator` in version 0.10 and will be removed in 0.12.\n",
      "  warnings.warn(\n"
     ]
    },
    {
     "name": "stdout",
     "output_type": "stream",
     "text": [
      "[CV] END base_estimator__max_depth=10, max_features=0.7, max_samples=0.9, n_estimators=200; total time=  26.4s\n",
      "[CV] END base_estimator__max_depth=10, max_features=0.9, max_samples=0.5, n_estimators=0; total time=   0.0s\n",
      "[CV] END base_estimator__max_depth=10, max_features=0.9, max_samples=0.5, n_estimators=0; total time=   0.0s\n",
      "[CV] END base_estimator__max_depth=10, max_features=0.9, max_samples=0.5, n_estimators=0; total time=   0.0s\n"
     ]
    },
    {
     "name": "stderr",
     "output_type": "stream",
     "text": [
      "/opt/conda/lib/python3.11/site-packages/imblearn/ensemble/_bagging.py:362: FutureWarning: `base_estimator` was renamed to `estimator` in version 0.10 and will be removed in 0.12.\n",
      "  warnings.warn(\n"
     ]
    },
    {
     "name": "stdout",
     "output_type": "stream",
     "text": [
      "[CV] END base_estimator__max_depth=10, max_features=0.9, max_samples=0.5, n_estimators=150; total time=  14.4s\n"
     ]
    },
    {
     "name": "stderr",
     "output_type": "stream",
     "text": [
      "/opt/conda/lib/python3.11/site-packages/imblearn/ensemble/_bagging.py:362: FutureWarning: `base_estimator` was renamed to `estimator` in version 0.10 and will be removed in 0.12.\n",
      "  warnings.warn(\n"
     ]
    },
    {
     "name": "stdout",
     "output_type": "stream",
     "text": [
      "[CV] END base_estimator__max_depth=10, max_features=0.9, max_samples=0.5, n_estimators=150; total time=  14.2s\n"
     ]
    },
    {
     "name": "stderr",
     "output_type": "stream",
     "text": [
      "/opt/conda/lib/python3.11/site-packages/imblearn/ensemble/_bagging.py:362: FutureWarning: `base_estimator` was renamed to `estimator` in version 0.10 and will be removed in 0.12.\n",
      "  warnings.warn(\n"
     ]
    },
    {
     "name": "stdout",
     "output_type": "stream",
     "text": [
      "[CV] END base_estimator__max_depth=10, max_features=0.9, max_samples=0.5, n_estimators=150; total time=  14.2s\n"
     ]
    },
    {
     "name": "stderr",
     "output_type": "stream",
     "text": [
      "/opt/conda/lib/python3.11/site-packages/imblearn/ensemble/_bagging.py:362: FutureWarning: `base_estimator` was renamed to `estimator` in version 0.10 and will be removed in 0.12.\n",
      "  warnings.warn(\n"
     ]
    },
    {
     "name": "stdout",
     "output_type": "stream",
     "text": [
      "[CV] END base_estimator__max_depth=10, max_features=0.9, max_samples=0.5, n_estimators=200; total time=  19.0s\n"
     ]
    },
    {
     "name": "stderr",
     "output_type": "stream",
     "text": [
      "/opt/conda/lib/python3.11/site-packages/imblearn/ensemble/_bagging.py:362: FutureWarning: `base_estimator` was renamed to `estimator` in version 0.10 and will be removed in 0.12.\n",
      "  warnings.warn(\n"
     ]
    },
    {
     "name": "stdout",
     "output_type": "stream",
     "text": [
      "[CV] END base_estimator__max_depth=10, max_features=0.9, max_samples=0.5, n_estimators=200; total time=  19.6s\n"
     ]
    },
    {
     "name": "stderr",
     "output_type": "stream",
     "text": [
      "/opt/conda/lib/python3.11/site-packages/imblearn/ensemble/_bagging.py:362: FutureWarning: `base_estimator` was renamed to `estimator` in version 0.10 and will be removed in 0.12.\n",
      "  warnings.warn(\n"
     ]
    },
    {
     "name": "stdout",
     "output_type": "stream",
     "text": [
      "[CV] END base_estimator__max_depth=10, max_features=0.9, max_samples=0.5, n_estimators=200; total time=  18.8s\n",
      "[CV] END base_estimator__max_depth=10, max_features=0.9, max_samples=0.7, n_estimators=0; total time=   0.0s\n",
      "[CV] END base_estimator__max_depth=10, max_features=0.9, max_samples=0.7, n_estimators=0; total time=   0.0s\n",
      "[CV] END base_estimator__max_depth=10, max_features=0.9, max_samples=0.7, n_estimators=0; total time=   0.0s\n"
     ]
    },
    {
     "name": "stderr",
     "output_type": "stream",
     "text": [
      "/opt/conda/lib/python3.11/site-packages/imblearn/ensemble/_bagging.py:362: FutureWarning: `base_estimator` was renamed to `estimator` in version 0.10 and will be removed in 0.12.\n",
      "  warnings.warn(\n"
     ]
    },
    {
     "name": "stdout",
     "output_type": "stream",
     "text": [
      "[CV] END base_estimator__max_depth=10, max_features=0.9, max_samples=0.7, n_estimators=150; total time=  19.4s\n"
     ]
    },
    {
     "name": "stderr",
     "output_type": "stream",
     "text": [
      "/opt/conda/lib/python3.11/site-packages/imblearn/ensemble/_bagging.py:362: FutureWarning: `base_estimator` was renamed to `estimator` in version 0.10 and will be removed in 0.12.\n",
      "  warnings.warn(\n"
     ]
    },
    {
     "name": "stdout",
     "output_type": "stream",
     "text": [
      "[CV] END base_estimator__max_depth=10, max_features=0.9, max_samples=0.7, n_estimators=150; total time=  19.7s\n"
     ]
    },
    {
     "name": "stderr",
     "output_type": "stream",
     "text": [
      "/opt/conda/lib/python3.11/site-packages/imblearn/ensemble/_bagging.py:362: FutureWarning: `base_estimator` was renamed to `estimator` in version 0.10 and will be removed in 0.12.\n",
      "  warnings.warn(\n"
     ]
    }
   ],
   "source": [
    "from sklearn.model_selection import GridSearchCV\n",
    "\n",
    "param_grid = {\n",
    "    'base_estimator__max_depth': [None, 10, 20, 50],\n",
    "    'n_estimators': [0, 150, 200],\n",
    "    'max_samples': [0.5, 0.7, 0.9],\n",
    "    'max_features': [0.5, 0.7, 0.9]\n",
    "}\n",
    "\n",
    "base_classifier = DecisionTreeClassifier(random_state=1)\n",
    "classifier_c = BalancedBaggingClassifier(base_estimator=base_classifier, \n",
    "                                       sampling_strategy='not majority',\n",
    "                                       n_estimators = 500,\n",
    "                                       replacement=False,\n",
    "                                       random_state=42)\n",
    "\n",
    "grid_search_bb = GridSearchCV(estimator=classifier_c, param_grid=param_grid, cv=3, scoring='accuracy', verbose=2)\n",
    "grid_search_bb.fit(X_train, y_train)\n",
    "top_bb_params = grid_search_bb.best_params_\n",
    "print(\"Top features as hyperparameters:\", top_bb_params)\n",
    "top_bb_model = BalancedBaggingClassifier(**top_bb_params, random_state=42)\n",
    "top_bb_model.fit(X_train, y_train)"
   ]
  },
  {
   "cell_type": "code",
   "execution_count": null,
   "id": "d4576889-2685-4ef0-8603-89e9cad565ef",
   "metadata": {},
   "outputs": [],
   "source": [
    "#Predicting on the test data\n",
    "preds = classifier.predict(X_test)\n",
    "train_preds = classifier.predict(X_train)\n",
    "\n",
    "end_time = time.time()\n",
    "elapsed_time = end_time - start_time\n",
    "print(f\"Computation time: {elapsed_time:.2f} seconds\")"
   ]
  },
  {
   "cell_type": "code",
   "execution_count": null,
   "id": "9ce068a8-f537-4157-b21d-aa16d81fab42",
   "metadata": {
    "scrolled": true
   },
   "outputs": [],
   "source": [
    "#metrics\n",
    "train_accuracy = accuracy_score(y_train, train_preds)\n",
    "train_precision = precision_score(y_train, train_preds)\n",
    "train_recall = recall_score(y_train, train_preds)\n",
    "accuracy_bb = accuracy_score(y_test, preds)\n",
    "precision_bb = precision_score(y_test, preds)\n",
    "recall_bb = recall_score(y_test, preds)\n",
    "f1_bb = f1_score(y_test, preds)\n",
    "\n",
    "print(\"Train accuracy:\",train_accuracy)\n",
    "print(\"Test accuracy:\",accuracy_bb)\n",
    "print(\"Train precision:\",train_precision)\n",
    "print(\"Test precision:\",precision_bb)\n",
    "print(\"Train recall:\",train_recall)\n",
    "print(\"Test recall:\",recall_bb)"
   ]
  },
  {
   "cell_type": "code",
   "execution_count": null,
   "id": "54a4d569-ea16-4312-8267-9e61c4b026e7",
   "metadata": {},
   "outputs": [],
   "source": [
    "import pandas as pd\n",
    "\n",
    "model_name = \"Balanced Bagging Classifier\"\n",
    "results_dict = {\n",
    "    'Model': model_name,\n",
    "    'Accuracy': accuracy_bb,\n",
    "    'Precision': precision_bb,\n",
    "    'Recall': recall_bb\n",
    "}\n",
    "\n",
    "new_entry_df = pd.DataFrame([results_dict])\n",
    "\n",
    "existing_rows = results_random_df[results_random_df['Model'] == model_name]\n",
    "\n",
    "if not existing_rows.empty:\n",
    "    results_random_df = results_random_df[results_random_df['Model'] != model_name]\n",
    "\n",
    "results_random_df = pd.concat([results_random_df, new_entry_df], ignore_index=True)\n",
    "results_random_df"
   ]
  },
  {
   "cell_type": "code",
   "execution_count": null,
   "id": "f98e53e0-a605-4de2-83bd-eb31e5f5ee43",
   "metadata": {},
   "outputs": [],
   "source": []
  },
  {
   "cell_type": "markdown",
   "id": "6b2eecf8-9390-44ef-9c28-fc848f766039",
   "metadata": {},
   "source": [
    "#### Coinbase"
   ]
  },
  {
   "cell_type": "code",
   "execution_count": null,
   "id": "2915f718-c35e-49f0-ae5a-73232ee22944",
   "metadata": {},
   "outputs": [],
   "source": [
    "#SMOTE for oversampling the data\n",
    "from imblearn.over_sampling import SMOTE\n",
    "\n",
    "sm = SMOTE(sampling_strategy='minority', random_state=42)\n",
    "oversampled_X, oversampled_Y = sm.fit_resample(Xc, Yc)\n",
    "oversampled = pd.concat([pd.DataFrame(oversampled_Y, columns=['FLAG']), pd.DataFrame(oversampled_X, columns=Xc.columns)], axis=1)"
   ]
  },
  {
   "cell_type": "code",
   "execution_count": null,
   "id": "3bb9e447-19d7-457d-8c75-68cc034ca6e1",
   "metadata": {},
   "outputs": [],
   "source": [
    "import time\n",
    "start_time = time.time()\n",
    "\n",
    "from imblearn.ensemble import BalancedBaggingClassifier\n",
    "from sklearn.tree import DecisionTreeClassifier\n",
    "from sklearn.model_selection import train_test_split\n",
    "from sklearn.metrics import accuracy_score, precision_score, recall_score, f1_score\n",
    "\n",
    "X_resampled, Y_resampled = sm.fit_resample(oversampled_X, oversampled_Y)\n",
    "X_train, X_test, y_train, y_test = train_test_split(X_resampled, Y_resampled, test_size=0.3, random_state=42)"
   ]
  },
  {
   "cell_type": "code",
   "execution_count": null,
   "id": "6cf08af0-b5e2-481c-a7c2-09ba52000b6e",
   "metadata": {
    "scrolled": true
   },
   "outputs": [],
   "source": [
    "from sklearn.model_selection import GridSearchCV\n",
    "\n",
    "param_grid = {\n",
    "    'base_estimator__max_depth': [None, 10, 20, 50],\n",
    "    'n_estimators': [0, 150, 200],\n",
    "    'max_samples': [0.5, 0.7, 0.9],\n",
    "    'max_features': [0.5, 0.7, 0.9]\n",
    "}\n",
    "\n",
    "base_classifier = DecisionTreeClassifier(random_state=1)\n",
    "classifier_c = BalancedBaggingClassifier(base_estimator=base_classifier, \n",
    "                                       sampling_strategy='not majority',\n",
    "                                       n_estimators = 500,\n",
    "                                       replacement=False,\n",
    "                                       random_state=42)\n",
    "\n",
    "grid_search_bb = GridSearchCV(estimator=classifier_c, param_grid=param_grid, cv=3, scoring='accuracy', verbose=2)\n",
    "grid_search_bb.fit(X_train, y_train)\n",
    "top_bb_params = grid_search_bb.best_params_\n",
    "print(\"Top features as hyperparameters:\", top_bb_params)\n",
    "top_bb_model = BalancedBaggingClassifier(**top_bb_params, random_state=42)\n",
    "top_bb_model.fit(X_train, y_train)"
   ]
  },
  {
   "cell_type": "code",
   "execution_count": null,
   "id": "cfaeceb9-ac0f-4d41-ba97-d3ed65320cc1",
   "metadata": {},
   "outputs": [],
   "source": [
    "#Predicting on the test data\n",
    "preds = top_bb_model.predict(X_test)\n",
    "train_preds = top_bb_model.predict(X_train)\n",
    "\n",
    "end_time = time.time()\n",
    "elapsed_time = end_time - start_time\n",
    "print(f\"Computation time: {elapsed_time:.2f} seconds\")"
   ]
  },
  {
   "cell_type": "code",
   "execution_count": null,
   "id": "cb70179a-469d-44f0-b7dd-fb15ec613e05",
   "metadata": {},
   "outputs": [],
   "source": [
    "#metrics\n",
    "train_accuracyc = accuracy_score(y_train, train_preds)\n",
    "train_precisionc = precision_score(y_train, train_preds)\n",
    "train_recallc = recall_score(y_train, train_preds)\n",
    "accuracy_bbc = accuracy_score(y_test, preds)\n",
    "precision_bbc = precision_score(y_test, preds)\n",
    "recall_bbc = recall_score(y_test, preds)\n",
    "f1_bbc = f1_score(y_test, preds)\n",
    "\n",
    "print(\"Train accuracy:\",train_accuracyc)\n",
    "print(\"Test accuracy:\",accuracy_bbc)\n",
    "print(\"Train precision:\",train_precisionc)\n",
    "print(\"Test precision:\",precision_bbc)\n",
    "print(\"Train recall:\",train_recallc)\n",
    "print(\"Test recall:\",recall_bbc)"
   ]
  },
  {
   "cell_type": "code",
   "execution_count": null,
   "id": "bd084dd3-152f-4e00-a303-eb791cc975ef",
   "metadata": {},
   "outputs": [],
   "source": [
    "import pandas as pd\n",
    "\n",
    "model_name = \"Balanced Bagging Classifier\"\n",
    "results_dict = {\n",
    "    'Model': model_name,\n",
    "    'Accuracy': accuracy_bbc,\n",
    "    'Precision': precision_bbc,\n",
    "    'Recall': recall_bbc\n",
    "}\n",
    "\n",
    "new_entry_df = pd.DataFrame([results_dict])\n",
    "\n",
    "existing_rows = results_coinbase_df[results_coinbase_df['Model'] == model_name]\n",
    "\n",
    "if not existing_rows.empty:\n",
    "    results_coinbase_df = results_coinbase_df[results_coinbase_df['Model'] != model_name]\n",
    "\n",
    "results_coinbase_df = pd.concat([results_coinbase_df, new_entry_df], ignore_index=True)\n",
    "results_coinbase_df"
   ]
  },
  {
   "cell_type": "code",
   "execution_count": null,
   "id": "6f3e50d7-fc0e-4c96-9e3f-87af00a61192",
   "metadata": {},
   "outputs": [],
   "source": []
  },
  {
   "cell_type": "markdown",
   "id": "b5fbc6c1-9fa6-4983-81ea-bc804e71c5a2",
   "metadata": {},
   "source": [
    "## Ensemble Model"
   ]
  },
  {
   "cell_type": "markdown",
   "id": "a24034f3-bfbd-4c11-bfd8-9d7984515410",
   "metadata": {},
   "source": [
    "#### Random"
   ]
  },
  {
   "cell_type": "code",
   "execution_count": null,
   "id": "45c2e05c-3ff4-4d8c-8aea-5edd50988cee",
   "metadata": {},
   "outputs": [],
   "source": [
    "from sklearn.metrics import accuracy_score, precision_score, recall_score\n",
    "from sklearn.ensemble import VotingClassifier\n",
    "\n",
    "# Create a Voting Classifier that combines all models\n",
    "ensemble_model = VotingClassifier(estimators=[\n",
    "    ('Random Forest', rfc),\n",
    "    ('Decision Tree', dtree),\n",
    "    ('Balanced Bagging Classifier', top_bb_model)\n",
    "], voting='soft')  # Use 'soft' for weighted voting\n",
    "\n",
    "# Create lists to store model names, accuracies, precisions, and recalls\n",
    "model_names = ['Random Forest', 'Decision Tree', 'Balanced Bagging Classifier', 'Ensemble']\n",
    "accuracies = []\n",
    "precisions = []\n",
    "recalls = []\n",
    "\n",
    "# Evaluate and compare the performance of each model\n",
    "models = [rfc, dtree, top_bb_model, ensemble_model]\n",
    "\n",
    "for model, model_name in zip(models, model_names):\n",
    "    # Fit the model\n",
    "    model.fit(X_train, y_train)\n",
    "    \n",
    "    # Make predictions on the test data\n",
    "    y_pred = model.predict(X_test)\n",
    "    \n",
    "    # Calculate accuracy, precision, and recall\n",
    "    accuracy = accuracy_score(y_test, y_pred)\n",
    "    precision = precision_score(y_test, y_pred)\n",
    "    recall = recall_score(y_test, y_pred)\n",
    "    \n",
    "    accuracies.append(accuracy)\n",
    "    precisions.append(precision)\n",
    "    recalls.append(recall)\n",
    "\n",
    "# Create a DataFrame to display the metrics\n",
    "metrics_df = pd.DataFrame({\n",
    "    'Model': model_names,\n",
    "    'Accuracy': accuracies,\n",
    "    'Precision': precisions,\n",
    "    'Recall': recalls\n",
    "})\n",
    "\n",
    "# Sort the DataFrame by accuracy (descending)\n",
    "metrics_df = metrics_df.sort_values(by='Accuracy', ascending=False)\n",
    "\n",
    "# Print the metrics comparison table\n",
    "print(metrics_df)"
   ]
  },
  {
   "cell_type": "code",
   "execution_count": null,
   "id": "33ada82f-a42e-4f25-a248-588dbdcf8677",
   "metadata": {},
   "outputs": [],
   "source": []
  }
 ],
 "metadata": {
  "kernelspec": {
   "display_name": "Python 3 (ipykernel)",
   "language": "python",
   "name": "python3"
  },
  "language_info": {
   "codemirror_mode": {
    "name": "ipython",
    "version": 3
   },
   "file_extension": ".py",
   "mimetype": "text/x-python",
   "name": "python",
   "nbconvert_exporter": "python",
   "pygments_lexer": "ipython3",
   "version": "3.11.4"
  }
 },
 "nbformat": 4,
 "nbformat_minor": 5
}
