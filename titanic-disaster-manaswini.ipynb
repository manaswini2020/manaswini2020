{
 "cells": [
  {
   "cell_type": "code",
   "execution_count": 1,
   "id": "ba321d50",
   "metadata": {
    "_cell_guid": "b1076dfc-b9ad-4769-8c92-a6c4dae69d19",
    "_uuid": "8f2839f25d086af736a60e9eeb907d3b93b6e0e5",
    "execution": {
     "iopub.execute_input": "2024-08-02T21:24:25.152010Z",
     "iopub.status.busy": "2024-08-02T21:24:25.151541Z",
     "iopub.status.idle": "2024-08-02T21:24:26.408896Z",
     "shell.execute_reply": "2024-08-02T21:24:26.407154Z"
    },
    "papermill": {
     "duration": 1.269205,
     "end_time": "2024-08-02T21:24:26.413198",
     "exception": false,
     "start_time": "2024-08-02T21:24:25.143993",
     "status": "completed"
    },
    "tags": []
   },
   "outputs": [
    {
     "name": "stdout",
     "output_type": "stream",
     "text": [
      "/kaggle/input/titanic/train.csv\n",
      "/kaggle/input/titanic/test.csv\n",
      "/kaggle/input/titanic/gender_submission.csv\n"
     ]
    }
   ],
   "source": [
    "# This Python 3 environment comes with many helpful analytics libraries installed\n",
    "# It is defined by the kaggle/python Docker image: https://github.com/kaggle/docker-python\n",
    "# For example, here's several helpful packages to load\n",
    "\n",
    "import numpy as np # linear algebra\n",
    "import pandas as pd # data processing, CSV file I/O (e.g. pd.read_csv)\n",
    "\n",
    "# Input data files are available in the read-only \"../input/\" directory\n",
    "# For example, running this (by clicking run or pressing Shift+Enter) will list all files under the input directory\n",
    "\n",
    "import os\n",
    "for dirname, _, filenames in os.walk('/kaggle/input'):\n",
    "    for filename in filenames:\n",
    "        print(os.path.join(dirname, filename))\n",
    "\n",
    "# You can write up to 20GB to the current directory (/kaggle/working/) that gets preserved as output when you create a version using \"Save & Run All\" \n",
    "# You can also write temporary files to /kaggle/temp/, but they won't be saved outside of the current session"
   ]
  },
  {
   "cell_type": "code",
   "execution_count": 2,
   "id": "be6dfa7f",
   "metadata": {
    "execution": {
     "iopub.execute_input": "2024-08-02T21:24:26.426386Z",
     "iopub.status.busy": "2024-08-02T21:24:26.425765Z",
     "iopub.status.idle": "2024-08-02T21:24:26.470464Z",
     "shell.execute_reply": "2024-08-02T21:24:26.468908Z"
    },
    "papermill": {
     "duration": 0.055106,
     "end_time": "2024-08-02T21:24:26.474107",
     "exception": false,
     "start_time": "2024-08-02T21:24:26.419001",
     "status": "completed"
    },
    "tags": []
   },
   "outputs": [],
   "source": [
    "\n",
    "\n",
    "# Load the datasets\n",
    "train_df = pd.read_csv('/kaggle/input/titanic/train.csv')\n",
    "test_df = pd.read_csv('/kaggle/input/titanic/test.csv')\n",
    "gender_submission_df = pd.read_csv('/kaggle/input/titanic/gender_submission.csv')\n"
   ]
  },
  {
   "cell_type": "code",
   "execution_count": 3,
   "id": "4befdf63",
   "metadata": {
    "execution": {
     "iopub.execute_input": "2024-08-02T21:24:26.486654Z",
     "iopub.status.busy": "2024-08-02T21:24:26.486189Z",
     "iopub.status.idle": "2024-08-02T21:24:26.518902Z",
     "shell.execute_reply": "2024-08-02T21:24:26.517397Z"
    },
    "papermill": {
     "duration": 0.042753,
     "end_time": "2024-08-02T21:24:26.522207",
     "exception": false,
     "start_time": "2024-08-02T21:24:26.479454",
     "status": "completed"
    },
    "tags": []
   },
   "outputs": [
    {
     "data": {
      "text/html": [
       "<div>\n",
       "<style scoped>\n",
       "    .dataframe tbody tr th:only-of-type {\n",
       "        vertical-align: middle;\n",
       "    }\n",
       "\n",
       "    .dataframe tbody tr th {\n",
       "        vertical-align: top;\n",
       "    }\n",
       "\n",
       "    .dataframe thead th {\n",
       "        text-align: right;\n",
       "    }\n",
       "</style>\n",
       "<table border=\"1\" class=\"dataframe\">\n",
       "  <thead>\n",
       "    <tr style=\"text-align: right;\">\n",
       "      <th></th>\n",
       "      <th>PassengerId</th>\n",
       "      <th>Survived</th>\n",
       "      <th>Pclass</th>\n",
       "      <th>Name</th>\n",
       "      <th>Sex</th>\n",
       "      <th>Age</th>\n",
       "      <th>SibSp</th>\n",
       "      <th>Parch</th>\n",
       "      <th>Ticket</th>\n",
       "      <th>Fare</th>\n",
       "      <th>Cabin</th>\n",
       "      <th>Embarked</th>\n",
       "    </tr>\n",
       "  </thead>\n",
       "  <tbody>\n",
       "    <tr>\n",
       "      <th>0</th>\n",
       "      <td>1</td>\n",
       "      <td>0</td>\n",
       "      <td>3</td>\n",
       "      <td>Braund, Mr. Owen Harris</td>\n",
       "      <td>male</td>\n",
       "      <td>22.0</td>\n",
       "      <td>1</td>\n",
       "      <td>0</td>\n",
       "      <td>A/5 21171</td>\n",
       "      <td>7.2500</td>\n",
       "      <td>NaN</td>\n",
       "      <td>S</td>\n",
       "    </tr>\n",
       "    <tr>\n",
       "      <th>1</th>\n",
       "      <td>2</td>\n",
       "      <td>1</td>\n",
       "      <td>1</td>\n",
       "      <td>Cumings, Mrs. John Bradley (Florence Briggs Th...</td>\n",
       "      <td>female</td>\n",
       "      <td>38.0</td>\n",
       "      <td>1</td>\n",
       "      <td>0</td>\n",
       "      <td>PC 17599</td>\n",
       "      <td>71.2833</td>\n",
       "      <td>C85</td>\n",
       "      <td>C</td>\n",
       "    </tr>\n",
       "    <tr>\n",
       "      <th>2</th>\n",
       "      <td>3</td>\n",
       "      <td>1</td>\n",
       "      <td>3</td>\n",
       "      <td>Heikkinen, Miss. Laina</td>\n",
       "      <td>female</td>\n",
       "      <td>26.0</td>\n",
       "      <td>0</td>\n",
       "      <td>0</td>\n",
       "      <td>STON/O2. 3101282</td>\n",
       "      <td>7.9250</td>\n",
       "      <td>NaN</td>\n",
       "      <td>S</td>\n",
       "    </tr>\n",
       "    <tr>\n",
       "      <th>3</th>\n",
       "      <td>4</td>\n",
       "      <td>1</td>\n",
       "      <td>1</td>\n",
       "      <td>Futrelle, Mrs. Jacques Heath (Lily May Peel)</td>\n",
       "      <td>female</td>\n",
       "      <td>35.0</td>\n",
       "      <td>1</td>\n",
       "      <td>0</td>\n",
       "      <td>113803</td>\n",
       "      <td>53.1000</td>\n",
       "      <td>C123</td>\n",
       "      <td>S</td>\n",
       "    </tr>\n",
       "    <tr>\n",
       "      <th>4</th>\n",
       "      <td>5</td>\n",
       "      <td>0</td>\n",
       "      <td>3</td>\n",
       "      <td>Allen, Mr. William Henry</td>\n",
       "      <td>male</td>\n",
       "      <td>35.0</td>\n",
       "      <td>0</td>\n",
       "      <td>0</td>\n",
       "      <td>373450</td>\n",
       "      <td>8.0500</td>\n",
       "      <td>NaN</td>\n",
       "      <td>S</td>\n",
       "    </tr>\n",
       "  </tbody>\n",
       "</table>\n",
       "</div>"
      ],
      "text/plain": [
       "   PassengerId  Survived  Pclass  \\\n",
       "0            1         0       3   \n",
       "1            2         1       1   \n",
       "2            3         1       3   \n",
       "3            4         1       1   \n",
       "4            5         0       3   \n",
       "\n",
       "                                                Name     Sex   Age  SibSp  \\\n",
       "0                            Braund, Mr. Owen Harris    male  22.0      1   \n",
       "1  Cumings, Mrs. John Bradley (Florence Briggs Th...  female  38.0      1   \n",
       "2                             Heikkinen, Miss. Laina  female  26.0      0   \n",
       "3       Futrelle, Mrs. Jacques Heath (Lily May Peel)  female  35.0      1   \n",
       "4                           Allen, Mr. William Henry    male  35.0      0   \n",
       "\n",
       "   Parch            Ticket     Fare Cabin Embarked  \n",
       "0      0         A/5 21171   7.2500   NaN        S  \n",
       "1      0          PC 17599  71.2833   C85        C  \n",
       "2      0  STON/O2. 3101282   7.9250   NaN        S  \n",
       "3      0            113803  53.1000  C123        S  \n",
       "4      0            373450   8.0500   NaN        S  "
      ]
     },
     "execution_count": 3,
     "metadata": {},
     "output_type": "execute_result"
    }
   ],
   "source": [
    "train_df.head()"
   ]
  },
  {
   "cell_type": "code",
   "execution_count": 4,
   "id": "fbfc2361",
   "metadata": {
    "execution": {
     "iopub.execute_input": "2024-08-02T21:24:26.535151Z",
     "iopub.status.busy": "2024-08-02T21:24:26.534692Z",
     "iopub.status.idle": "2024-08-02T21:24:26.549982Z",
     "shell.execute_reply": "2024-08-02T21:24:26.547924Z"
    },
    "papermill": {
     "duration": 0.025714,
     "end_time": "2024-08-02T21:24:26.553344",
     "exception": false,
     "start_time": "2024-08-02T21:24:26.527630",
     "status": "completed"
    },
    "tags": []
   },
   "outputs": [
    {
     "name": "stdout",
     "output_type": "stream",
     "text": [
      "PassengerId      0\n",
      "Survived         0\n",
      "Pclass           0\n",
      "Name             0\n",
      "Sex              0\n",
      "Age            177\n",
      "SibSp            0\n",
      "Parch            0\n",
      "Ticket           0\n",
      "Fare             0\n",
      "Cabin          687\n",
      "Embarked         2\n",
      "dtype: int64\n",
      "PassengerId      0\n",
      "Pclass           0\n",
      "Name             0\n",
      "Sex              0\n",
      "Age             86\n",
      "SibSp            0\n",
      "Parch            0\n",
      "Ticket           0\n",
      "Fare             1\n",
      "Cabin          327\n",
      "Embarked         0\n",
      "dtype: int64\n"
     ]
    }
   ],
   "source": [
    "#Data clean\n",
    "print(train_df.isnull().sum())\n",
    "print(test_df.isnull().sum())"
   ]
  },
  {
   "cell_type": "code",
   "execution_count": 5,
   "id": "f88fe608",
   "metadata": {
    "execution": {
     "iopub.execute_input": "2024-08-02T21:24:26.566086Z",
     "iopub.status.busy": "2024-08-02T21:24:26.565650Z",
     "iopub.status.idle": "2024-08-02T21:24:26.580005Z",
     "shell.execute_reply": "2024-08-02T21:24:26.578796Z"
    },
    "papermill": {
     "duration": 0.024367,
     "end_time": "2024-08-02T21:24:26.583097",
     "exception": false,
     "start_time": "2024-08-02T21:24:26.558730",
     "status": "completed"
    },
    "tags": []
   },
   "outputs": [],
   "source": [
    "#Drop cabin\n",
    "train_df.drop(\"Cabin\",axis=1,inplace=True)\n",
    "test_df.drop(\"Cabin\",axis=1,inplace=True)"
   ]
  },
  {
   "cell_type": "code",
   "execution_count": 6,
   "id": "7c0ae604",
   "metadata": {
    "execution": {
     "iopub.execute_input": "2024-08-02T21:24:26.596139Z",
     "iopub.status.busy": "2024-08-02T21:24:26.595771Z",
     "iopub.status.idle": "2024-08-02T21:24:26.609730Z",
     "shell.execute_reply": "2024-08-02T21:24:26.607628Z"
    },
    "papermill": {
     "duration": 0.024217,
     "end_time": "2024-08-02T21:24:26.613227",
     "exception": false,
     "start_time": "2024-08-02T21:24:26.589010",
     "status": "completed"
    },
    "tags": []
   },
   "outputs": [
    {
     "name": "stderr",
     "output_type": "stream",
     "text": [
      "/tmp/ipykernel_18/2252589939.py:2: FutureWarning: A value is trying to be set on a copy of a DataFrame or Series through chained assignment using an inplace method.\n",
      "The behavior will change in pandas 3.0. This inplace method will never work because the intermediate object on which we are setting values always behaves as a copy.\n",
      "\n",
      "For example, when doing 'df[col].method(value, inplace=True)', try using 'df.method({col: value}, inplace=True)' or df[col] = df[col].method(value) instead, to perform the operation inplace on the original object.\n",
      "\n",
      "\n",
      "  train_df['Age'].fillna(train_df['Age'].median(),inplace=True)\n",
      "/tmp/ipykernel_18/2252589939.py:3: FutureWarning: A value is trying to be set on a copy of a DataFrame or Series through chained assignment using an inplace method.\n",
      "The behavior will change in pandas 3.0. This inplace method will never work because the intermediate object on which we are setting values always behaves as a copy.\n",
      "\n",
      "For example, when doing 'df[col].method(value, inplace=True)', try using 'df.method({col: value}, inplace=True)' or df[col] = df[col].method(value) instead, to perform the operation inplace on the original object.\n",
      "\n",
      "\n",
      "  test_df['Age'].fillna(test_df['Age'].median(),inplace=True)\n"
     ]
    }
   ],
   "source": [
    "#Use Imputation to fill the NA value in Age\n",
    "train_df['Age'].fillna(train_df['Age'].median(),inplace=True)\n",
    "test_df['Age'].fillna(test_df['Age'].median(),inplace=True)"
   ]
  },
  {
   "cell_type": "code",
   "execution_count": 7,
   "id": "9961f43b",
   "metadata": {
    "execution": {
     "iopub.execute_input": "2024-08-02T21:24:26.627721Z",
     "iopub.status.busy": "2024-08-02T21:24:26.626637Z",
     "iopub.status.idle": "2024-08-02T21:24:26.638443Z",
     "shell.execute_reply": "2024-08-02T21:24:26.636850Z"
    },
    "papermill": {
     "duration": 0.022305,
     "end_time": "2024-08-02T21:24:26.641459",
     "exception": false,
     "start_time": "2024-08-02T21:24:26.619154",
     "status": "completed"
    },
    "tags": []
   },
   "outputs": [],
   "source": [
    "train_df['Title'] = train_df['Name'].apply(lambda x: x.split(',')[1].split('.')[0].strip())\n",
    "test_df['Title']=test_df['Name'].apply(lambda x:x.split(',')[1].split('.')[0].strip())"
   ]
  },
  {
   "cell_type": "code",
   "execution_count": 8,
   "id": "9166b5db",
   "metadata": {
    "execution": {
     "iopub.execute_input": "2024-08-02T21:24:26.656555Z",
     "iopub.status.busy": "2024-08-02T21:24:26.655108Z",
     "iopub.status.idle": "2024-08-02T21:24:28.744725Z",
     "shell.execute_reply": "2024-08-02T21:24:28.743170Z"
    },
    "papermill": {
     "duration": 2.099888,
     "end_time": "2024-08-02T21:24:28.747592",
     "exception": false,
     "start_time": "2024-08-02T21:24:26.647704",
     "status": "completed"
    },
    "tags": []
   },
   "outputs": [
    {
     "data": {
      "image/png": "[encoded data removed]",
      "text/plain": [
       "<Figure size 640x480 with 1 Axes>"
      ]
     },
     "metadata": {},
     "output_type": "display_data"
    }
   ],
   "source": [
    "import seaborn as sns\n",
    "import matplotlib.pyplot as plt\n",
    "\n",
    "# Example: Survival rate by passenger class\n",
    "sns.barplot(x='Pclass', y='Survived', data=train_df)\n",
    "plt.title('Survival Rate by Passenger Class')\n",
    "plt.show()"
   ]
  },
  {
   "cell_type": "code",
   "execution_count": 9,
   "id": "3e6e8c04",
   "metadata": {
    "execution": {
     "iopub.execute_input": "2024-08-02T21:24:28.763488Z",
     "iopub.status.busy": "2024-08-02T21:24:28.762215Z",
     "iopub.status.idle": "2024-08-02T21:24:29.877636Z",
     "shell.execute_reply": "2024-08-02T21:24:29.875848Z"
    },
    "papermill": {
     "duration": 1.127643,
     "end_time": "2024-08-02T21:24:29.881556",
     "exception": false,
     "start_time": "2024-08-02T21:24:28.753913",
     "status": "completed"
    },
    "tags": []
   },
   "outputs": [
    {
     "name": "stdout",
     "output_type": "stream",
     "text": [
      "Accuracy: 0.7150837988826816\n"
     ]
    }
   ],
   "source": [
    "from sklearn.model_selection import train_test_split\n",
    "from sklearn.ensemble import RandomForestClassifier\n",
    "from sklearn.metrics import accuracy_score\n",
    "\n",
    "# Prepare the data\n",
    "X = train_df[['Pclass', 'Age', 'Fare', 'SibSp', 'Parch']]  # Example features\n",
    "y = train_df['Survived']\n",
    "\n",
    "# Split the data\n",
    "X_train, X_valid, y_train, y_valid = train_test_split(X, y, test_size=0.2, random_state=0)\n",
    "\n",
    "# Train a model\n",
    "model = RandomForestClassifier(n_estimators=100, random_state=0)\n",
    "model.fit(X_train, y_train)\n",
    "\n",
    "# Make predictions and evaluate\n",
    "predictions = model.predict(X_valid)\n",
    "print('Accuracy:', accuracy_score(y_valid, predictions))\n"
   ]
  },
  {
   "cell_type": "code",
   "execution_count": 10,
   "id": "70d99abd",
   "metadata": {
    "execution": {
     "iopub.execute_input": "2024-08-02T21:24:29.896771Z",
     "iopub.status.busy": "2024-08-02T21:24:29.896220Z",
     "iopub.status.idle": "2024-08-02T21:24:29.930681Z",
     "shell.execute_reply": "2024-08-02T21:24:29.928578Z"
    },
    "papermill": {
     "duration": 0.046365,
     "end_time": "2024-08-02T21:24:29.934252",
     "exception": false,
     "start_time": "2024-08-02T21:24:29.887887",
     "status": "completed"
    },
    "tags": []
   },
   "outputs": [
    {
     "name": "stdout",
     "output_type": "stream",
     "text": [
      "179\n"
     ]
    },
    {
     "name": "stderr",
     "output_type": "stream",
     "text": [
      "/tmp/ipykernel_18/2668710259.py:3: SettingWithCopyWarning: \n",
      "A value is trying to be set on a copy of a slice from a DataFrame\n",
      "\n",
      "See the caveats in the documentation: https://pandas.pydata.org/pandas-docs/stable/user_guide/indexing.html#returning-a-view-versus-a-copy\n",
      "  test_X.fillna(test_X.mean(), inplace=True)\n"
     ]
    }
   ],
   "source": [
    "# Prepare the test data\n",
    "test_X = test_df[['Pclass', 'Age', 'Fare', 'SibSp', 'Parch']]\n",
    "test_X.fillna(test_X.mean(), inplace=True)\n",
    "# Make predictions\n",
    "test_predictions = model.predict(test_X)\n",
    "\n",
    "submission_df = pd.DataFrame({\n",
    "    'PassengerId': test_df['PassengerId'],\n",
    "    'Survived': test_predictions\n",
    "})\n",
    "\n",
    "print(submission_df['Survived'].sum())"
   ]
  },
  {
   "cell_type": "code",
   "execution_count": null,
   "id": "d26f751d",
   "metadata": {
    "papermill": {
     "duration": 0.006503,
     "end_time": "2024-08-02T21:24:29.947108",
     "exception": false,
     "start_time": "2024-08-02T21:24:29.940605",
     "status": "completed"
    },
    "tags": []
   },
   "outputs": [],
   "source": []
  }
 ],
 "metadata": {
  "kaggle": {
   "accelerator": "none",
   "dataSources": [
    {
     "databundleVersionId": 26502,
     "sourceId": 3136,
     "sourceType": "competition"
    }
   ],
   "dockerImageVersionId": 30746,
   "isGpuEnabled": false,
   "isInternetEnabled": true,
   "language": "python",
   "sourceType": "notebook"
  },
  "kernelspec": {
   "display_name": "Python 3",
   "language": "python",
   "name": "python3"
  },
  "language_info": {
   "codemirror_mode": {
    "name": "ipython",
    "version": 3
   },
   "file_extension": ".py",
   "mimetype": "text/x-python",
   "name": "python",
   "nbconvert_exporter": "python",
   "pygments_lexer": "ipython3",
   "version": "3.10.13"
  },
  "papermill": {
   "default_parameters": {},
   "duration": 9.498481,
   "end_time": "2024-08-02T21:24:30.979053",
   "environment_variables": {},
   "exception": null,
   "input_path": "__notebook__.ipynb",
   "output_path": "__notebook__.ipynb",
   "parameters": {},
   "start_time": "2024-08-02T21:24:21.480572",
   "version": "2.5.0"
  }
 },
 "nbformat": 4,
 "nbformat_minor": 5
}
