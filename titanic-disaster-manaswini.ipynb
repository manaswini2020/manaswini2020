{
 "cells": [
  {
   "cell_type": "code",
   "execution_count": 1,
   "id": "e382a379",
   "metadata": {
    "_cell_guid": "b1076dfc-b9ad-4769-8c92-a6c4dae69d19",
    "_uuid": "8f2839f25d086af736a60e9eeb907d3b93b6e0e5",
    "execution": {
     "iopub.execute_input": "2024-08-02T21:28:01.710621Z",
     "iopub.status.busy": "2024-08-02T21:28:01.710148Z",
     "iopub.status.idle": "2024-08-02T21:28:02.807438Z",
     "shell.execute_reply": "2024-08-02T21:28:02.806119Z"
    },
    "papermill": {
     "duration": 1.109066,
     "end_time": "2024-08-02T21:28:02.810737",
     "exception": false,
     "start_time": "2024-08-02T21:28:01.701671",
     "status": "completed"
    },
    "tags": []
   },
   "outputs": [
    {
     "name": "stdout",
     "output_type": "stream",
     "text": [
      "/kaggle/input/titanic/train.csv\n",
      "/kaggle/input/titanic/test.csv\n",
      "/kaggle/input/titanic/gender_submission.csv\n"
     ]
    }
   ],
   "source": [
    "# This Python 3 environment comes with many helpful analytics libraries installed\n",
    "# It is defined by the kaggle/python Docker image: https://github.com/kaggle/docker-python\n",
    "# For example, here's several helpful packages to load\n",
    "\n",
    "import numpy as np # linear algebra\n",
    "import pandas as pd # data processing, CSV file I/O (e.g. pd.read_csv)\n",
    "\n",
    "# Input data files are available in the read-only \"../input/\" directory\n",
    "# For example, running this (by clicking run or pressing Shift+Enter) will list all files under the input directory\n",
    "\n",
    "import os\n",
    "for dirname, _, filenames in os.walk('/kaggle/input'):\n",
    "    for filename in filenames:\n",
    "        print(os.path.join(dirname, filename))\n",
    "\n",
    "# You can write up to 20GB to the current directory (/kaggle/working/) that gets preserved as output when you create a version using \"Save & Run All\" \n",
    "# You can also write temporary files to /kaggle/temp/, but they won't be saved outside of the current session"
   ]
  },
  {
   "cell_type": "code",
   "execution_count": null,
   "id": "9c797595",
   "metadata": {
    "papermill": {
     "duration": 0.004728,
     "end_time": "2024-08-02T21:28:02.820981",
     "exception": false,
     "start_time": "2024-08-02T21:28:02.816253",
     "status": "completed"
    },
    "tags": []
   },
   "outputs": [],
   "source": []
  },
  {
   "cell_type": "code",
   "execution_count": 2,
   "id": "d7a40542",
   "metadata": {
    "execution": {
     "iopub.execute_input": "2024-08-02T21:28:02.832588Z",
     "iopub.status.busy": "2024-08-02T21:28:02.832061Z",
     "iopub.status.idle": "2024-08-02T21:28:02.874139Z",
     "shell.execute_reply": "2024-08-02T21:28:02.873119Z"
    },
    "papermill": {
     "duration": 0.051215,
     "end_time": "2024-08-02T21:28:02.877098",
     "exception": false,
     "start_time": "2024-08-02T21:28:02.825883",
     "status": "completed"
    },
    "tags": []
   },
   "outputs": [],
   "source": [
    "\n",
    "\n",
    "# Load the datasets\n",
    "train_df = pd.read_csv('/kaggle/input/titanic/train.csv')\n",
    "test_df = pd.read_csv('/kaggle/input/titanic/test.csv')\n",
    "gender_submission_df = pd.read_csv('/kaggle/input/titanic/gender_submission.csv')\n"
   ]
  },
  {
   "cell_type": "code",
   "execution_count": 3,
   "id": "4bbe37e2",
   "metadata": {
    "execution": {
     "iopub.execute_input": "2024-08-02T21:28:02.889789Z",
     "iopub.status.busy": "2024-08-02T21:28:02.888739Z",
     "iopub.status.idle": "2024-08-02T21:28:02.920043Z",
     "shell.execute_reply": "2024-08-02T21:28:02.918905Z"
    },
    "papermill": {
     "duration": 0.040642,
     "end_time": "2024-08-02T21:28:02.922892",
     "exception": false,
     "start_time": "2024-08-02T21:28:02.882250",
     "status": "completed"
    },
    "tags": []
   },
   "outputs": [
    {
     "data": {
      "text/html": [
       "<div>\n",
       "<style scoped>\n",
       "    .dataframe tbody tr th:only-of-type {\n",
       "        vertical-align: middle;\n",
       "    }\n",
       "\n",
       "    .dataframe tbody tr th {\n",
       "        vertical-align: top;\n",
       "    }\n",
       "\n",
       "    .dataframe thead th {\n",
       "        text-align: right;\n",
       "    }\n",
       "</style>\n",
       "<table border=\"1\" class=\"dataframe\">\n",
       "  <thead>\n",
       "    <tr style=\"text-align: right;\">\n",
       "      <th></th>\n",
       "      <th>PassengerId</th>\n",
       "      <th>Survived</th>\n",
       "      <th>Pclass</th>\n",
       "      <th>Name</th>\n",
       "      <th>Sex</th>\n",
       "      <th>Age</th>\n",
       "      <th>SibSp</th>\n",
       "      <th>Parch</th>\n",
       "      <th>Ticket</th>\n",
       "      <th>Fare</th>\n",
       "      <th>Cabin</th>\n",
       "      <th>Embarked</th>\n",
       "    </tr>\n",
       "  </thead>\n",
       "  <tbody>\n",
       "    <tr>\n",
       "      <th>0</th>\n",
       "      <td>1</td>\n",
       "      <td>0</td>\n",
       "      <td>3</td>\n",
       "      <td>Braund, Mr. Owen Harris</td>\n",
       "      <td>male</td>\n",
       "      <td>22.0</td>\n",
       "      <td>1</td>\n",
       "      <td>0</td>\n",
       "      <td>A/5 21171</td>\n",
       "      <td>7.2500</td>\n",
       "      <td>NaN</td>\n",
       "      <td>S</td>\n",
       "    </tr>\n",
       "    <tr>\n",
       "      <th>1</th>\n",
       "      <td>2</td>\n",
       "      <td>1</td>\n",
       "      <td>1</td>\n",
       "      <td>Cumings, Mrs. John Bradley (Florence Briggs Th...</td>\n",
       "      <td>female</td>\n",
       "      <td>38.0</td>\n",
       "      <td>1</td>\n",
       "      <td>0</td>\n",
       "      <td>PC 17599</td>\n",
       "      <td>71.2833</td>\n",
       "      <td>C85</td>\n",
       "      <td>C</td>\n",
       "    </tr>\n",
       "    <tr>\n",
       "      <th>2</th>\n",
       "      <td>3</td>\n",
       "      <td>1</td>\n",
       "      <td>3</td>\n",
       "      <td>Heikkinen, Miss. Laina</td>\n",
       "      <td>female</td>\n",
       "      <td>26.0</td>\n",
       "      <td>0</td>\n",
       "      <td>0</td>\n",
       "      <td>STON/O2. 3101282</td>\n",
       "      <td>7.9250</td>\n",
       "      <td>NaN</td>\n",
       "      <td>S</td>\n",
       "    </tr>\n",
       "    <tr>\n",
       "      <th>3</th>\n",
       "      <td>4</td>\n",
       "      <td>1</td>\n",
       "      <td>1</td>\n",
       "      <td>Futrelle, Mrs. Jacques Heath (Lily May Peel)</td>\n",
       "      <td>female</td>\n",
       "      <td>35.0</td>\n",
       "      <td>1</td>\n",
       "      <td>0</td>\n",
       "      <td>113803</td>\n",
       "      <td>53.1000</td>\n",
       "      <td>C123</td>\n",
       "      <td>S</td>\n",
       "    </tr>\n",
       "    <tr>\n",
       "      <th>4</th>\n",
       "      <td>5</td>\n",
       "      <td>0</td>\n",
       "      <td>3</td>\n",
       "      <td>Allen, Mr. William Henry</td>\n",
       "      <td>male</td>\n",
       "      <td>35.0</td>\n",
       "      <td>0</td>\n",
       "      <td>0</td>\n",
       "      <td>373450</td>\n",
       "      <td>8.0500</td>\n",
       "      <td>NaN</td>\n",
       "      <td>S</td>\n",
       "    </tr>\n",
       "  </tbody>\n",
       "</table>\n",
       "</div>"
      ],
      "text/plain": [
       "   PassengerId  Survived  Pclass  \\\n",
       "0            1         0       3   \n",
       "1            2         1       1   \n",
       "2            3         1       3   \n",
       "3            4         1       1   \n",
       "4            5         0       3   \n",
       "\n",
       "                                                Name     Sex   Age  SibSp  \\\n",
       "0                            Braund, Mr. Owen Harris    male  22.0      1   \n",
       "1  Cumings, Mrs. John Bradley (Florence Briggs Th...  female  38.0      1   \n",
       "2                             Heikkinen, Miss. Laina  female  26.0      0   \n",
       "3       Futrelle, Mrs. Jacques Heath (Lily May Peel)  female  35.0      1   \n",
       "4                           Allen, Mr. William Henry    male  35.0      0   \n",
       "\n",
       "   Parch            Ticket     Fare Cabin Embarked  \n",
       "0      0         A/5 21171   7.2500   NaN        S  \n",
       "1      0          PC 17599  71.2833   C85        C  \n",
       "2      0  STON/O2. 3101282   7.9250   NaN        S  \n",
       "3      0            113803  53.1000  C123        S  \n",
       "4      0            373450   8.0500   NaN        S  "
      ]
     },
     "execution_count": 3,
     "metadata": {},
     "output_type": "execute_result"
    }
   ],
   "source": [
    "train_df.head()"
   ]
  },
  {
   "cell_type": "code",
   "execution_count": 4,
   "id": "22d1ef37",
   "metadata": {
    "execution": {
     "iopub.execute_input": "2024-08-02T21:28:02.935935Z",
     "iopub.status.busy": "2024-08-02T21:28:02.935482Z",
     "iopub.status.idle": "2024-08-02T21:28:02.949074Z",
     "shell.execute_reply": "2024-08-02T21:28:02.947296Z"
    },
    "papermill": {
     "duration": 0.023138,
     "end_time": "2024-08-02T21:28:02.951583",
     "exception": false,
     "start_time": "2024-08-02T21:28:02.928445",
     "status": "completed"
    },
    "tags": []
   },
   "outputs": [
    {
     "name": "stdout",
     "output_type": "stream",
     "text": [
      "PassengerId      0\n",
      "Survived         0\n",
      "Pclass           0\n",
      "Name             0\n",
      "Sex              0\n",
      "Age            177\n",
      "SibSp            0\n",
      "Parch            0\n",
      "Ticket           0\n",
      "Fare             0\n",
      "Cabin          687\n",
      "Embarked         2\n",
      "dtype: int64\n",
      "PassengerId      0\n",
      "Pclass           0\n",
      "Name             0\n",
      "Sex              0\n",
      "Age             86\n",
      "SibSp            0\n",
      "Parch            0\n",
      "Ticket           0\n",
      "Fare             1\n",
      "Cabin          327\n",
      "Embarked         0\n",
      "dtype: int64\n"
     ]
    }
   ],
   "source": [
    "#Data clean\n",
    "print(train_df.isnull().sum())\n",
    "print(test_df.isnull().sum())"
   ]
  },
  {
   "cell_type": "code",
   "execution_count": 5,
   "id": "1c17f880",
   "metadata": {
    "execution": {
     "iopub.execute_input": "2024-08-02T21:28:02.966994Z",
     "iopub.status.busy": "2024-08-02T21:28:02.966528Z",
     "iopub.status.idle": "2024-08-02T21:28:02.982368Z",
     "shell.execute_reply": "2024-08-02T21:28:02.981022Z"
    },
    "papermill": {
     "duration": 0.027655,
     "end_time": "2024-08-02T21:28:02.985143",
     "exception": false,
     "start_time": "2024-08-02T21:28:02.957488",
     "status": "completed"
    },
    "tags": []
   },
   "outputs": [],
   "source": [
    "#Drop cabin\n",
    "train_df.drop(\"Cabin\",axis=1,inplace=True)\n",
    "test_df.drop(\"Cabin\",axis=1,inplace=True)"
   ]
  },
  {
   "cell_type": "code",
   "execution_count": 6,
   "id": "8132f1a4",
   "metadata": {
    "execution": {
     "iopub.execute_input": "2024-08-02T21:28:02.998642Z",
     "iopub.status.busy": "2024-08-02T21:28:02.998186Z",
     "iopub.status.idle": "2024-08-02T21:28:03.012151Z",
     "shell.execute_reply": "2024-08-02T21:28:03.010378Z"
    },
    "papermill": {
     "duration": 0.023854,
     "end_time": "2024-08-02T21:28:03.014942",
     "exception": false,
     "start_time": "2024-08-02T21:28:02.991088",
     "status": "completed"
    },
    "tags": []
   },
   "outputs": [
    {
     "name": "stderr",
     "output_type": "stream",
     "text": [
      "/tmp/ipykernel_18/2252589939.py:2: FutureWarning: A value is trying to be set on a copy of a DataFrame or Series through chained assignment using an inplace method.\n",
      "The behavior will change in pandas 3.0. This inplace method will never work because the intermediate object on which we are setting values always behaves as a copy.\n",
      "\n",
      "For example, when doing 'df[col].method(value, inplace=True)', try using 'df.method({col: value}, inplace=True)' or df[col] = df[col].method(value) instead, to perform the operation inplace on the original object.\n",
      "\n",
      "\n",
      "  train_df['Age'].fillna(train_df['Age'].median(),inplace=True)\n",
      "/tmp/ipykernel_18/2252589939.py:3: FutureWarning: A value is trying to be set on a copy of a DataFrame or Series through chained assignment using an inplace method.\n",
      "The behavior will change in pandas 3.0. This inplace method will never work because the intermediate object on which we are setting values always behaves as a copy.\n",
      "\n",
      "For example, when doing 'df[col].method(value, inplace=True)', try using 'df.method({col: value}, inplace=True)' or df[col] = df[col].method(value) instead, to perform the operation inplace on the original object.\n",
      "\n",
      "\n",
      "  test_df['Age'].fillna(test_df['Age'].median(),inplace=True)\n"
     ]
    }
   ],
   "source": [
    "#Use Imputation to fill the NA value in Age\n",
    "train_df['Age'].fillna(train_df['Age'].median(),inplace=True)\n",
    "test_df['Age'].fillna(test_df['Age'].median(),inplace=True)"
   ]
  },
  {
   "cell_type": "code",
   "execution_count": 7,
   "id": "67f9c98c",
   "metadata": {
    "execution": {
     "iopub.execute_input": "2024-08-02T21:28:03.028239Z",
     "iopub.status.busy": "2024-08-02T21:28:03.027766Z",
     "iopub.status.idle": "2024-08-02T21:28:03.038613Z",
     "shell.execute_reply": "2024-08-02T21:28:03.037524Z"
    },
    "papermill": {
     "duration": 0.020577,
     "end_time": "2024-08-02T21:28:03.041254",
     "exception": false,
     "start_time": "2024-08-02T21:28:03.020677",
     "status": "completed"
    },
    "tags": []
   },
   "outputs": [],
   "source": [
    "train_df['Title'] = train_df['Name'].apply(lambda x: x.split(',')[1].split('.')[0].strip())\n",
    "test_df['Title']=test_df['Name'].apply(lambda x:x.split(',')[1].split('.')[0].strip())"
   ]
  },
  {
   "cell_type": "code",
   "execution_count": 8,
   "id": "80354cc0",
   "metadata": {
    "execution": {
     "iopub.execute_input": "2024-08-02T21:28:03.054814Z",
     "iopub.status.busy": "2024-08-02T21:28:03.054383Z",
     "iopub.status.idle": "2024-08-02T21:28:04.988726Z",
     "shell.execute_reply": "2024-08-02T21:28:04.987561Z"
    },
    "papermill": {
     "duration": 1.94486,
     "end_time": "2024-08-02T21:28:04.991794",
     "exception": false,
     "start_time": "2024-08-02T21:28:03.046934",
     "status": "completed"
    },
    "tags": []
   },
   "outputs": [
    {
     "data": {
      "image/png": "[encoded data removed]",
      "text/plain": [
       "<Figure size 640x480 with 1 Axes>"
      ]
     },
     "metadata": {},
     "output_type": "display_data"
    }
   ],
   "source": [
    "import seaborn as sns\n",
    "import matplotlib.pyplot as plt\n",
    "\n",
    "# Example: Survival rate by passenger class\n",
    "sns.barplot(x='Pclass', y='Survived', data=train_df)\n",
    "plt.title('Survival Rate by Passenger Class')\n",
    "plt.show()"
   ]
  },
  {
   "cell_type": "code",
   "execution_count": 9,
   "id": "d8123a83",
   "metadata": {
    "execution": {
     "iopub.execute_input": "2024-08-02T21:28:05.006072Z",
     "iopub.status.busy": "2024-08-02T21:28:05.005632Z",
     "iopub.status.idle": "2024-08-02T21:28:06.012696Z",
     "shell.execute_reply": "2024-08-02T21:28:06.011225Z"
    },
    "papermill": {
     "duration": 1.017557,
     "end_time": "2024-08-02T21:28:06.015469",
     "exception": false,
     "start_time": "2024-08-02T21:28:04.997912",
     "status": "completed"
    },
    "tags": []
   },
   "outputs": [
    {
     "name": "stdout",
     "output_type": "stream",
     "text": [
      "Accuracy: 0.7150837988826816\n"
     ]
    }
   ],
   "source": [
    "from sklearn.model_selection import train_test_split\n",
    "from sklearn.ensemble import RandomForestClassifier\n",
    "from sklearn.metrics import accuracy_score\n",
    "\n",
    "# Prepare the data\n",
    "X = train_df[['Pclass', 'Age', 'Fare', 'SibSp', 'Parch']]  # Example features\n",
    "y = train_df['Survived']\n",
    "\n",
    "# Split the data\n",
    "X_train, X_valid, y_train, y_valid = train_test_split(X, y, test_size=0.2, random_state=0)\n",
    "\n",
    "# Train a model\n",
    "model = RandomForestClassifier(n_estimators=100, random_state=0)\n",
    "model.fit(X_train, y_train)\n",
    "\n",
    "# Make predictions and evaluate\n",
    "predictions = model.predict(X_valid)\n",
    "print('Accuracy:', accuracy_score(y_valid, predictions))\n"
   ]
  },
  {
   "cell_type": "code",
   "execution_count": 10,
   "id": "7728aebf",
   "metadata": {
    "execution": {
     "iopub.execute_input": "2024-08-02T21:28:06.030867Z",
     "iopub.status.busy": "2024-08-02T21:28:06.029653Z",
     "iopub.status.idle": "2024-08-02T21:28:06.060549Z",
     "shell.execute_reply": "2024-08-02T21:28:06.059265Z"
    },
    "papermill": {
     "duration": 0.041999,
     "end_time": "2024-08-02T21:28:06.063931",
     "exception": false,
     "start_time": "2024-08-02T21:28:06.021932",
     "status": "completed"
    },
    "tags": []
   },
   "outputs": [
    {
     "name": "stdout",
     "output_type": "stream",
     "text": [
      "179\n"
     ]
    },
    {
     "name": "stderr",
     "output_type": "stream",
     "text": [
      "/tmp/ipykernel_18/2668710259.py:3: SettingWithCopyWarning: \n",
      "A value is trying to be set on a copy of a slice from a DataFrame\n",
      "\n",
      "See the caveats in the documentation: https://pandas.pydata.org/pandas-docs/stable/user_guide/indexing.html#returning-a-view-versus-a-copy\n",
      "  test_X.fillna(test_X.mean(), inplace=True)\n"
     ]
    }
   ],
   "source": [
    "# Prepare the test data\n",
    "test_X = test_df[['Pclass', 'Age', 'Fare', 'SibSp', 'Parch']]\n",
    "test_X.fillna(test_X.mean(), inplace=True)\n",
    "# Make predictions\n",
    "test_predictions = model.predict(test_X)\n",
    "\n",
    "submission_df = pd.DataFrame({\n",
    "    'PassengerId': test_df['PassengerId'],\n",
    "    'Survived': test_predictions\n",
    "})\n",
    "\n",
    "print(submission_df['Survived'].sum())"
   ]
  },
  {
   "cell_type": "code",
   "execution_count": null,
   "id": "ebfe77ca",
   "metadata": {
    "papermill": {
     "duration": 0.005933,
     "end_time": "2024-08-02T21:28:06.076330",
     "exception": false,
     "start_time": "2024-08-02T21:28:06.070397",
     "status": "completed"
    },
    "tags": []
   },
   "outputs": [],
   "source": []
  }
 ],
 "metadata": {
  "kaggle": {
   "accelerator": "none",
   "dataSources": [
    {
     "databundleVersionId": 26502,
     "sourceId": 3136,
     "sourceType": "competition"
    }
   ],
   "dockerImageVersionId": 30746,
   "isGpuEnabled": false,
   "isInternetEnabled": true,
   "language": "python",
   "sourceType": "notebook"
  },
  "kernelspec": {
   "display_name": "Python 3",
   "language": "python",
   "name": "python3"
  },
  "language_info": {
   "codemirror_mode": {
    "name": "ipython",
    "version": 3
   },
   "file_extension": ".py",
   "mimetype": "text/x-python",
   "name": "python",
   "nbconvert_exporter": "python",
   "pygments_lexer": "ipython3",
   "version": "3.10.13"
  },
  "papermill": {
   "default_parameters": {},
   "duration": 8.362426,
   "end_time": "2024-08-02T21:28:06.805757",
   "environment_variables": {},
   "exception": null,
   "input_path": "__notebook__.ipynb",
   "output_path": "__notebook__.ipynb",
   "parameters": {},
   "start_time": "2024-08-02T21:27:58.443331",
   "version": "2.5.0"
  }
 },
 "nbformat": 4,
 "nbformat_minor": 5
}
