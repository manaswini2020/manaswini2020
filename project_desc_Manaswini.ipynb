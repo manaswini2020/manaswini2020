{
 "cells": [
  {
   "cell_type": "markdown",
   "metadata": {},
   "source": [
    "This project is for the class of OPS802. The target of the project is to have a hands on full data analytics experience from A to Z. That means starting with raw data and reading it into python then doing some analytical and statstical observations on the data and finally doing some supervised and unsupervised learning on the data. The data we will use for this project is one of the most famous datasets in the machine learning world which is called IRIS classification dataset. That means there is plenty of resources for you online to learn from and that you are not the first person who saw and analyzed this data. Use this to your advantage. The Iris flower data set or Fisher's Iris data set is a multivariate data set introduced by the British statistician and biologist Ronald Fisher in his 1936 paper \"The use of multiple measurements in taxonomic problems\" as an example of linear discriminant analysis. We will describe it more in details later. The project measures the capabilities of lodaing data, cleaning it up, running some tests and statistical analysis and finally machine learning. The following highlights the project\n",
    "-  The project consists of four parts, they are mostly independent and in order based on what we studies in class\n",
    "-  The deadline of the project is the last day of the quarter\n",
    "-  The project is individual, however I encourage you to talk to each other to check your different approaches without copying codes or talking about detailed code specific. For example, it is ok to ask about which function you have used to tackle part a and is it better than this other function or not. It is not ok to copy the exact code including that function you asked about.\n",
    "- You are expected to heavily utilize resources outside the class notebooks such as Google, StackOverflow, .. etc\n",
    "- Code cleanings and Display has 10% of the grade"
   ]
  },
  {
   "cell_type": "code",
   "execution_count": null,
   "metadata": {},
   "outputs": [],
   "source": []
  },
  {
   "cell_type": "markdown",
   "metadata": {},
   "source": [
    "# Part1: Data Loading and Cleaning up\n",
    "The iris flower dataset consists of 150 collected observations for different flower's charachteristics. The dataset contains four attributes. These four attributes help decide which Iris class does the flower belong to. The four attributes are sepal length, sepal width, petal length, and petal width; all in cm. The data set contains 3 classes Iris Setosa, Iris Versicolour, and Iris Virginica. For more info about the dataset, you can chek [this link](https://en.wikipedia.org/wiki/Iris_flower_data_set). The end target of the project will be to build a model that can predict, based on the four attributes, which class does the flower belong to.\n",
    "\n",
    "In the first part of the project we will start by loading the data and cleaning up any problems within the data. "
   ]
  },
  {
   "cell_type": "markdown",
   "metadata": {},
   "source": [
    "- load the Iris dataset using the file iris.data. You can open it with any text editor to find out how it looks like. Decide which separator you would like to use and if any rows needs to be skipped\n",
    "<br>\n",
    "Now let's do some exploring\n",
    "- How many rows and colums are in the file\n",
    "- How many nulls in the file\n",
    "- Which rows contains nans and how many nans in each of these rows\n",
    "- How many nans per columns?\n",
    "- The 36th sample should be: 4.9,3.1,1.5,0.2,\"Iris-setosa\" based on the original paper. Is that what you have? If not, fix it\n",
    "- The 39th sample: 4.9,3.6,1.4,0.1,\"Iris-setosa\",  where the errors are in the second and third features. Fix it"
   ]
  },
  {
   "cell_type": "code",
   "execution_count": 1,
   "metadata": {},
   "outputs": [
    {
     "data": {
      "text/html": [
       "<div>\n",
       "<style scoped>\n",
       "    .dataframe tbody tr th:only-of-type {\n",
       "        vertical-align: middle;\n",
       "    }\n",
       "\n",
       "    .dataframe tbody tr th {\n",
       "        vertical-align: top;\n",
       "    }\n",
       "\n",
       "    .dataframe thead th {\n",
       "        text-align: right;\n",
       "    }\n",
       "</style>\n",
       "<table border=\"1\" class=\"dataframe\">\n",
       "  <thead>\n",
       "    <tr style=\"text-align: right;\">\n",
       "      <th></th>\n",
       "      <th>0</th>\n",
       "      <th>1</th>\n",
       "      <th>2</th>\n",
       "      <th>3</th>\n",
       "      <th>4</th>\n",
       "    </tr>\n",
       "  </thead>\n",
       "  <tbody>\n",
       "    <tr>\n",
       "      <th>0</th>\n",
       "      <td>5.1</td>\n",
       "      <td>3.5</td>\n",
       "      <td>1.4</td>\n",
       "      <td>0.2</td>\n",
       "      <td>Iris-setosa</td>\n",
       "    </tr>\n",
       "    <tr>\n",
       "      <th>1</th>\n",
       "      <td># this data is for IRIS</td>\n",
       "      <td>NaN</td>\n",
       "      <td>NaN</td>\n",
       "      <td>NaN</td>\n",
       "      <td>NaN</td>\n",
       "    </tr>\n",
       "    <tr>\n",
       "      <th>2</th>\n",
       "      <td>4.9</td>\n",
       "      <td>3.0</td>\n",
       "      <td>1.4</td>\n",
       "      <td>0.2</td>\n",
       "      <td>Iris-setosa</td>\n",
       "    </tr>\n",
       "    <tr>\n",
       "      <th>3</th>\n",
       "      <td>4.7</td>\n",
       "      <td>3.2</td>\n",
       "      <td>1.3</td>\n",
       "      <td>0.2</td>\n",
       "      <td>Iris-setosa</td>\n",
       "    </tr>\n",
       "    <tr>\n",
       "      <th>4</th>\n",
       "      <td>4.6</td>\n",
       "      <td>3.1</td>\n",
       "      <td>1.5</td>\n",
       "      <td>0.2</td>\n",
       "      <td>Iris-setosa</td>\n",
       "    </tr>\n",
       "    <tr>\n",
       "      <th>...</th>\n",
       "      <td>...</td>\n",
       "      <td>...</td>\n",
       "      <td>...</td>\n",
       "      <td>...</td>\n",
       "      <td>...</td>\n",
       "    </tr>\n",
       "    <tr>\n",
       "      <th>150</th>\n",
       "      <td>6.7</td>\n",
       "      <td>3.0</td>\n",
       "      <td>5.2</td>\n",
       "      <td>2.3</td>\n",
       "      <td>Iris-virginica</td>\n",
       "    </tr>\n",
       "    <tr>\n",
       "      <th>151</th>\n",
       "      <td>6.3</td>\n",
       "      <td>2.5</td>\n",
       "      <td>5.0</td>\n",
       "      <td>1.9</td>\n",
       "      <td>Iris-virginica</td>\n",
       "    </tr>\n",
       "    <tr>\n",
       "      <th>152</th>\n",
       "      <td>6.5</td>\n",
       "      <td>3.0</td>\n",
       "      <td>5.2</td>\n",
       "      <td>2.0</td>\n",
       "      <td>Iris-virginica</td>\n",
       "    </tr>\n",
       "    <tr>\n",
       "      <th>153</th>\n",
       "      <td>6.2</td>\n",
       "      <td>3.4</td>\n",
       "      <td>5.4</td>\n",
       "      <td>2.3</td>\n",
       "      <td>Iris-virginica</td>\n",
       "    </tr>\n",
       "    <tr>\n",
       "      <th>154</th>\n",
       "      <td>5.9</td>\n",
       "      <td>3.0</td>\n",
       "      <td>5.1</td>\n",
       "      <td>1.8</td>\n",
       "      <td>Iris-virginica</td>\n",
       "    </tr>\n",
       "  </tbody>\n",
       "</table>\n",
       "<p>155 rows × 5 columns</p>\n",
       "</div>"
      ],
      "text/plain": [
       "                           0    1    2    3               4\n",
       "0                        5.1  3.5  1.4  0.2     Iris-setosa\n",
       "1    # this data is for IRIS  NaN  NaN  NaN             NaN\n",
       "2                        4.9  3.0  1.4  0.2     Iris-setosa\n",
       "3                        4.7  3.2  1.3  0.2     Iris-setosa\n",
       "4                        4.6  3.1  1.5  0.2     Iris-setosa\n",
       "..                       ...  ...  ...  ...             ...\n",
       "150                      6.7  3.0  5.2  2.3  Iris-virginica\n",
       "151                      6.3  2.5  5.0  1.9  Iris-virginica\n",
       "152                      6.5  3.0  5.2  2.0  Iris-virginica\n",
       "153                      6.2  3.4  5.4  2.3  Iris-virginica\n",
       "154                      5.9  3.0  5.1  1.8  Iris-virginica\n",
       "\n",
       "[155 rows x 5 columns]"
      ]
     },
     "execution_count": 1,
     "metadata": {},
     "output_type": "execute_result"
    }
   ],
   "source": [
    "# Solve Here\n",
    "import pandas as pd\n",
    "df1=pd.read_csv(\"iris_not_clean.data\", sep=\"|\", header=None) #Loading the file with | separator \n",
    "df1"
   ]
  },
  {
   "cell_type": "code",
   "execution_count": 2,
   "metadata": {},
   "outputs": [
    {
     "name": "stdout",
     "output_type": "stream",
     "text": [
      "nummber of rows: 155\n",
      "number of columns: 5\n"
     ]
    }
   ],
   "source": [
    "#rows and columns number\n",
    "no_of_rows=len(df1)\n",
    "no_of_columns=len(df1.columns)\n",
    "print(\"nummber of rows:\",no_of_rows)\n",
    "print(\"number of columns:\",no_of_columns)"
   ]
  },
  {
   "cell_type": "code",
   "execution_count": 3,
   "metadata": {},
   "outputs": [
    {
     "data": {
      "text/plain": [
       "17"
      ]
     },
     "execution_count": 3,
     "metadata": {},
     "output_type": "execute_result"
    }
   ],
   "source": [
    "#number of nulls in the data\n",
    "df1.isna().sum().sum()"
   ]
  },
  {
   "cell_type": "code",
   "execution_count": 4,
   "metadata": {},
   "outputs": [
    {
     "data": {
      "text/plain": [
       "0      0\n",
       "1      4\n",
       "2      0\n",
       "3      0\n",
       "4      0\n",
       "      ..\n",
       "150    0\n",
       "151    0\n",
       "152    0\n",
       "153    0\n",
       "154    0\n",
       "Length: 155, dtype: int64"
      ]
     },
     "execution_count": 4,
     "metadata": {},
     "output_type": "execute_result"
    }
   ],
   "source": [
    " df1.isnull().sum(axis=1)   #each row contain how many nulls"
   ]
  },
  {
   "cell_type": "code",
   "execution_count": 5,
   "metadata": {},
   "outputs": [
    {
     "data": {
      "text/html": [
       "<div>\n",
       "<style scoped>\n",
       "    .dataframe tbody tr th:only-of-type {\n",
       "        vertical-align: middle;\n",
       "    }\n",
       "\n",
       "    .dataframe tbody tr th {\n",
       "        vertical-align: top;\n",
       "    }\n",
       "\n",
       "    .dataframe thead th {\n",
       "        text-align: right;\n",
       "    }\n",
       "</style>\n",
       "<table border=\"1\" class=\"dataframe\">\n",
       "  <thead>\n",
       "    <tr style=\"text-align: right;\">\n",
       "      <th></th>\n",
       "      <th>0</th>\n",
       "      <th>1</th>\n",
       "      <th>2</th>\n",
       "      <th>3</th>\n",
       "      <th>4</th>\n",
       "    </tr>\n",
       "  </thead>\n",
       "  <tbody>\n",
       "    <tr>\n",
       "      <th>1</th>\n",
       "      <td># this data is for IRIS</td>\n",
       "      <td>NaN</td>\n",
       "      <td>NaN</td>\n",
       "      <td>NaN</td>\n",
       "      <td>NaN</td>\n",
       "    </tr>\n",
       "    <tr>\n",
       "      <th>29</th>\n",
       "      <td>5.2</td>\n",
       "      <td>3.4</td>\n",
       "      <td>NaN</td>\n",
       "      <td>0.2</td>\n",
       "      <td>Iris-setosa</td>\n",
       "    </tr>\n",
       "    <tr>\n",
       "      <th>30</th>\n",
       "      <td>NaN</td>\n",
       "      <td>NaN</td>\n",
       "      <td>NaN</td>\n",
       "      <td>NaN</td>\n",
       "      <td>NaN</td>\n",
       "    </tr>\n",
       "    <tr>\n",
       "      <th>34</th>\n",
       "      <td>#is this correct?</td>\n",
       "      <td>NaN</td>\n",
       "      <td>NaN</td>\n",
       "      <td>NaN</td>\n",
       "      <td>NaN</td>\n",
       "    </tr>\n",
       "    <tr>\n",
       "      <th>46</th>\n",
       "      <td>NaN</td>\n",
       "      <td>3.2</td>\n",
       "      <td>2.1</td>\n",
       "      <td>NaN</td>\n",
       "      <td>NaN</td>\n",
       "    </tr>\n",
       "  </tbody>\n",
       "</table>\n",
       "</div>"
      ],
      "text/plain": [
       "                          0    1    2    3            4\n",
       "1   # this data is for IRIS  NaN  NaN  NaN          NaN\n",
       "29                      5.2  3.4  NaN  0.2  Iris-setosa\n",
       "30                      NaN  NaN  NaN  NaN          NaN\n",
       "34        #is this correct?  NaN  NaN  NaN          NaN\n",
       "46                      NaN  3.2  2.1  NaN          NaN"
      ]
     },
     "execution_count": 5,
     "metadata": {},
     "output_type": "execute_result"
    }
   ],
   "source": [
    "#which row contain nulls\n",
    "df1[df1.isna().any(axis=1)]"
   ]
  },
  {
   "cell_type": "code",
   "execution_count": 6,
   "metadata": {},
   "outputs": [
    {
     "data": {
      "text/plain": [
       "0    2\n",
       "1    3\n",
       "2    4\n",
       "3    4\n",
       "4    4\n",
       "dtype: int64"
      ]
     },
     "execution_count": 6,
     "metadata": {},
     "output_type": "execute_result"
    }
   ],
   "source": [
    "df1.isnull().sum(axis = 0)  #how many nans per column"
   ]
  },
  {
   "cell_type": "code",
   "execution_count": 7,
   "metadata": {},
   "outputs": [
    {
     "data": {
      "text/plain": [
       "0            5.5\n",
       "1            4.2\n",
       "2            1.4\n",
       "3            0.2\n",
       "4    Iris-setosa\n",
       "Name: 36, dtype: object"
      ]
     },
     "execution_count": 7,
     "metadata": {},
     "output_type": "execute_result"
    }
   ],
   "source": [
    "#36th row data\n",
    "df2=df1.iloc[36]\n",
    "df2\n",
    "\n",
    "    "
   ]
  },
  {
   "cell_type": "code",
   "execution_count": 8,
   "metadata": {},
   "outputs": [
    {
     "data": {
      "text/plain": [
       "0            4.9\n",
       "1            3.1\n",
       "2            1.5\n",
       "3            0.2\n",
       "4    Iris-setosa\n",
       "Name: 36, dtype: object"
      ]
     },
     "execution_count": 8,
     "metadata": {},
     "output_type": "execute_result"
    }
   ],
   "source": [
    "#replacing the value of 36 th sample to the value of original paper\n",
    "df1.iloc[[36],[0]]=4.9\n",
    "df1.iloc[[36],[1]]=3.1\n",
    "df1.iloc[[36],[2]]=1.5\n",
    "dff=df1.iloc[36]\n",
    "dff\n"
   ]
  },
  {
   "cell_type": "code",
   "execution_count": 9,
   "metadata": {},
   "outputs": [
    {
     "data": {
      "text/plain": [
       "0            5.5\n",
       "1            3.5\n",
       "2            1.3\n",
       "3            0.2\n",
       "4    Iris-setosa\n",
       "Name: 39, dtype: object"
      ]
     },
     "execution_count": 9,
     "metadata": {},
     "output_type": "execute_result"
    }
   ],
   "source": [
    "#39th sample\n",
    "df3=df1.iloc[39]\n",
    "df3"
   ]
  },
  {
   "cell_type": "code",
   "execution_count": 10,
   "metadata": {},
   "outputs": [
    {
     "data": {
      "text/plain": [
       "0            4.9\n",
       "1            3.6\n",
       "2            1.4\n",
       "3            0.1\n",
       "4    Iris-setosa\n",
       "Name: 39, dtype: object"
      ]
     },
     "execution_count": 10,
     "metadata": {},
     "output_type": "execute_result"
    }
   ],
   "source": [
    "#replacing the value of 39th sample\n",
    "df1.iloc[[39],[0]]=4.9\n",
    "df1.iloc[[39],[1]]=3.6\n",
    "df1.iloc[[39],[2]]=1.4\n",
    "df1.iloc[[39],[3]]=0.1\n",
    "dff2=df1.iloc[39]\n",
    "dff2"
   ]
  },
  {
   "cell_type": "markdown",
   "metadata": {},
   "source": [
    "# Part 2: Stastical Exploring\n",
    "In this part we will understand a little more about the data and do some cool plottings\n",
    "- What is the mean and variance for each column and use the function describe to get insights about the data\n",
    "- Drop the nan rows\n",
    "- Recaluclate the mean and variance for each column\n",
    "- What is the correlation between the fourth column and each of the other three columns individually? Any observations\n",
    "- How many records exist for each class. # Hint, you can do this in one line by using groupby\n",
    "- Change the random seed to 1234 and randomly pick 20 samples of the data and display it\n",
    "- Plot histogram for all the data attributes\n",
    "- Plot histogram for all the data attributes per class, i.e. grouped by classes"
   ]
  },
  {
   "cell_type": "code",
   "execution_count": 11,
   "metadata": {},
   "outputs": [
    {
     "name": "stdout",
     "output_type": "stream",
     "text": [
      "mean values for each column:\n",
      " 1    3.050658\n",
      "2    3.748344\n",
      "3    1.191391\n",
      "dtype: float64\n",
      "variance of each column:\n",
      " 1    0.178410\n",
      "2    3.107581\n",
      "3    0.586525\n",
      "dtype: float64\n"
     ]
    }
   ],
   "source": [
    "# Solve Here\n",
    "#mean of each column\n",
    "mean=df1.mean(numeric_only=True)\n",
    "print(\"mean values for each column:\\n\",mean)\n",
    "#variance of each column\n",
    "var=df1.var(numeric_only=True)\n",
    "print(\"variance of each column:\\n\",var)\n"
   ]
  },
  {
   "cell_type": "code",
   "execution_count": 12,
   "metadata": {},
   "outputs": [],
   "source": [
    "#drop the NaN rows\n",
    "df1.dropna(inplace=True)"
   ]
  },
  {
   "cell_type": "code",
   "execution_count": 13,
   "metadata": {},
   "outputs": [],
   "source": [
    "#As few values are string, need to convert it to float\n",
    "df1.iloc[:,:4]= df1.iloc[:,:4].astype(float)"
   ]
  },
  {
   "cell_type": "code",
   "execution_count": 14,
   "metadata": {},
   "outputs": [
    {
     "name": "stdout",
     "output_type": "stream",
     "text": [
      "mean values for each column:\n",
      " 0    5.830000\n",
      "1    3.047333\n",
      "2    3.759333\n",
      "3    1.198000\n",
      "dtype: float64\n",
      "variance of each column:\n",
      " 0    0.707081\n",
      "1    0.179825\n",
      "2    3.110080\n",
      "3    0.583821\n",
      "dtype: float64\n"
     ]
    }
   ],
   "source": [
    "#after droping NAN rows recalculating mean and variance\n",
    "mean=df1.mean(numeric_only=True)\n",
    "print(\"mean values for each column:\\n\",mean)\n",
    "#variance of each column\n",
    "var=df1.var(numeric_only=True)\n",
    "print(\"variance of each column:\\n\",var)\n",
    "\n"
   ]
  },
  {
   "cell_type": "markdown",
   "metadata": {},
   "source": [
    "# Part 3: Statistical Analysis \n",
    "In this part, you will explore some curve fitting and dimensionality reductions attributes\n"
   ]
  },
  {
   "cell_type": "markdown",
   "metadata": {},
   "source": [
    "- Use Scipy pdf fitting to do a curve fitting for the petal-length\n",
    "- Plot the normalized histogrm of the petal-length and the estimated pdf on the same figure\n",
    "- Generate new 500 samples using the estimated pdf for the petal-length \n",
    "- Calculate the mean of the new samples and compare how close it is to the mean of the given data"
   ]
  },
  {
   "cell_type": "code",
   "execution_count": 15,
   "metadata": {},
   "outputs": [
    {
     "data": {
      "text/plain": [
       "Text(0.5, 0, 'The petal length')"
      ]
     },
     "execution_count": 15,
     "metadata": {},
     "output_type": "execute_result"
    },
    {
     "data": {
      "image/png": "[encoded data removed]",
      "text/plain": [
       "<Figure size 640x480 with 1 Axes>"
      ]
     },
     "metadata": {},
     "output_type": "display_data"
    }
   ],
   "source": [
    "# Solve Here\n",
    "import scipy.stats\n",
    "import numpy as np\n",
    "import matplotlib.pyplot as plt\n",
    "from scipy.stats import norm\n",
    "\n",
    "df1.plot.hist(bins=np.arange(0,6 + 0.2,0.2), density=True)\n",
    "plt.title('The normalized histogram of Petal length')\n",
    "plt.ylabel('The density')\n",
    "plt.xlabel('The petal length')"
   ]
  },
  {
   "cell_type": "code",
   "execution_count": 16,
   "metadata": {},
   "outputs": [
    {
     "data": {
      "text/plain": [
       "<matplotlib.legend.Legend at 0x2ba24447790>"
      ]
     },
     "execution_count": 16,
     "metadata": {},
     "output_type": "execute_result"
    },
    {
     "data": {
      "image/png": "[encoded data removed]",
      "text/plain": [
       "<Figure size 800x600 with 1 Axes>"
      ]
     },
     "metadata": {},
     "output_type": "display_data"
    }
   ],
   "source": [
    "\n",
    "np.random.seed(12456)\n",
    "x1 = np.random.normal(size=200)  # random data, normal distribution\n",
    "xs = np.linspace(x1.min()-1, x1.max()+1, 200) # generate the data that we will predict for\n",
    "\n",
    "kde1 = scipy.stats.gaussian_kde(x1)  # find out the best fit\n",
    "\n",
    "fig = plt.figure(figsize=(8, 6))\n",
    "\n",
    "plt.hist(x1, density=True, label='Normalized Histogram')  # rug plot\n",
    "plt.plot(xs, kde1(xs), 'k-', label=\"Estimated Density\")  # test your fit\n",
    "plt.plot(xs, scipy.stats.norm.pdf(xs), 'r--', label=\"True PDF\")  # show the real distribution\n",
    "plt.xlabel('Samples')\n",
    "plt.ylabel('Density')\n",
    "plt.legend()"
   ]
  },
  {
   "cell_type": "code",
   "execution_count": 17,
   "metadata": {},
   "outputs": [
    {
     "data": {
      "text/plain": [
       "array([ 3.43113877,  2.73826566,  2.95780136,  4.17408157,  5.14330473,\n",
       "        4.5339312 ,  4.34164761,  2.1075821 ,  0.5391266 ,  2.42505967,\n",
       "       -0.16404973,  0.89033519,  2.7415984 ,  3.45907765,  4.54465635,\n",
       "        3.00108228,  3.55311267,  2.59918168,  1.28831603,  3.54823994,\n",
       "        4.02526684,  6.62737924,  1.91430476,  0.87995434,  2.92377427,\n",
       "        1.87969047,  2.83166763,  5.31184119,  5.32679294,  2.42943483,\n",
       "        3.69934474,  2.11734133,  6.65206585,  4.58840559,  4.14380964,\n",
       "        4.7889323 ,  1.14794624,  6.10590365,  3.07611084,  1.27230199,\n",
       "        6.76879189,  2.49404877,  5.99421719,  1.12038582,  4.54279111,\n",
       "        3.32865731,  4.20816436,  5.1374508 ,  5.91676273,  4.44975614,\n",
       "        3.92245563,  5.62999968,  2.02272968,  7.24748068,  3.38391888,\n",
       "        3.93902383,  5.25626811,  6.81815092,  1.70446491,  6.58297907,\n",
       "        3.70081264,  2.74795081,  1.6530369 ,  4.22312691,  7.58062627,\n",
       "        3.46687848,  3.165537  ,  5.23498939,  1.42717818,  2.97174576,\n",
       "        3.3277029 ,  4.96296484,  2.45303737,  4.55609155,  1.15394236,\n",
       "        5.16730822,  4.80837663,  2.01052602,  1.82074674,  2.81295374,\n",
       "        3.46295555,  2.79444219,  1.74390174,  4.12793849,  3.21120582,\n",
       "        0.05898635,  5.44967652,  3.57947061,  3.37861556,  4.19551046,\n",
       "        2.82281049,  1.09241104,  2.97549208,  1.9146248 ,  6.81924854,\n",
       "        5.56869801,  4.17130044,  4.14288934,  4.00929002,  4.34991499,\n",
       "        4.39557488,  3.84361043,  1.68109194,  4.96630605,  4.86510306,\n",
       "        4.16956166,  2.26353331,  1.12079121,  4.7926937 ,  0.79335727,\n",
       "        2.75017338,  3.02973365,  2.53855321,  5.78714372,  0.05692031,\n",
       "        2.60225193,  5.03860355,  2.39180861,  6.09284423,  6.23095121,\n",
       "        3.52678838,  4.10627056,  4.10040931,  1.83834978,  4.01061594,\n",
       "        3.48048678,  2.10551461,  4.98979905,  3.53460816,  2.81011768,\n",
       "        2.10705792,  0.70000627,  0.06278518,  2.69728423,  3.10209088,\n",
       "        5.8264634 ,  3.68829337,  3.46771957,  2.72306165,  2.92487497,\n",
       "        2.84311986,  1.71173683,  4.85868035,  4.25003487,  5.55960567,\n",
       "        3.97659288,  6.18139163,  4.5935262 ,  4.34144651,  3.0599183 ,\n",
       "        3.45201138,  3.84681577,  2.9240285 , -0.36627113,  0.82121422,\n",
       "        3.99060406,  2.13776331,  4.82986851,  5.08580664,  4.35170546,\n",
       "       -1.30157496, -0.36758248,  2.88217597,  3.5898298 ,  4.24766065,\n",
       "        5.9669993 ,  1.70145826,  3.22834504,  7.29498869,  3.13357078,\n",
       "        2.46547067,  3.4239991 ,  3.09236281,  3.77106001,  8.81436379,\n",
       "        4.65032261,  2.8281499 ,  2.99185727,  4.97922094,  4.06405984,\n",
       "        4.08849653,  4.20004009,  4.48115831,  3.61281785,  5.0883976 ,\n",
       "        0.86260304,  3.80591398,  4.49182303,  4.14963653,  3.97644834,\n",
       "        3.74249996,  6.53768558,  3.59554698,  3.52334033,  2.39025455,\n",
       "        2.18777367,  4.93928793,  2.55039119,  4.94475175,  2.46492515,\n",
       "        4.86375533,  5.93678539,  3.51145673,  4.71831371,  2.97779805,\n",
       "        2.75813081,  2.05374313,  6.43268192,  5.65905785,  4.24680571,\n",
       "        4.12802143,  1.52544339,  3.5095747 ,  5.64892116,  1.16373901,\n",
       "        4.23551968,  3.02579113,  6.08033999,  2.91019919,  3.89623597,\n",
       "        4.31086547,  2.41425241,  1.52681045,  3.23240972,  5.74324085,\n",
       "        3.9715957 ,  1.20891559,  6.18533458,  2.7869747 ,  5.55366228,\n",
       "        3.25229688,  4.65663428,  1.88204797,  2.52567833,  6.37003772,\n",
       "        1.55042945,  6.02792135,  3.30545685,  0.55661813,  3.55024336,\n",
       "        4.34451367,  2.74235339,  3.68291513,  4.64599388,  2.92256824,\n",
       "        4.39332083,  5.0107153 ,  2.43705245,  4.9307721 ,  3.1207064 ,\n",
       "        0.87229173,  6.55067784,  2.5473513 ,  3.58374031,  3.7339269 ,\n",
       "        3.66140653,  5.19619205,  5.34747608,  4.51911089,  6.57562044,\n",
       "        3.70840045,  4.7295844 ,  5.45714022,  4.86814924,  3.5514062 ,\n",
       "        3.58897663,  2.51780903,  1.47105332,  5.27833845,  2.00809286,\n",
       "        3.58652506,  6.64765358,  2.21963638,  2.70162502,  8.06203411,\n",
       "        6.05977367,  3.31935299,  1.57140145,  0.95327096,  3.79206416,\n",
       "        6.32101474,  6.32939705,  2.43369978,  4.14263086,  3.0111448 ,\n",
       "        2.16137803,  5.0725944 ,  4.87273734,  4.62707109,  3.52856703,\n",
       "        2.66150668,  2.53027663,  2.17950864,  6.59082547,  0.3710205 ,\n",
       "        5.11131766,  6.77886139,  5.36456732,  6.79210391,  5.14308908,\n",
       "        4.87748056,  1.17606933,  2.39891706,  5.10173238,  2.13184564,\n",
       "        2.300846  ,  6.1459851 ,  2.58435366,  3.92265917,  1.11202251,\n",
       "        5.17861741,  4.03166105,  5.28214626,  3.97310013,  3.34965738,\n",
       "        3.18477316,  4.62012166,  5.05454717,  0.75809856,  4.90495552,\n",
       "        5.57562981,  2.95381914,  3.90125907,  5.02163268,  3.25738439,\n",
       "        3.12570075,  8.92139819,  4.9361513 ,  2.26823147,  5.62661791,\n",
       "        6.09468836,  3.79414276,  7.79413103,  3.03204345,  2.77464656,\n",
       "        3.27096523,  3.27896209, -0.27677798,  3.99799792,  3.66236933,\n",
       "        5.57679626,  4.40617411,  5.48510797,  3.03104755,  2.24096963,\n",
       "        3.23945768,  2.84559329,  1.02525146,  4.71109452,  1.61423203,\n",
       "        4.47253112,  3.56661832,  1.62893022,  5.66491823,  6.65487021,\n",
       "        7.15402377, -3.26586479,  6.83423392,  3.13401247,  1.30984447,\n",
       "        4.45862973,  2.94804882,  2.00115986,  3.51317598,  4.64516861,\n",
       "        4.71925323,  4.04988106,  4.30397126,  2.57297701,  1.20015323,\n",
       "        1.48086053,  1.51331275,  3.27467802,  1.81027322,  3.26915843,\n",
       "        3.94744151,  5.13160321,  1.41295213,  5.19714216,  5.88800415,\n",
       "        2.34139205,  2.61316027,  4.99658113,  4.53081157,  3.49713981,\n",
       "        2.77135041,  3.80853607,  4.42408726,  4.04149755,  1.89625461,\n",
       "        4.08760137,  2.2169675 ,  0.55840376,  4.45235264,  0.1108663 ,\n",
       "        5.44240782,  2.31895774,  5.91218181,  5.21831572,  1.49321346,\n",
       "        5.71889304,  6.02769124,  1.18070241,  3.80934481,  3.60801341,\n",
       "        3.00477053,  1.9028739 ,  4.20322359,  5.73792761,  1.7849345 ,\n",
       "        2.58983779,  1.52533441,  2.12816881,  6.15502551, -0.14601947,\n",
       "        4.07412283,  2.39667399,  1.99087259,  6.93029955,  4.48355512,\n",
       "        1.13493417,  4.27966911,  1.66450208,  3.80987235,  2.56501848,\n",
       "        4.64291192,  2.15991953,  4.48293364,  3.61049431,  4.5578251 ,\n",
       "        4.99504788,  5.82164391,  4.02168375,  4.67401832,  5.62891402,\n",
       "        5.52396683,  2.53006888,  3.3076665 ,  4.07151495,  2.49013155,\n",
       "        2.01362366,  2.73255613,  4.14902284,  3.0264878 ,  5.33891419,\n",
       "        3.89332584,  1.83389126,  4.84713853,  2.57705612,  6.99048311,\n",
       "        5.26971128,  4.34920598,  2.4922415 ,  2.97378564,  4.64642262,\n",
       "        5.60204946,  2.62799897,  6.21610768,  5.45164177,  3.0861237 ,\n",
       "        2.62062864,  4.70268745,  1.75374313,  2.96543595,  2.48605783,\n",
       "        2.109882  ,  3.03220813,  3.36918657,  1.7119178 ,  2.78736308,\n",
       "        4.3291856 ,  1.75437952,  2.41749591,  4.22626121,  4.09326804,\n",
       "        5.32320369,  5.72120231,  1.93111377,  4.03712564,  1.61203195,\n",
       "        2.28895995,  3.62087936,  4.20842613,  0.45903214, -0.3581092 ,\n",
       "        4.87316102,  6.11350895,  4.26963071,  4.25182222,  5.1041376 ,\n",
       "        3.26539603,  0.12473583,  2.54595701,  1.57922521,  4.64883395,\n",
       "        1.96898637,  5.60535326,  3.93520556,  4.97024677,  8.02982866])"
      ]
     },
     "execution_count": 17,
     "metadata": {},
     "output_type": "execute_result"
    }
   ],
   "source": [
    "#data by taking 500 samples\n",
    "from scipy.stats import norm\n",
    "new_data = norm.rvs(3.76, 1.76, size=500)\n",
    "new_data"
   ]
  },
  {
   "cell_type": "code",
   "execution_count": 18,
   "metadata": {},
   "outputs": [
    {
     "name": "stdout",
     "output_type": "stream",
     "text": [
      "3.6458945401023706\n"
     ]
    }
   ],
   "source": [
    "print(np.mean(new_data))#new mean of 500 samples \n",
    "#Existing - 3.76 "
   ]
  },
  {
   "cell_type": "markdown",
   "metadata": {},
   "source": [
    "### PCA\n",
    "- Use Scikit to do PCA on the IRIS dataset\n",
    "- do a bar plot that shows the importance of info in each of the new dimensions\n",
    "- use PCA to reduce the number of attributes by 1. Note that for all the next parts, you will use the reduced data"
   ]
  },
  {
   "cell_type": "code",
   "execution_count": 19,
   "metadata": {},
   "outputs": [],
   "source": [
    "# Solve Here\n",
    "data2= df1.drop(df1.columns[4], axis=1) #dropping the 4th column of string then we can work on digits only\n",
    "from sklearn.decomposition import PCA\n",
    "pca = PCA()\n",
    "X_new = pca.fit_transform(data2)\n"
   ]
  },
  {
   "cell_type": "code",
   "execution_count": 20,
   "metadata": {},
   "outputs": [
    {
     "data": {
      "text/plain": [
       "array([[ 0.70708054, -0.0412953 ,  1.30545638,  0.53093289],\n",
       "       [-0.0412953 ,  0.17982506, -0.30578031, -0.11164966],\n",
       "       [ 1.30545638, -0.30578031,  3.11008009,  1.29730067],\n",
       "       [ 0.53093289, -0.11164966,  1.29730067,  0.58382148]])"
      ]
     },
     "execution_count": 20,
     "metadata": {},
     "output_type": "execute_result"
    }
   ],
   "source": [
    "pca.get_covariance()"
   ]
  },
  {
   "cell_type": "code",
   "execution_count": 21,
   "metadata": {},
   "outputs": [
    {
     "data": {
      "text/plain": [
       "(150, 4)"
      ]
     },
     "execution_count": 21,
     "metadata": {},
     "output_type": "execute_result"
    },
    {
     "data": {
      "image/png": "[encoded data removed]",
      "text/plain": [
       "<Figure size 640x480 with 1 Axes>"
      ]
     },
     "metadata": {},
     "output_type": "display_data"
    }
   ],
   "source": [
    "\n",
    "pca_all = PCA()\n",
    "reduced_data_pca = pca_all.fit_transform(X_new)\n",
    "pca_all.explained_variance_ratio_\n",
    "plt.bar(np.arange(4),pca_all.explained_variance_ratio_)\n",
    "reduced_data_pca.shape"
   ]
  },
  {
   "cell_type": "code",
   "execution_count": 22,
   "metadata": {},
   "outputs": [],
   "source": [
    "#Use pca to reduced the nummber of attribute to 1\n",
    "pca=PCA(n_components=1)\n",
    "X_new=pca.fit_transform(data2)\n",
    "\n"
   ]
  },
  {
   "cell_type": "code",
   "execution_count": 23,
   "metadata": {},
   "outputs": [
    {
     "data": {
      "text/plain": [
       "<BarContainer object of 4 artists>"
      ]
     },
     "execution_count": 23,
     "metadata": {},
     "output_type": "execute_result"
    },
    {
     "data": {
      "image/png": "[encoded data removed]",
      "text/plain": [
       "<Figure size 640x480 with 1 Axes>"
      ]
     },
     "metadata": {},
     "output_type": "display_data"
    }
   ],
   "source": [
    "# Inspect the shape\n",
    "X_new.shape\n",
    "plt.bar(np.arange(4),pca.explained_variance_ratio_)\n"
   ]
  },
  {
   "cell_type": "markdown",
   "metadata": {},
   "source": [
    "# Part 4: Machine Learning\n",
    "In this part, you will explore the use of supervised and non supervised learning"
   ]
  },
  {
   "cell_type": "markdown",
   "metadata": {},
   "source": [
    "### Non-Supervised Learning \n",
    "- using Kmeans, divide the data into different clusters. The number of clusters should be the same as the number of categories you have in the data\n",
    "- Do scatter plot for each two combination of the three dimensions together (0 vs 1), (0 vs 2), (1 vs 2). Use the kmeans labels to color the points in the scatter plots"
   ]
  },
  {
   "cell_type": "code",
   "execution_count": 24,
   "metadata": {},
   "outputs": [
    {
     "name": "stdout",
     "output_type": "stream",
     "text": [
      "[[4.966      3.398      1.466      0.242     ]\n",
      " [6.2525     2.855      4.815      1.625     ]\n",
      " [6.9125     3.1        5.846875   2.13125   ]\n",
      " [5.53214286 2.63571429 3.96071429 1.22857143]]\n",
      "[0 0 0 0 0 0 0 0 0 0 0 0 0 0 0 0 0 0 0 0 0 0 0 0 0 0 0 0 0 0 0 0 0 0 0 0 0\n",
      " 0 0 0 0 0 0 0 0 0 0 0 0 0 1 1 1 3 1 3 1 3 1 3 3 3 3 1 3 1 3 3 1 3 1 3 1 1\n",
      " 1 1 1 1 1 3 3 3 3 1 3 1 1 1 3 3 3 1 3 3 3 3 3 1 3 3 2 1 2 2 2 2 3 2 2 2 1\n",
      " 1 2 1 1 2 2 2 2 1 2 1 2 1 2 2 1 1 2 2 2 2 2 1 1 2 2 2 1 2 2 2 1 2 2 2 1 1\n",
      " 2 1]\n"
     ]
    },
    {
     "data": {
      "text/plain": [
       "<matplotlib.collections.PathCollection at 0x2ba28bbf4f0>"
      ]
     },
     "execution_count": 24,
     "metadata": {},
     "output_type": "execute_result"
    },
    {
     "data": {
      "image/png": "[encoded data removed]",
      "text/plain": [
       "<Figure size 640x480 with 1 Axes>"
      ]
     },
     "metadata": {},
     "output_type": "display_data"
    }
   ],
   "source": [
    "# Solve Here\n",
    "data=df1.drop(df1.columns[4], axis=1) #here we drop the 4th column of string which will be helpful to make clusters\n",
    "X=data.to_numpy() #convert dataframe to numpy array\n",
    "import matplotlib.pyplot as plt\n",
    "#devide data into different clusters\n",
    "from sklearn.cluster import KMeans  \n",
    "kmeans = KMeans(n_clusters=4)  \n",
    "kmeans.fit(X)  \n",
    "print(kmeans.cluster_centers_)  \n",
    "print(kmeans.labels_)  \n",
    "plt.scatter(X[:,0],X[:,1], c=kmeans.labels_, cmap='rainbow')  \n"
   ]
  },
  {
   "cell_type": "code",
   "execution_count": 25,
   "metadata": {},
   "outputs": [
    {
     "data": {
      "text/plain": [
       "<matplotlib.collections.PathCollection at 0x2ba28d628e0>"
      ]
     },
     "execution_count": 25,
     "metadata": {},
     "output_type": "execute_result"
    },
    {
     "data": {
      "image/png": "[encoded data removed]",
      "text/plain": [
       "<Figure size 640x480 with 1 Axes>"
      ]
     },
     "metadata": {},
     "output_type": "display_data"
    }
   ],
   "source": [
    "# Solve Here\n",
    "plt.scatter(X[:,0],X[:,2], c=kmeans.labels_, cmap='rainbow') \n",
    "\n"
   ]
  },
  {
   "cell_type": "code",
   "execution_count": 26,
   "metadata": {},
   "outputs": [
    {
     "data": {
      "text/plain": [
       "<matplotlib.collections.PathCollection at 0x2ba28c58df0>"
      ]
     },
     "execution_count": 26,
     "metadata": {},
     "output_type": "execute_result"
    },
    {
     "data": {
      "image/png": "[encoded data removed]",
      "text/plain": [
       "<Figure size 640x480 with 1 Axes>"
      ]
     },
     "metadata": {},
     "output_type": "display_data"
    }
   ],
   "source": [
    "plt.scatter(X[:,1],X[:,2], c=kmeans.labels_, cmap='rainbow')  \n"
   ]
  },
  {
   "cell_type": "markdown",
   "metadata": {},
   "source": [
    "### Supervised-Learning\n",
    "- Divide your dataset to 80% training and 20% validation\n",
    "- Build a Logistci regression model for the reduced IRIS dataset\n",
    "- What is the training accuracy\n",
    "- What is the validation accuracy\n",
    "- Form the confusion matrix"
   ]
  },
  {
   "cell_type": "code",
   "execution_count": 27,
   "metadata": {},
   "outputs": [],
   "source": [
    "# Solve Here\n",
    "#devide dataset into 80% and 20% validation\n",
    "from sklearn.model_selection import train_test_split\n",
    "x=df1.iloc[:,:4]\n",
    "y=df1.iloc[:,4]\n",
    "\n",
    "x_train,x_test,y_train,y_test=train_test_split(x,y,test_size=0.2,random_state=1234)\n"
   ]
  },
  {
   "cell_type": "code",
   "execution_count": 28,
   "metadata": {},
   "outputs": [],
   "source": [
    "#build your model\n",
    "from sklearn.linear_model import LogisticRegression\n",
    "my_model=LogisticRegression()\n"
   ]
  },
  {
   "cell_type": "code",
   "execution_count": 29,
   "metadata": {},
   "outputs": [
    {
     "name": "stderr",
     "output_type": "stream",
     "text": [
      "C:\\Users\\monma\\OneDrive\\Documents\\Anaconda\\lib\\site-packages\\sklearn\\linear_model\\_logistic.py:814: ConvergenceWarning: lbfgs failed to converge (status=1):\n",
      "STOP: TOTAL NO. of ITERATIONS REACHED LIMIT.\n",
      "\n",
      "Increase the number of iterations (max_iter) or scale the data as shown in:\n",
      "    https://scikit-learn.org/stable/modules/preprocessing.html\n",
      "Please also refer to the documentation for alternative solver options:\n",
      "    https://scikit-learn.org/stable/modules/linear_model.html#logistic-regression\n",
      "  n_iter_i = _check_optimize_result(\n"
     ]
    },
    {
     "data": {
      "text/plain": [
       "LogisticRegression()"
      ]
     },
     "execution_count": 29,
     "metadata": {},
     "output_type": "execute_result"
    }
   ],
   "source": [
    "my_model.fit(x_train,y_train)"
   ]
  },
  {
   "cell_type": "code",
   "execution_count": 30,
   "metadata": {},
   "outputs": [
    {
     "data": {
      "text/plain": [
       "array(['Iris-versicolor', 'Iris-versicolor', 'Iris-virginica',\n",
       "       'Iris-setosa', 'Iris-versicolor', 'Iris-setosa', 'Iris-setosa',\n",
       "       'Iris-setosa', 'Iris-versicolor', 'Iris-virginica',\n",
       "       'Iris-versicolor', 'Iris-setosa', 'Iris-virginica',\n",
       "       'Iris-versicolor', 'Iris-setosa', 'Iris-versicolor',\n",
       "       'Iris-virginica', 'Iris-setosa', 'Iris-virginica',\n",
       "       'Iris-versicolor', 'Iris-versicolor', 'Iris-versicolor',\n",
       "       'Iris-versicolor', 'Iris-versicolor', 'Iris-virginica',\n",
       "       'Iris-setosa', 'Iris-virginica', 'Iris-versicolor',\n",
       "       'Iris-virginica', 'Iris-setosa'], dtype=object)"
      ]
     },
     "execution_count": 30,
     "metadata": {},
     "output_type": "execute_result"
    }
   ],
   "source": [
    "#training accuracy\n",
    "#test the model\n",
    "predicted = my_model.predict(x_test)\n",
    "predicted\n"
   ]
  },
  {
   "cell_type": "code",
   "execution_count": 31,
   "metadata": {},
   "outputs": [
    {
     "data": {
      "text/plain": [
       "1.0"
      ]
     },
     "execution_count": 31,
     "metadata": {},
     "output_type": "execute_result"
    }
   ],
   "source": [
    "#compare above results with ytest\n",
    "my_model.score(x_test,y_test)"
   ]
  },
  {
   "cell_type": "code",
   "execution_count": 32,
   "metadata": {},
   "outputs": [
    {
     "data": {
      "text/plain": [
       "array([[ 9,  0,  0],\n",
       "       [ 0, 13,  0],\n",
       "       [ 0,  0,  8]], dtype=int64)"
      ]
     },
     "execution_count": 32,
     "metadata": {},
     "output_type": "execute_result"
    }
   ],
   "source": [
    "#confusion matrix calculation\n",
    "from sklearn.metrics import confusion_matrix\n",
    "cm=confusion_matrix(y_test,predicted)\n",
    "cm"
   ]
  },
  {
   "cell_type": "code",
   "execution_count": null,
   "metadata": {},
   "outputs": [],
   "source": []
  }
 ],
 "metadata": {
  "kernelspec": {
   "display_name": "Python 3 (ipykernel)",
   "language": "python",
   "name": "python3"
  },
  "language_info": {
   "codemirror_mode": {
    "name": "ipython",
    "version": 3
   },
   "file_extension": ".py",
   "mimetype": "text/x-python",
   "name": "python",
   "nbconvert_exporter": "python",
   "pygments_lexer": "ipython3",
   "version": "3.9.13"
  }
 },
 "nbformat": 4,
 "nbformat_minor": 4
}
